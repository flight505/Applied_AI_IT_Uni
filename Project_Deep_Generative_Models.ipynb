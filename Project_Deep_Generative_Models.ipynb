{
  "nbformat": 4,
  "nbformat_minor": 2,
  "metadata": {
    "colab": {
      "name": "Project - Deep Generative Models.ipynb",
      "provenance": [],
      "collapsed_sections": []
    },
    "kernelspec": {
      "name": "python3",
      "display_name": "Python 3"
    },
    "language_info": {
      "name": "python"
    },
    "accelerator": "GPU",
    "widgets": {
      "application/vnd.jupyter.widget-state+json": {
        "331613d8de49418fb6eea1158623e481": {
          "model_module": "@jupyter-widgets/controls",
          "model_name": "HBoxModel",
          "model_module_version": "1.5.0",
          "state": {
            "_view_name": "HBoxView",
            "_dom_classes": [],
            "_model_name": "HBoxModel",
            "_view_module": "@jupyter-widgets/controls",
            "_model_module_version": "1.5.0",
            "_view_count": null,
            "_view_module_version": "1.5.0",
            "box_style": "",
            "layout": "IPY_MODEL_2e31a2bd70c545ec82fc5230afb3e9bc",
            "_model_module": "@jupyter-widgets/controls",
            "children": [
              "IPY_MODEL_fdbef7ee8e0246de81e1fc61ff337793",
              "IPY_MODEL_b9cb9f97ac1e42229c46302bb4731447"
            ]
          }
        },
        "2e31a2bd70c545ec82fc5230afb3e9bc": {
          "model_module": "@jupyter-widgets/base",
          "model_name": "LayoutModel",
          "model_module_version": "1.2.0",
          "state": {
            "_view_name": "LayoutView",
            "grid_template_rows": null,
            "right": null,
            "justify_content": null,
            "_view_module": "@jupyter-widgets/base",
            "overflow": null,
            "_model_module_version": "1.2.0",
            "_view_count": null,
            "flex_flow": null,
            "width": null,
            "min_width": null,
            "border": null,
            "align_items": null,
            "bottom": null,
            "_model_module": "@jupyter-widgets/base",
            "top": null,
            "grid_column": null,
            "overflow_y": null,
            "overflow_x": null,
            "grid_auto_flow": null,
            "grid_area": null,
            "grid_template_columns": null,
            "flex": null,
            "_model_name": "LayoutModel",
            "justify_items": null,
            "grid_row": null,
            "max_height": null,
            "align_content": null,
            "visibility": null,
            "align_self": null,
            "height": null,
            "min_height": null,
            "padding": null,
            "grid_auto_rows": null,
            "grid_gap": null,
            "max_width": null,
            "order": null,
            "_view_module_version": "1.2.0",
            "grid_template_areas": null,
            "object_position": null,
            "object_fit": null,
            "grid_auto_columns": null,
            "margin": null,
            "display": null,
            "left": null
          }
        },
        "fdbef7ee8e0246de81e1fc61ff337793": {
          "model_module": "@jupyter-widgets/controls",
          "model_name": "FloatProgressModel",
          "model_module_version": "1.5.0",
          "state": {
            "_view_name": "ProgressView",
            "style": "IPY_MODEL_de68842e9d9949bfbddf0f0d6cdae9b2",
            "_dom_classes": [],
            "description": "",
            "_model_name": "FloatProgressModel",
            "bar_style": "success",
            "max": 9912422,
            "_view_module": "@jupyter-widgets/controls",
            "_model_module_version": "1.5.0",
            "value": 9912422,
            "_view_count": null,
            "_view_module_version": "1.5.0",
            "orientation": "horizontal",
            "min": 0,
            "description_tooltip": null,
            "_model_module": "@jupyter-widgets/controls",
            "layout": "IPY_MODEL_f1b1a5848c9c42fbb1cc3f060fbf18b4"
          }
        },
        "b9cb9f97ac1e42229c46302bb4731447": {
          "model_module": "@jupyter-widgets/controls",
          "model_name": "HTMLModel",
          "model_module_version": "1.5.0",
          "state": {
            "_view_name": "HTMLView",
            "style": "IPY_MODEL_d8f164442785408ab9d6ffe65e693038",
            "_dom_classes": [],
            "description": "",
            "_model_name": "HTMLModel",
            "placeholder": "​",
            "_view_module": "@jupyter-widgets/controls",
            "_model_module_version": "1.5.0",
            "value": " 9913344/? [04:54&lt;00:00, 33668.66it/s]",
            "_view_count": null,
            "_view_module_version": "1.5.0",
            "description_tooltip": null,
            "_model_module": "@jupyter-widgets/controls",
            "layout": "IPY_MODEL_d4f2ce4f494d44248366802d02fe9c3f"
          }
        },
        "de68842e9d9949bfbddf0f0d6cdae9b2": {
          "model_module": "@jupyter-widgets/controls",
          "model_name": "ProgressStyleModel",
          "model_module_version": "1.5.0",
          "state": {
            "_view_name": "StyleView",
            "_model_name": "ProgressStyleModel",
            "description_width": "initial",
            "_view_module": "@jupyter-widgets/base",
            "_model_module_version": "1.5.0",
            "_view_count": null,
            "_view_module_version": "1.2.0",
            "bar_color": null,
            "_model_module": "@jupyter-widgets/controls"
          }
        },
        "f1b1a5848c9c42fbb1cc3f060fbf18b4": {
          "model_module": "@jupyter-widgets/base",
          "model_name": "LayoutModel",
          "model_module_version": "1.2.0",
          "state": {
            "_view_name": "LayoutView",
            "grid_template_rows": null,
            "right": null,
            "justify_content": null,
            "_view_module": "@jupyter-widgets/base",
            "overflow": null,
            "_model_module_version": "1.2.0",
            "_view_count": null,
            "flex_flow": null,
            "width": null,
            "min_width": null,
            "border": null,
            "align_items": null,
            "bottom": null,
            "_model_module": "@jupyter-widgets/base",
            "top": null,
            "grid_column": null,
            "overflow_y": null,
            "overflow_x": null,
            "grid_auto_flow": null,
            "grid_area": null,
            "grid_template_columns": null,
            "flex": null,
            "_model_name": "LayoutModel",
            "justify_items": null,
            "grid_row": null,
            "max_height": null,
            "align_content": null,
            "visibility": null,
            "align_self": null,
            "height": null,
            "min_height": null,
            "padding": null,
            "grid_auto_rows": null,
            "grid_gap": null,
            "max_width": null,
            "order": null,
            "_view_module_version": "1.2.0",
            "grid_template_areas": null,
            "object_position": null,
            "object_fit": null,
            "grid_auto_columns": null,
            "margin": null,
            "display": null,
            "left": null
          }
        },
        "d8f164442785408ab9d6ffe65e693038": {
          "model_module": "@jupyter-widgets/controls",
          "model_name": "DescriptionStyleModel",
          "model_module_version": "1.5.0",
          "state": {
            "_view_name": "StyleView",
            "_model_name": "DescriptionStyleModel",
            "description_width": "",
            "_view_module": "@jupyter-widgets/base",
            "_model_module_version": "1.5.0",
            "_view_count": null,
            "_view_module_version": "1.2.0",
            "_model_module": "@jupyter-widgets/controls"
          }
        },
        "d4f2ce4f494d44248366802d02fe9c3f": {
          "model_module": "@jupyter-widgets/base",
          "model_name": "LayoutModel",
          "model_module_version": "1.2.0",
          "state": {
            "_view_name": "LayoutView",
            "grid_template_rows": null,
            "right": null,
            "justify_content": null,
            "_view_module": "@jupyter-widgets/base",
            "overflow": null,
            "_model_module_version": "1.2.0",
            "_view_count": null,
            "flex_flow": null,
            "width": null,
            "min_width": null,
            "border": null,
            "align_items": null,
            "bottom": null,
            "_model_module": "@jupyter-widgets/base",
            "top": null,
            "grid_column": null,
            "overflow_y": null,
            "overflow_x": null,
            "grid_auto_flow": null,
            "grid_area": null,
            "grid_template_columns": null,
            "flex": null,
            "_model_name": "LayoutModel",
            "justify_items": null,
            "grid_row": null,
            "max_height": null,
            "align_content": null,
            "visibility": null,
            "align_self": null,
            "height": null,
            "min_height": null,
            "padding": null,
            "grid_auto_rows": null,
            "grid_gap": null,
            "max_width": null,
            "order": null,
            "_view_module_version": "1.2.0",
            "grid_template_areas": null,
            "object_position": null,
            "object_fit": null,
            "grid_auto_columns": null,
            "margin": null,
            "display": null,
            "left": null
          }
        },
        "c5713e44da2f40f38a98997b92cbb87d": {
          "model_module": "@jupyter-widgets/controls",
          "model_name": "HBoxModel",
          "model_module_version": "1.5.0",
          "state": {
            "_view_name": "HBoxView",
            "_dom_classes": [],
            "_model_name": "HBoxModel",
            "_view_module": "@jupyter-widgets/controls",
            "_model_module_version": "1.5.0",
            "_view_count": null,
            "_view_module_version": "1.5.0",
            "box_style": "",
            "layout": "IPY_MODEL_7e25b7751b3249389fd9f19b7b57eef1",
            "_model_module": "@jupyter-widgets/controls",
            "children": [
              "IPY_MODEL_5c3592078f1b4136883e3778f4de27d1",
              "IPY_MODEL_a388839569ae48358c0807e34aae705c"
            ]
          }
        },
        "7e25b7751b3249389fd9f19b7b57eef1": {
          "model_module": "@jupyter-widgets/base",
          "model_name": "LayoutModel",
          "model_module_version": "1.2.0",
          "state": {
            "_view_name": "LayoutView",
            "grid_template_rows": null,
            "right": null,
            "justify_content": null,
            "_view_module": "@jupyter-widgets/base",
            "overflow": null,
            "_model_module_version": "1.2.0",
            "_view_count": null,
            "flex_flow": null,
            "width": null,
            "min_width": null,
            "border": null,
            "align_items": null,
            "bottom": null,
            "_model_module": "@jupyter-widgets/base",
            "top": null,
            "grid_column": null,
            "overflow_y": null,
            "overflow_x": null,
            "grid_auto_flow": null,
            "grid_area": null,
            "grid_template_columns": null,
            "flex": null,
            "_model_name": "LayoutModel",
            "justify_items": null,
            "grid_row": null,
            "max_height": null,
            "align_content": null,
            "visibility": null,
            "align_self": null,
            "height": null,
            "min_height": null,
            "padding": null,
            "grid_auto_rows": null,
            "grid_gap": null,
            "max_width": null,
            "order": null,
            "_view_module_version": "1.2.0",
            "grid_template_areas": null,
            "object_position": null,
            "object_fit": null,
            "grid_auto_columns": null,
            "margin": null,
            "display": null,
            "left": null
          }
        },
        "5c3592078f1b4136883e3778f4de27d1": {
          "model_module": "@jupyter-widgets/controls",
          "model_name": "FloatProgressModel",
          "model_module_version": "1.5.0",
          "state": {
            "_view_name": "ProgressView",
            "style": "IPY_MODEL_7a0483f0d15d4308b1f0e77058324218",
            "_dom_classes": [],
            "description": "",
            "_model_name": "FloatProgressModel",
            "bar_style": "success",
            "max": 28881,
            "_view_module": "@jupyter-widgets/controls",
            "_model_module_version": "1.5.0",
            "value": 28881,
            "_view_count": null,
            "_view_module_version": "1.5.0",
            "orientation": "horizontal",
            "min": 0,
            "description_tooltip": null,
            "_model_module": "@jupyter-widgets/controls",
            "layout": "IPY_MODEL_f2d02398af754c69bd4592e2343cf1c4"
          }
        },
        "a388839569ae48358c0807e34aae705c": {
          "model_module": "@jupyter-widgets/controls",
          "model_name": "HTMLModel",
          "model_module_version": "1.5.0",
          "state": {
            "_view_name": "HTMLView",
            "style": "IPY_MODEL_fe4206840e0640acace4d53881f4f5f5",
            "_dom_classes": [],
            "description": "",
            "_model_name": "HTMLModel",
            "placeholder": "​",
            "_view_module": "@jupyter-widgets/controls",
            "_model_module_version": "1.5.0",
            "value": " 29696/? [00:00&lt;00:00, 87192.93it/s]",
            "_view_count": null,
            "_view_module_version": "1.5.0",
            "description_tooltip": null,
            "_model_module": "@jupyter-widgets/controls",
            "layout": "IPY_MODEL_d7a6f165fe2d43a39dc83cd232d5ddbc"
          }
        },
        "7a0483f0d15d4308b1f0e77058324218": {
          "model_module": "@jupyter-widgets/controls",
          "model_name": "ProgressStyleModel",
          "model_module_version": "1.5.0",
          "state": {
            "_view_name": "StyleView",
            "_model_name": "ProgressStyleModel",
            "description_width": "initial",
            "_view_module": "@jupyter-widgets/base",
            "_model_module_version": "1.5.0",
            "_view_count": null,
            "_view_module_version": "1.2.0",
            "bar_color": null,
            "_model_module": "@jupyter-widgets/controls"
          }
        },
        "f2d02398af754c69bd4592e2343cf1c4": {
          "model_module": "@jupyter-widgets/base",
          "model_name": "LayoutModel",
          "model_module_version": "1.2.0",
          "state": {
            "_view_name": "LayoutView",
            "grid_template_rows": null,
            "right": null,
            "justify_content": null,
            "_view_module": "@jupyter-widgets/base",
            "overflow": null,
            "_model_module_version": "1.2.0",
            "_view_count": null,
            "flex_flow": null,
            "width": null,
            "min_width": null,
            "border": null,
            "align_items": null,
            "bottom": null,
            "_model_module": "@jupyter-widgets/base",
            "top": null,
            "grid_column": null,
            "overflow_y": null,
            "overflow_x": null,
            "grid_auto_flow": null,
            "grid_area": null,
            "grid_template_columns": null,
            "flex": null,
            "_model_name": "LayoutModel",
            "justify_items": null,
            "grid_row": null,
            "max_height": null,
            "align_content": null,
            "visibility": null,
            "align_self": null,
            "height": null,
            "min_height": null,
            "padding": null,
            "grid_auto_rows": null,
            "grid_gap": null,
            "max_width": null,
            "order": null,
            "_view_module_version": "1.2.0",
            "grid_template_areas": null,
            "object_position": null,
            "object_fit": null,
            "grid_auto_columns": null,
            "margin": null,
            "display": null,
            "left": null
          }
        },
        "fe4206840e0640acace4d53881f4f5f5": {
          "model_module": "@jupyter-widgets/controls",
          "model_name": "DescriptionStyleModel",
          "model_module_version": "1.5.0",
          "state": {
            "_view_name": "StyleView",
            "_model_name": "DescriptionStyleModel",
            "description_width": "",
            "_view_module": "@jupyter-widgets/base",
            "_model_module_version": "1.5.0",
            "_view_count": null,
            "_view_module_version": "1.2.0",
            "_model_module": "@jupyter-widgets/controls"
          }
        },
        "d7a6f165fe2d43a39dc83cd232d5ddbc": {
          "model_module": "@jupyter-widgets/base",
          "model_name": "LayoutModel",
          "model_module_version": "1.2.0",
          "state": {
            "_view_name": "LayoutView",
            "grid_template_rows": null,
            "right": null,
            "justify_content": null,
            "_view_module": "@jupyter-widgets/base",
            "overflow": null,
            "_model_module_version": "1.2.0",
            "_view_count": null,
            "flex_flow": null,
            "width": null,
            "min_width": null,
            "border": null,
            "align_items": null,
            "bottom": null,
            "_model_module": "@jupyter-widgets/base",
            "top": null,
            "grid_column": null,
            "overflow_y": null,
            "overflow_x": null,
            "grid_auto_flow": null,
            "grid_area": null,
            "grid_template_columns": null,
            "flex": null,
            "_model_name": "LayoutModel",
            "justify_items": null,
            "grid_row": null,
            "max_height": null,
            "align_content": null,
            "visibility": null,
            "align_self": null,
            "height": null,
            "min_height": null,
            "padding": null,
            "grid_auto_rows": null,
            "grid_gap": null,
            "max_width": null,
            "order": null,
            "_view_module_version": "1.2.0",
            "grid_template_areas": null,
            "object_position": null,
            "object_fit": null,
            "grid_auto_columns": null,
            "margin": null,
            "display": null,
            "left": null
          }
        },
        "b88245d907c8480f9a451586e5232000": {
          "model_module": "@jupyter-widgets/controls",
          "model_name": "HBoxModel",
          "model_module_version": "1.5.0",
          "state": {
            "_view_name": "HBoxView",
            "_dom_classes": [],
            "_model_name": "HBoxModel",
            "_view_module": "@jupyter-widgets/controls",
            "_model_module_version": "1.5.0",
            "_view_count": null,
            "_view_module_version": "1.5.0",
            "box_style": "",
            "layout": "IPY_MODEL_c119d32d10f5407d8c8fdaa4d077f230",
            "_model_module": "@jupyter-widgets/controls",
            "children": [
              "IPY_MODEL_965e870e540848d983518e6f620fd516",
              "IPY_MODEL_9896c59a0ffc4a1caeeebd4f627001d6"
            ]
          }
        },
        "c119d32d10f5407d8c8fdaa4d077f230": {
          "model_module": "@jupyter-widgets/base",
          "model_name": "LayoutModel",
          "model_module_version": "1.2.0",
          "state": {
            "_view_name": "LayoutView",
            "grid_template_rows": null,
            "right": null,
            "justify_content": null,
            "_view_module": "@jupyter-widgets/base",
            "overflow": null,
            "_model_module_version": "1.2.0",
            "_view_count": null,
            "flex_flow": null,
            "width": null,
            "min_width": null,
            "border": null,
            "align_items": null,
            "bottom": null,
            "_model_module": "@jupyter-widgets/base",
            "top": null,
            "grid_column": null,
            "overflow_y": null,
            "overflow_x": null,
            "grid_auto_flow": null,
            "grid_area": null,
            "grid_template_columns": null,
            "flex": null,
            "_model_name": "LayoutModel",
            "justify_items": null,
            "grid_row": null,
            "max_height": null,
            "align_content": null,
            "visibility": null,
            "align_self": null,
            "height": null,
            "min_height": null,
            "padding": null,
            "grid_auto_rows": null,
            "grid_gap": null,
            "max_width": null,
            "order": null,
            "_view_module_version": "1.2.0",
            "grid_template_areas": null,
            "object_position": null,
            "object_fit": null,
            "grid_auto_columns": null,
            "margin": null,
            "display": null,
            "left": null
          }
        },
        "965e870e540848d983518e6f620fd516": {
          "model_module": "@jupyter-widgets/controls",
          "model_name": "FloatProgressModel",
          "model_module_version": "1.5.0",
          "state": {
            "_view_name": "ProgressView",
            "style": "IPY_MODEL_1534f531da00435e9c27efa1e5e4c0f3",
            "_dom_classes": [],
            "description": "",
            "_model_name": "FloatProgressModel",
            "bar_style": "success",
            "max": 1648877,
            "_view_module": "@jupyter-widgets/controls",
            "_model_module_version": "1.5.0",
            "value": 1648877,
            "_view_count": null,
            "_view_module_version": "1.5.0",
            "orientation": "horizontal",
            "min": 0,
            "description_tooltip": null,
            "_model_module": "@jupyter-widgets/controls",
            "layout": "IPY_MODEL_fa280722529949f0a0fe409f3c09700c"
          }
        },
        "9896c59a0ffc4a1caeeebd4f627001d6": {
          "model_module": "@jupyter-widgets/controls",
          "model_name": "HTMLModel",
          "model_module_version": "1.5.0",
          "state": {
            "_view_name": "HTMLView",
            "style": "IPY_MODEL_4e35ed10519e4482b1c9fb489e09d252",
            "_dom_classes": [],
            "description": "",
            "_model_name": "HTMLModel",
            "placeholder": "​",
            "_view_module": "@jupyter-widgets/controls",
            "_model_module_version": "1.5.0",
            "value": " 1649664/? [00:00&lt;00:00, 1767499.73it/s]",
            "_view_count": null,
            "_view_module_version": "1.5.0",
            "description_tooltip": null,
            "_model_module": "@jupyter-widgets/controls",
            "layout": "IPY_MODEL_3827761df67e489795ac8548e64eb40d"
          }
        },
        "1534f531da00435e9c27efa1e5e4c0f3": {
          "model_module": "@jupyter-widgets/controls",
          "model_name": "ProgressStyleModel",
          "model_module_version": "1.5.0",
          "state": {
            "_view_name": "StyleView",
            "_model_name": "ProgressStyleModel",
            "description_width": "initial",
            "_view_module": "@jupyter-widgets/base",
            "_model_module_version": "1.5.0",
            "_view_count": null,
            "_view_module_version": "1.2.0",
            "bar_color": null,
            "_model_module": "@jupyter-widgets/controls"
          }
        },
        "fa280722529949f0a0fe409f3c09700c": {
          "model_module": "@jupyter-widgets/base",
          "model_name": "LayoutModel",
          "model_module_version": "1.2.0",
          "state": {
            "_view_name": "LayoutView",
            "grid_template_rows": null,
            "right": null,
            "justify_content": null,
            "_view_module": "@jupyter-widgets/base",
            "overflow": null,
            "_model_module_version": "1.2.0",
            "_view_count": null,
            "flex_flow": null,
            "width": null,
            "min_width": null,
            "border": null,
            "align_items": null,
            "bottom": null,
            "_model_module": "@jupyter-widgets/base",
            "top": null,
            "grid_column": null,
            "overflow_y": null,
            "overflow_x": null,
            "grid_auto_flow": null,
            "grid_area": null,
            "grid_template_columns": null,
            "flex": null,
            "_model_name": "LayoutModel",
            "justify_items": null,
            "grid_row": null,
            "max_height": null,
            "align_content": null,
            "visibility": null,
            "align_self": null,
            "height": null,
            "min_height": null,
            "padding": null,
            "grid_auto_rows": null,
            "grid_gap": null,
            "max_width": null,
            "order": null,
            "_view_module_version": "1.2.0",
            "grid_template_areas": null,
            "object_position": null,
            "object_fit": null,
            "grid_auto_columns": null,
            "margin": null,
            "display": null,
            "left": null
          }
        },
        "4e35ed10519e4482b1c9fb489e09d252": {
          "model_module": "@jupyter-widgets/controls",
          "model_name": "DescriptionStyleModel",
          "model_module_version": "1.5.0",
          "state": {
            "_view_name": "StyleView",
            "_model_name": "DescriptionStyleModel",
            "description_width": "",
            "_view_module": "@jupyter-widgets/base",
            "_model_module_version": "1.5.0",
            "_view_count": null,
            "_view_module_version": "1.2.0",
            "_model_module": "@jupyter-widgets/controls"
          }
        },
        "3827761df67e489795ac8548e64eb40d": {
          "model_module": "@jupyter-widgets/base",
          "model_name": "LayoutModel",
          "model_module_version": "1.2.0",
          "state": {
            "_view_name": "LayoutView",
            "grid_template_rows": null,
            "right": null,
            "justify_content": null,
            "_view_module": "@jupyter-widgets/base",
            "overflow": null,
            "_model_module_version": "1.2.0",
            "_view_count": null,
            "flex_flow": null,
            "width": null,
            "min_width": null,
            "border": null,
            "align_items": null,
            "bottom": null,
            "_model_module": "@jupyter-widgets/base",
            "top": null,
            "grid_column": null,
            "overflow_y": null,
            "overflow_x": null,
            "grid_auto_flow": null,
            "grid_area": null,
            "grid_template_columns": null,
            "flex": null,
            "_model_name": "LayoutModel",
            "justify_items": null,
            "grid_row": null,
            "max_height": null,
            "align_content": null,
            "visibility": null,
            "align_self": null,
            "height": null,
            "min_height": null,
            "padding": null,
            "grid_auto_rows": null,
            "grid_gap": null,
            "max_width": null,
            "order": null,
            "_view_module_version": "1.2.0",
            "grid_template_areas": null,
            "object_position": null,
            "object_fit": null,
            "grid_auto_columns": null,
            "margin": null,
            "display": null,
            "left": null
          }
        },
        "92abfff87dd442e8894b7aba7903bb51": {
          "model_module": "@jupyter-widgets/controls",
          "model_name": "HBoxModel",
          "model_module_version": "1.5.0",
          "state": {
            "_view_name": "HBoxView",
            "_dom_classes": [],
            "_model_name": "HBoxModel",
            "_view_module": "@jupyter-widgets/controls",
            "_model_module_version": "1.5.0",
            "_view_count": null,
            "_view_module_version": "1.5.0",
            "box_style": "",
            "layout": "IPY_MODEL_db67a3eb92494511b23f52ca11f93d5d",
            "_model_module": "@jupyter-widgets/controls",
            "children": [
              "IPY_MODEL_b786cf51187f4f4caff02573fcc7d62b",
              "IPY_MODEL_f76039cb212040218ed8002697bc6080"
            ]
          }
        },
        "db67a3eb92494511b23f52ca11f93d5d": {
          "model_module": "@jupyter-widgets/base",
          "model_name": "LayoutModel",
          "model_module_version": "1.2.0",
          "state": {
            "_view_name": "LayoutView",
            "grid_template_rows": null,
            "right": null,
            "justify_content": null,
            "_view_module": "@jupyter-widgets/base",
            "overflow": null,
            "_model_module_version": "1.2.0",
            "_view_count": null,
            "flex_flow": null,
            "width": null,
            "min_width": null,
            "border": null,
            "align_items": null,
            "bottom": null,
            "_model_module": "@jupyter-widgets/base",
            "top": null,
            "grid_column": null,
            "overflow_y": null,
            "overflow_x": null,
            "grid_auto_flow": null,
            "grid_area": null,
            "grid_template_columns": null,
            "flex": null,
            "_model_name": "LayoutModel",
            "justify_items": null,
            "grid_row": null,
            "max_height": null,
            "align_content": null,
            "visibility": null,
            "align_self": null,
            "height": null,
            "min_height": null,
            "padding": null,
            "grid_auto_rows": null,
            "grid_gap": null,
            "max_width": null,
            "order": null,
            "_view_module_version": "1.2.0",
            "grid_template_areas": null,
            "object_position": null,
            "object_fit": null,
            "grid_auto_columns": null,
            "margin": null,
            "display": null,
            "left": null
          }
        },
        "b786cf51187f4f4caff02573fcc7d62b": {
          "model_module": "@jupyter-widgets/controls",
          "model_name": "FloatProgressModel",
          "model_module_version": "1.5.0",
          "state": {
            "_view_name": "ProgressView",
            "style": "IPY_MODEL_0669a3f5f0e241c3a5cd43d4f93b2516",
            "_dom_classes": [],
            "description": "",
            "_model_name": "FloatProgressModel",
            "bar_style": "success",
            "max": 4542,
            "_view_module": "@jupyter-widgets/controls",
            "_model_module_version": "1.5.0",
            "value": 4542,
            "_view_count": null,
            "_view_module_version": "1.5.0",
            "orientation": "horizontal",
            "min": 0,
            "description_tooltip": null,
            "_model_module": "@jupyter-widgets/controls",
            "layout": "IPY_MODEL_9fc73726bfd243c481e66858f8109750"
          }
        },
        "f76039cb212040218ed8002697bc6080": {
          "model_module": "@jupyter-widgets/controls",
          "model_name": "HTMLModel",
          "model_module_version": "1.5.0",
          "state": {
            "_view_name": "HTMLView",
            "style": "IPY_MODEL_e9ceba07c7fd436abf612975b650cc28",
            "_dom_classes": [],
            "description": "",
            "_model_name": "HTMLModel",
            "placeholder": "​",
            "_view_module": "@jupyter-widgets/controls",
            "_model_module_version": "1.5.0",
            "value": " 5120/? [00:00&lt;00:00, 48646.58it/s]",
            "_view_count": null,
            "_view_module_version": "1.5.0",
            "description_tooltip": null,
            "_model_module": "@jupyter-widgets/controls",
            "layout": "IPY_MODEL_35ee4a3ebdf84fadb46b2652fb35ff4d"
          }
        },
        "0669a3f5f0e241c3a5cd43d4f93b2516": {
          "model_module": "@jupyter-widgets/controls",
          "model_name": "ProgressStyleModel",
          "model_module_version": "1.5.0",
          "state": {
            "_view_name": "StyleView",
            "_model_name": "ProgressStyleModel",
            "description_width": "initial",
            "_view_module": "@jupyter-widgets/base",
            "_model_module_version": "1.5.0",
            "_view_count": null,
            "_view_module_version": "1.2.0",
            "bar_color": null,
            "_model_module": "@jupyter-widgets/controls"
          }
        },
        "9fc73726bfd243c481e66858f8109750": {
          "model_module": "@jupyter-widgets/base",
          "model_name": "LayoutModel",
          "model_module_version": "1.2.0",
          "state": {
            "_view_name": "LayoutView",
            "grid_template_rows": null,
            "right": null,
            "justify_content": null,
            "_view_module": "@jupyter-widgets/base",
            "overflow": null,
            "_model_module_version": "1.2.0",
            "_view_count": null,
            "flex_flow": null,
            "width": null,
            "min_width": null,
            "border": null,
            "align_items": null,
            "bottom": null,
            "_model_module": "@jupyter-widgets/base",
            "top": null,
            "grid_column": null,
            "overflow_y": null,
            "overflow_x": null,
            "grid_auto_flow": null,
            "grid_area": null,
            "grid_template_columns": null,
            "flex": null,
            "_model_name": "LayoutModel",
            "justify_items": null,
            "grid_row": null,
            "max_height": null,
            "align_content": null,
            "visibility": null,
            "align_self": null,
            "height": null,
            "min_height": null,
            "padding": null,
            "grid_auto_rows": null,
            "grid_gap": null,
            "max_width": null,
            "order": null,
            "_view_module_version": "1.2.0",
            "grid_template_areas": null,
            "object_position": null,
            "object_fit": null,
            "grid_auto_columns": null,
            "margin": null,
            "display": null,
            "left": null
          }
        },
        "e9ceba07c7fd436abf612975b650cc28": {
          "model_module": "@jupyter-widgets/controls",
          "model_name": "DescriptionStyleModel",
          "model_module_version": "1.5.0",
          "state": {
            "_view_name": "StyleView",
            "_model_name": "DescriptionStyleModel",
            "description_width": "",
            "_view_module": "@jupyter-widgets/base",
            "_model_module_version": "1.5.0",
            "_view_count": null,
            "_view_module_version": "1.2.0",
            "_model_module": "@jupyter-widgets/controls"
          }
        },
        "35ee4a3ebdf84fadb46b2652fb35ff4d": {
          "model_module": "@jupyter-widgets/base",
          "model_name": "LayoutModel",
          "model_module_version": "1.2.0",
          "state": {
            "_view_name": "LayoutView",
            "grid_template_rows": null,
            "right": null,
            "justify_content": null,
            "_view_module": "@jupyter-widgets/base",
            "overflow": null,
            "_model_module_version": "1.2.0",
            "_view_count": null,
            "flex_flow": null,
            "width": null,
            "min_width": null,
            "border": null,
            "align_items": null,
            "bottom": null,
            "_model_module": "@jupyter-widgets/base",
            "top": null,
            "grid_column": null,
            "overflow_y": null,
            "overflow_x": null,
            "grid_auto_flow": null,
            "grid_area": null,
            "grid_template_columns": null,
            "flex": null,
            "_model_name": "LayoutModel",
            "justify_items": null,
            "grid_row": null,
            "max_height": null,
            "align_content": null,
            "visibility": null,
            "align_self": null,
            "height": null,
            "min_height": null,
            "padding": null,
            "grid_auto_rows": null,
            "grid_gap": null,
            "max_width": null,
            "order": null,
            "_view_module_version": "1.2.0",
            "grid_template_areas": null,
            "object_position": null,
            "object_fit": null,
            "grid_auto_columns": null,
            "margin": null,
            "display": null,
            "left": null
          }
        }
      }
    }
  },
  "cells": [
    {
      "cell_type": "markdown",
      "source": [
        "# Project - Deep Generative Models"
      ],
      "metadata": {
        "id": "J4ByqXCF1mG3"
      }
    },
    {
      "cell_type": "markdown",
      "source": [
        "In this project we will explore three main things:\n",
        "1. The relationship between linear autoencoders and PCA.\n",
        "2. Training Generative Adversarial Networks.\n",
        "3. Using already-trained GANs.\n",
        "\n",
        "\n",
        "**Remember to activate GPUs in Colab**."
      ],
      "metadata": {
        "id": "eaCZ1OO-2gdR"
      }
    },
    {
      "cell_type": "markdown",
      "source": [
        "## Implementing Autoencoders"
      ],
      "metadata": {
        "id": "JDISU76i36WQ"
      }
    },
    {
      "cell_type": "markdown",
      "source": [
        "In these exercises we will implement autoencoders in PyTorch."
      ],
      "metadata": {
        "id": "QBjY0bI73-r4"
      }
    },
    {
      "cell_type": "code",
      "execution_count": null,
      "source": [
        "import warnings; \n",
        "warnings.simplefilter('ignore')"
      ],
      "outputs": [],
      "metadata": {}
    },
    {
      "cell_type": "code",
      "execution_count": null,
      "source": [
        "import torch\n",
        "import torch.nn as nn\n",
        "from torch.utils.data import TensorDataset, DataLoader\n",
        "from torchvision.datasets import MNIST\n",
        "import numpy as np\n",
        "import matplotlib.pyplot as plt\n",
        "\n",
        "mnist = MNIST('../data', train=True, download=True)"
      ],
      "outputs": [
        {
          "output_type": "stream",
          "name": "stdout",
          "text": [
            "Downloading http://yann.lecun.com/exdb/mnist/train-images-idx3-ubyte.gz\n",
            "Downloading http://yann.lecun.com/exdb/mnist/train-images-idx3-ubyte.gz to ../data/MNIST/raw/train-images-idx3-ubyte.gz\n"
          ]
        },
        {
          "output_type": "display_data",
          "data": {
            "application/vnd.jupyter.widget-view+json": {
              "model_id": "331613d8de49418fb6eea1158623e481",
              "version_minor": 0,
              "version_major": 2
            },
            "text/plain": [
              "HBox(children=(FloatProgress(value=0.0, max=9912422.0), HTML(value='')))"
            ]
          },
          "metadata": {
            "tags": []
          }
        },
        {
          "output_type": "stream",
          "name": "stdout",
          "text": [
            "\n",
            "Extracting ../data/MNIST/raw/train-images-idx3-ubyte.gz to ../data/MNIST/raw\n",
            "\n",
            "Downloading http://yann.lecun.com/exdb/mnist/train-labels-idx1-ubyte.gz\n",
            "Downloading http://yann.lecun.com/exdb/mnist/train-labels-idx1-ubyte.gz to ../data/MNIST/raw/train-labels-idx1-ubyte.gz\n"
          ]
        },
        {
          "output_type": "display_data",
          "data": {
            "application/vnd.jupyter.widget-view+json": {
              "model_id": "c5713e44da2f40f38a98997b92cbb87d",
              "version_minor": 0,
              "version_major": 2
            },
            "text/plain": [
              "HBox(children=(FloatProgress(value=0.0, max=28881.0), HTML(value='')))"
            ]
          },
          "metadata": {
            "tags": []
          }
        },
        {
          "output_type": "stream",
          "name": "stdout",
          "text": [
            "\n",
            "Extracting ../data/MNIST/raw/train-labels-idx1-ubyte.gz to ../data/MNIST/raw\n",
            "\n",
            "Downloading http://yann.lecun.com/exdb/mnist/t10k-images-idx3-ubyte.gz\n",
            "Downloading http://yann.lecun.com/exdb/mnist/t10k-images-idx3-ubyte.gz to ../data/MNIST/raw/t10k-images-idx3-ubyte.gz\n",
            "Failed to download (trying next):\n",
            "HTTP Error 503: Service Unavailable\n",
            "\n",
            "Downloading https://ossci-datasets.s3.amazonaws.com/mnist/t10k-images-idx3-ubyte.gz\n",
            "Downloading https://ossci-datasets.s3.amazonaws.com/mnist/t10k-images-idx3-ubyte.gz to ../data/MNIST/raw/t10k-images-idx3-ubyte.gz\n"
          ]
        },
        {
          "output_type": "display_data",
          "data": {
            "application/vnd.jupyter.widget-view+json": {
              "model_id": "b88245d907c8480f9a451586e5232000",
              "version_minor": 0,
              "version_major": 2
            },
            "text/plain": [
              "HBox(children=(FloatProgress(value=0.0, max=1648877.0), HTML(value='')))"
            ]
          },
          "metadata": {
            "tags": []
          }
        },
        {
          "output_type": "stream",
          "name": "stdout",
          "text": [
            "\n",
            "Extracting ../data/MNIST/raw/t10k-images-idx3-ubyte.gz to ../data/MNIST/raw\n",
            "\n",
            "Downloading http://yann.lecun.com/exdb/mnist/t10k-labels-idx1-ubyte.gz\n",
            "Downloading http://yann.lecun.com/exdb/mnist/t10k-labels-idx1-ubyte.gz to ../data/MNIST/raw/t10k-labels-idx1-ubyte.gz\n"
          ]
        },
        {
          "output_type": "display_data",
          "data": {
            "application/vnd.jupyter.widget-view+json": {
              "model_id": "92abfff87dd442e8894b7aba7903bb51",
              "version_minor": 0,
              "version_major": 2
            },
            "text/plain": [
              "HBox(children=(FloatProgress(value=0.0, max=4542.0), HTML(value='')))"
            ]
          },
          "metadata": {
            "tags": []
          }
        },
        {
          "output_type": "stream",
          "name": "stdout",
          "text": [
            "\n",
            "Extracting ../data/MNIST/raw/t10k-labels-idx1-ubyte.gz to ../data/MNIST/raw\n",
            "\n"
          ]
        },
        {
          "output_type": "stream",
          "name": "stderr",
          "text": [
            "/usr/local/lib/python3.7/dist-packages/torchvision/datasets/mnist.py:498: UserWarning: The given NumPy array is not writeable, and PyTorch does not support non-writeable tensors. This means you can write to the underlying (supposedly non-writeable) NumPy array using the tensor. You may want to copy the array to protect its data or make it writeable before converting it to a tensor. This type of warning will be suppressed for the rest of this program. (Triggered internally at  /pytorch/torch/csrc/utils/tensor_numpy.cpp:180.)\n",
            "  return torch.from_numpy(parsed.astype(m[2], copy=False)).view(*s)\n"
          ]
        }
      ],
      "metadata": {
        "colab": {
          "base_uri": "https://localhost:8080/",
          "height": 624,
          "referenced_widgets": [
            "331613d8de49418fb6eea1158623e481",
            "2e31a2bd70c545ec82fc5230afb3e9bc",
            "fdbef7ee8e0246de81e1fc61ff337793",
            "b9cb9f97ac1e42229c46302bb4731447",
            "de68842e9d9949bfbddf0f0d6cdae9b2",
            "f1b1a5848c9c42fbb1cc3f060fbf18b4",
            "d8f164442785408ab9d6ffe65e693038",
            "d4f2ce4f494d44248366802d02fe9c3f",
            "c5713e44da2f40f38a98997b92cbb87d",
            "7e25b7751b3249389fd9f19b7b57eef1",
            "5c3592078f1b4136883e3778f4de27d1",
            "a388839569ae48358c0807e34aae705c",
            "7a0483f0d15d4308b1f0e77058324218",
            "f2d02398af754c69bd4592e2343cf1c4",
            "fe4206840e0640acace4d53881f4f5f5",
            "d7a6f165fe2d43a39dc83cd232d5ddbc",
            "b88245d907c8480f9a451586e5232000",
            "c119d32d10f5407d8c8fdaa4d077f230",
            "965e870e540848d983518e6f620fd516",
            "9896c59a0ffc4a1caeeebd4f627001d6",
            "1534f531da00435e9c27efa1e5e4c0f3",
            "fa280722529949f0a0fe409f3c09700c",
            "4e35ed10519e4482b1c9fb489e09d252",
            "3827761df67e489795ac8548e64eb40d",
            "92abfff87dd442e8894b7aba7903bb51",
            "db67a3eb92494511b23f52ca11f93d5d",
            "b786cf51187f4f4caff02573fcc7d62b",
            "f76039cb212040218ed8002697bc6080",
            "0669a3f5f0e241c3a5cd43d4f93b2516",
            "9fc73726bfd243c481e66858f8109750",
            "e9ceba07c7fd436abf612975b650cc28",
            "35ee4a3ebdf84fadb46b2652fb35ff4d"
          ]
        },
        "id": "d3dXXyv44igt",
        "outputId": "774d0f9a-a4d9-43ff-f14c-a3c805965682"
      }
    },
    {
      "cell_type": "markdown",
      "source": [
        "### Exercise 1"
      ],
      "metadata": {
        "id": "fhf7MWwf6Lx1"
      }
    },
    {
      "cell_type": "markdown",
      "source": [
        "Below you will find a boilerplate code for a Linear Autoencoder. We will use it on MNIST data, and compare with the result of reducing the dimensionality using PCA.\n",
        "\n",
        "1. Fill the `self.encoder` and `self.decoder` to be linear layers from `28*28` to `2` and from `2` to `28*28` respectively. Implement the decoder to have a `sigmoid` activation function.\n",
        "2. Define a `forward` function that represents the forward pass of the network: encode the input `x`, and then decode it to get `x_tilde`.\n",
        "3. Why did we go for a `sigmoid` activation in the decoder?\n",
        "\n",
        "The sigmoid function will make the output in the range between 0-1."
      ],
      "metadata": {
        "id": "EUiYc1Dm6OJ6"
      }
    },
    {
      "cell_type": "code",
      "execution_count": null,
      "source": [
        "class LinearAutoEncoder(nn.Module):\n",
        "  def __init__(self):\n",
        "    super(LinearAutoEncoder, self).__init__()\n",
        "    self.encoder = nn.Sequential(nn.Linear(28 * 28, 2))\n",
        "    self.decoder = nn.Sequential(\n",
        "            nn.Linear(2, 28*28),\n",
        "            nn.Sigmoid())\n",
        "\n",
        "  def encode(self, x: torch.Tensor) -> torch.Tensor:\n",
        "    return self.encoder(x)\n",
        "  \n",
        "  def decode(self, z: torch.Tensor) -> torch.Tensor:\n",
        "    return self.decoder(z)\n",
        "  \n",
        "  def forward(self, x: torch.Tensor) -> torch.Tensor:\n",
        "    x_tilde = self.decoder(self.encoder(x))\n",
        "    return x_tilde"
      ],
      "outputs": [],
      "metadata": {
        "id": "VeyBXMrO4mxS"
      }
    },
    {
      "cell_type": "code",
      "execution_count": null,
      "source": [
        "lae = LinearAutoEncoder()\n",
        "print(lae)"
      ],
      "outputs": [
        {
          "output_type": "stream",
          "name": "stdout",
          "text": [
            "LinearAutoEncoder(\n",
            "  (encoder): Sequential(\n",
            "    (0): Linear(in_features=784, out_features=2, bias=True)\n",
            "  )\n",
            "  (decoder): Sequential(\n",
            "    (0): Linear(in_features=2, out_features=784, bias=True)\n",
            "    (1): Sigmoid()\n",
            "  )\n",
            ")\n"
          ]
        }
      ],
      "metadata": {
        "colab": {
          "base_uri": "https://localhost:8080/"
        },
        "id": "snAI4UIs586M",
        "outputId": "58929d49-4202-4bfb-af42-47c8d8c1a343"
      }
    },
    {
      "cell_type": "markdown",
      "source": [
        "### Exercise 2"
      ],
      "metadata": {
        "id": "ZBiMU7Eo6AAs"
      }
    },
    {
      "cell_type": "markdown",
      "source": [
        "Let's preprocess the `mnist.data`.\n",
        "1. Call it `x`.\n",
        "2. Normalize by dividing `x` by `255.0`.\n",
        "3. How many digits are in `x`?\n",
        "4. Reshape x to be `(x.shape[0], 28*28)`"
      ],
      "metadata": {
        "id": "90GkV05Y7U9u"
      }
    },
    {
      "cell_type": "code",
      "execution_count": null,
      "source": [
        "# 1\n",
        "x = mnist\n",
        "\n",
        "# 2\n",
        "x = x.train_data.float() /255.\n",
        "\n",
        "# 3\n",
        "print(x.shape)\n",
        "\n",
        "#4  \n",
        "x = x.reshape(x.shape[0], 28*28)\n"
      ],
      "outputs": [
        {
          "output_type": "stream",
          "name": "stdout",
          "text": [
            "torch.Size([60000, 28, 28])\n"
          ]
        },
        {
          "output_type": "stream",
          "name": "stderr",
          "text": [
            "/usr/local/lib/python3.7/dist-packages/torchvision/datasets/mnist.py:62: UserWarning: train_data has been renamed data\n",
            "  warnings.warn(\"train_data has been renamed data\")\n"
          ]
        }
      ],
      "metadata": {
        "colab": {
          "base_uri": "https://localhost:8080/"
        },
        "id": "H8N1qDcK76kF",
        "outputId": "77841164-4556-4d65-c04f-80e128398278"
      }
    },
    {
      "cell_type": "code",
      "execution_count": null,
      "source": [
        "print(x.shape)"
      ],
      "outputs": [
        {
          "output_type": "stream",
          "name": "stdout",
          "text": [
            "torch.Size([60000, 784])\n"
          ]
        }
      ],
      "metadata": {
        "colab": {
          "base_uri": "https://localhost:8080/"
        },
        "id": "wJyp0Nn3_ylQ",
        "outputId": "4a995f65-4431-4652-fcb2-41e1de31ca01"
      }
    },
    {
      "cell_type": "markdown",
      "source": [
        "### Exercise 3"
      ],
      "metadata": {
        "id": "3fNhJPey9L76"
      }
    },
    {
      "cell_type": "markdown",
      "source": [
        "Plot the first 3 digits using `plt.subplots`. Remember to use `.detach().numpy()` if you want to plot images using `matplotlib`."
      ],
      "metadata": {
        "id": "1FNbKYPT9gI7"
      }
    },
    {
      "cell_type": "code",
      "execution_count": null,
      "source": [
        "# random check with nine training examples\n",
        "np.random.seed(0);\n",
        "indices = list(np.random.randint(x.shape[0],size=9)) # randomly selecting 9 examples\n",
        "for i in range(3):\n",
        "    plt.subplot(1,3,i+1)\n",
        "    plt.imshow(x[indices[i]].reshape(28,28), interpolation='none')\n",
        "    plt.title(\"Index {} Class {}\".format(indices[i],[indices[i]]))\n",
        "    plt.tight_layout()"
      ],
      "outputs": [
        {
          "output_type": "display_data",
          "data": {
            "image/png": "[encoded data removed]",
            "text/plain": [
              "<Figure size 432x288 with 3 Axes>"
            ]
          },
          "metadata": {
            "tags": [],
            "needs_background": "light"
          }
        }
      ],
      "metadata": {
        "colab": {
          "base_uri": "https://localhost:8080/",
          "height": 124
        },
        "id": "kZ1dFFZF9sQc",
        "outputId": "089f9d43-b5bb-4837-a519-421ced486dae"
      }
    },
    {
      "cell_type": "markdown",
      "source": [
        "### Exercise 4"
      ],
      "metadata": {
        "id": "PlHdtR2Q-CU2"
      }
    },
    {
      "cell_type": "markdown",
      "source": [
        "Let's define the loss function for the training. In this case, use the **sum-of-squares reconstruction error**. Assume the inputs `x` and `x_prime` are flat vectors. (Hint. Check `MSELoss`)"
      ],
      "metadata": {
        "id": "HKI6fFnv-vQv"
      }
    },
    {
      "cell_type": "code",
      "execution_count": null,
      "source": [
        "loss_f = nn.MSELoss()\n",
        "def loss_function(x, x_prime) -> torch.Tensor:\n",
        "  loss = loss_f(x, x_prime)\n",
        "  return loss"
      ],
      "outputs": [],
      "metadata": {
        "id": "XCR0yhhQ_C_U"
      }
    },
    {
      "cell_type": "markdown",
      "source": [
        "### Exercise 5"
      ],
      "metadata": {
        "id": "Wrqt_QY__78B"
      }
    },
    {
      "cell_type": "markdown",
      "source": [
        "Now we train:\n",
        "1. Define your favorite optimizer, with your favorite learning rate.\n",
        "2. Below you will find a boilerplate function for the `train` function. Fill in the blanks. We will overfit the model, since the goal here is to practice with AEs, not to get perfect reconstructions.\n",
        "3. Run the `train` function on the `lae` model with the `data_loader` we defined, and 50 epochs."
      ],
      "metadata": {
        "id": "bnpMFPA5_9FK"
      }
    },
    {
      "cell_type": "code",
      "execution_count": null,
      "source": [
        "# Defining the things we will need.\n",
        "dataset = TensorDataset(x)\n",
        "data_loader = DataLoader(dataset, batch_size=64, shuffle=True)\n",
        "device = torch.device(\"cuda\" if torch.cuda.is_available() else \"cpu\")\n",
        "lae = LinearAutoEncoder().to(device)"
      ],
      "outputs": [],
      "metadata": {
        "id": "O11dZSy0Blnc"
      }
    },
    {
      "cell_type": "code",
      "execution_count": null,
      "source": [
        "lr = 0.01\n",
        "optimizer = torch.optim.Adam(lae.parameters(), lr=lr)"
      ],
      "outputs": [],
      "metadata": {
        "id": "E-DrXd_DAU5s"
      }
    },
    {
      "cell_type": "code",
      "execution_count": null,
      "source": [
        "def train(model: LinearAutoEncoder, data_loader: DataLoader, optimizer: torch.optim.Optimizer, epochs: int):\n",
        "  model.train()\n",
        "  for epoch in range(epochs):\n",
        "    if epoch % 10 == 0 or epoch == epochs - 1:\n",
        "      print(f\"Epoch: {epoch}\", end=\" \")\n",
        "\n",
        "    running_epoch_loss = 0.0\n",
        "    for batch in data_loader:\n",
        "      x_batch = batch[0].to(device)\n",
        "\n",
        "      # Reset the gradients to zero in the optimizer\n",
        "      optimizer.zero_grad()\n",
        "\n",
        "      # Do a forward pass of this batch on the model\n",
        "      x_prime = model(x_batch)\n",
        "\n",
        "      # Compute the loss\n",
        "      loss = loss_function(x_batch, x_prime)\n",
        "      running_epoch_loss += loss.item()\n",
        "\n",
        "      # Propagate the loss backwards\n",
        "      loss.backward()\n",
        "\n",
        "      # Do a step in the optimizer\n",
        "      optimizer.step()\n",
        "\n",
        "    if epoch % 10 == 0 or epoch == epochs - 1:    \n",
        "      print(f\"loss: {running_epoch_loss / len(dataset)}\")"
      ],
      "outputs": [],
      "metadata": {
        "id": "FqQpl08NAam-"
      }
    },
    {
      "cell_type": "code",
      "execution_count": null,
      "source": [
        "n_epochs = 50\n",
        "\n",
        "train(lae, data_loader=data_loader, optimizer=optimizer, epochs=n_epochs)"
      ],
      "outputs": [
        {
          "output_type": "stream",
          "name": "stdout",
          "text": [
            "Epoch: 0 loss: 0.0009846329662327965\n",
            "Epoch: 10 loss: 0.000867789444886148\n",
            "Epoch: 20 loss: 0.0008647642316296696\n",
            "Epoch: 30 loss: 0.0008645386263728142\n",
            "Epoch: 40 loss: 0.0008647093301638961\n",
            "Epoch: 49 loss: 0.0008647113198414444\n"
          ]
        }
      ],
      "metadata": {
        "colab": {
          "base_uri": "https://localhost:8080/"
        },
        "id": "hlanUIZbDPms",
        "outputId": "f2c626ea-63d1-4d16-c2bd-d795ae43e320"
      }
    },
    {
      "cell_type": "markdown",
      "source": [
        "### Exercise 6"
      ],
      "metadata": {
        "id": "EGVudlJ2Dfij"
      }
    },
    {
      "cell_type": "markdown",
      "source": [
        "Let's print a number and it's reconstruction according to the AE:\n",
        "1. Make a 2-figure subplot.\n",
        "2. In one axis, plot the first digit `x[0].view(28, 28)`\n",
        "3. In another, plot the reconstruction `lae(x[0]).view(28, 28)`.\n",
        "\n",
        "**Warning**. You might need to use `.to(device)` when running on GPU, and `.cpu()` for plotting."
      ],
      "metadata": {
        "id": "TiVUjcgMFog7"
      }
    },
    {
      "cell_type": "code",
      "execution_count": null,
      "source": [
        "f, axarr = plt.subplots(1,2)\n",
        "axarr[0].imshow(x[0].view(28, 28))\n",
        "axarr[1].imshow(lae(x[0].to(device)).view(28,28).tolist())"
      ],
      "outputs": [
        {
          "output_type": "execute_result",
          "data": {
            "text/plain": [
              "<matplotlib.image.AxesImage at 0x7f930637b750>"
            ]
          },
          "metadata": {
            "tags": []
          },
          "execution_count": 50
        },
        {
          "output_type": "display_data",
          "data": {
            "image/png": "[encoded data removed]",
            "text/plain": [
              "<Figure size 432x288 with 2 Axes>"
            ]
          },
          "metadata": {
            "tags": [],
            "needs_background": "light"
          }
        }
      ],
      "metadata": {
        "colab": {
          "base_uri": "https://localhost:8080/",
          "height": 218
        },
        "id": "aCropa8jF4y-",
        "outputId": "97e4b609-470c-44e1-c238-11110d7a91b3"
      }
    },
    {
      "cell_type": "code",
      "execution_count": null,
      "source": [
        "_, (ax1,ax2) = plt.subplots(1,2,sharey=True)\n",
        "ax1.imshow(x[2].view(28,28))\n",
        "ax2.imshow((lae(x[2].to(device)).view(28,28)).tolist())"
      ],
      "outputs": [
        {
          "output_type": "execute_result",
          "data": {
            "text/plain": [
              "<matplotlib.image.AxesImage at 0x7f9306fed510>"
            ]
          },
          "metadata": {
            "tags": []
          },
          "execution_count": 74
        },
        {
          "output_type": "display_data",
          "data": {
            "image/png": "[encoded data removed]",
            "text/plain": [
              "<Figure size 432x288 with 2 Axes>"
            ]
          },
          "metadata": {
            "tags": [],
            "needs_background": "light"
          }
        }
      ],
      "metadata": {
        "colab": {
          "base_uri": "https://localhost:8080/",
          "height": 218
        },
        "id": "PTZxPFSbvnR9",
        "outputId": "894554a1-8f3f-4497-98cd-9bdb80764318"
      }
    },
    {
      "cell_type": "markdown",
      "source": [
        "## A better Autoencoder"
      ],
      "metadata": {
        "id": "rFLSxZMk3kZI"
      }
    },
    {
      "cell_type": "markdown",
      "source": [
        "As you might have seen, the reconstructions of a linear autoencoder on MNIST are not great. In these three exercises we use the code we have already implemented to train a deeper non-linear autoencoder."
      ],
      "metadata": {
        "id": "-R4bynIj4QlZ"
      }
    },
    {
      "cell_type": "markdown",
      "source": [
        "### Exercise 7"
      ],
      "metadata": {
        "id": "nR_AGE2G4bYJ"
      }
    },
    {
      "cell_type": "markdown",
      "source": [
        "In the following you will find an implementation for an autoencoder with one hidden layer in each the encoder and decoder. Fill in the blanks. We leave it up to you to select the number for the amount of nodes in the hidden layers. Remember to add a sigmoid activation to the decoder (why?)."
      ],
      "metadata": {
        "id": "8fH5JOmw4eDL"
      }
    },
    {
      "cell_type": "code",
      "execution_count": null,
      "source": [
        "class AutoEncoder(nn.Module):\n",
        "  def __init__(self):\n",
        "    super(AutoEncoder, self).__init__()\n",
        "    n_hidden = 256\n",
        "    self.encoder = nn.Sequential(\n",
        "      nn.Linear(28 * 28, n_hidden),\n",
        "      nn.ReLU(),\n",
        "      nn.Linear(n_hidden, 2)\n",
        "    ) \n",
        "\n",
        "    self.decoder = nn.Sequential(\n",
        "      nn.Linear(2, n_hidden),\n",
        "      nn.ReLU(),\n",
        "      nn.Linear(n_hidden, 28*28),\n",
        "      nn.Sigmoid()\n",
        "    ) \n",
        "\n",
        "  def encode(self, x: torch.Tensor) -> torch.Tensor:\n",
        "    return self.encoder(x)\n",
        "  \n",
        "  def decode(self, z: torch.Tensor) -> torch.Tensor:\n",
        "    return self.decoder(z)\n",
        "  \n",
        "  def forward(self, x: torch.Tensor) -> torch.Tensor:\n",
        "    x_tilde = self.decoder(self.encoder(x))\n",
        "    return x_tilde"
      ],
      "outputs": [],
      "metadata": {
        "id": "D9OM9Eaa47qO"
      }
    },
    {
      "cell_type": "code",
      "execution_count": null,
      "source": [
        "ae = AutoEncoder().to(device)\n",
        "\n",
        "\n",
        "print(ae)"
      ],
      "outputs": [
        {
          "output_type": "stream",
          "name": "stdout",
          "text": [
            "AutoEncoder(\n",
            "  (encoder): Sequential(\n",
            "    (0): Linear(in_features=784, out_features=256, bias=True)\n",
            "    (1): ReLU()\n",
            "    (2): Linear(in_features=256, out_features=2, bias=True)\n",
            "  )\n",
            "  (decoder): Sequential(\n",
            "    (0): Linear(in_features=2, out_features=256, bias=True)\n",
            "    (1): ReLU()\n",
            "    (2): Linear(in_features=256, out_features=784, bias=True)\n",
            "    (3): Sigmoid()\n",
            "  )\n",
            ")\n"
          ]
        }
      ],
      "metadata": {
        "colab": {
          "base_uri": "https://localhost:8080/"
        },
        "id": "1ZYVNU-4l99P",
        "outputId": "849ac1a9-916b-47e5-b1a1-42961d3a23b5"
      }
    },
    {
      "cell_type": "markdown",
      "source": [
        "### Exercise 8"
      ],
      "metadata": {
        "id": "QF8SiYEr5jJL"
      }
    },
    {
      "cell_type": "markdown",
      "source": [
        "1. Create an optimizer of the parameters of your autoencoder `ae`.\n",
        "2. Use the `train` function we defined above to train your autoencoder `ae`. Train for 50 epochs."
      ],
      "metadata": {
        "id": "cRfEFJyU5rm2"
      }
    },
    {
      "cell_type": "code",
      "execution_count": null,
      "source": [
        "# Defining the things we will need.\n",
        "dataset = TensorDataset(x)\n",
        "data_loader = DataLoader(dataset, batch_size=64, shuffle=True)\n",
        "device = torch.device(\"cuda\" if torch.cuda.is_available() else \"cpu\")\n",
        "lae = LinearAutoEncoder().to(device)\n",
        "\n",
        "ae_optimizer = torch.optim.Adam(ae.parameters(), lr=lr)"
      ],
      "outputs": [],
      "metadata": {
        "id": "JMY5lTxS6MIC"
      }
    },
    {
      "cell_type": "code",
      "execution_count": null,
      "source": [
        "train(ae, data_loader=data_loader, optimizer=ae_optimizer, epochs=n_epochs)"
      ],
      "outputs": [
        {
          "output_type": "stream",
          "name": "stdout",
          "text": [
            "Epoch: 0 loss: 0.000769730747739474\n",
            "Epoch: 10 loss: 0.0006542096403737863\n",
            "Epoch: 20 loss: 0.0006433127276599407\n",
            "Epoch: 30 loss: 0.000639947643627723\n",
            "Epoch: 40 loss: 0.0006368842825914422\n",
            "Epoch: 49 loss: 0.0006358965530991554\n"
          ]
        }
      ],
      "metadata": {
        "colab": {
          "base_uri": "https://localhost:8080/"
        },
        "id": "EfX9eNuC6R0K",
        "outputId": "fdd9543d-0d86-4e18-eaa2-b1cb85c58158"
      }
    },
    {
      "cell_type": "markdown",
      "source": [
        "### Exercise 9"
      ],
      "metadata": {
        "id": "25g2BM7Q6Vhw"
      }
    },
    {
      "cell_type": "markdown",
      "source": [
        "Print the reconstruction of the first digit in a similar way as in exercise 6."
      ],
      "metadata": {
        "id": "WmeHsrb56glQ"
      }
    },
    {
      "cell_type": "code",
      "execution_count": null,
      "source": [
        "f, axarr = plt.subplots(1,2)\n",
        "axarr[0].imshow(x[0].view(28, 28))\n",
        "axarr[1].imshow(ae(x[0].to(device)).view(28,28).tolist())"
      ],
      "outputs": [
        {
          "output_type": "execute_result",
          "data": {
            "text/plain": [
              "<matplotlib.image.AxesImage at 0x7f9301ecd950>"
            ]
          },
          "metadata": {
            "tags": []
          },
          "execution_count": 80
        },
        {
          "output_type": "display_data",
          "data": {
            "image/png": "[encoded data removed]",
            "text/plain": [
              "<Figure size 432x288 with 2 Axes>"
            ]
          },
          "metadata": {
            "tags": [],
            "needs_background": "light"
          }
        }
      ],
      "metadata": {
        "colab": {
          "base_uri": "https://localhost:8080/",
          "height": 218
        },
        "id": "60Rlk2WH6msC",
        "outputId": "46ea5d83-5a79-4100-819c-8140fea79824"
      }
    },
    {
      "cell_type": "markdown",
      "source": [
        "Slightly better, but still not great."
      ],
      "metadata": {
        "id": "bBkHEPLw6pN0"
      }
    },
    {
      "cell_type": "markdown",
      "source": [
        "## Implementing a Generative Adversarial Network"
      ],
      "metadata": {
        "id": "FVOd4c-W6vLd"
      }
    },
    {
      "cell_type": "markdown",
      "source": [
        "In the following examples we will implement a Generative Adversarial Network to sample from the MNIST distribution."
      ],
      "metadata": {
        "id": "XpekD8Uh6x1S"
      }
    },
    {
      "cell_type": "markdown",
      "source": [
        "### Exercise 10"
      ],
      "metadata": {
        "id": "jTGYZ969-Qk0"
      }
    },
    {
      "cell_type": "markdown",
      "source": [
        "1. If we want the discriminator to \"classify\" between real and fake, what would be an appropiate activation function?\n",
        "2. In what follows we will create the two antagonist networks that compete in the minimax game we described in the slides. Fill in the blanks and keep into account the answer to 10.1."
      ],
      "metadata": {
        "id": "xiTY0q_k-WtL"
      }
    },
    {
      "cell_type": "code",
      "execution_count": null,
      "source": [
        "class GAN_Discriminator(nn.Module):\n",
        "  def __init__(self):\n",
        "    super(GAN_Discriminator, self).__init__()\n",
        "\n",
        "    n_hidden = 256\n",
        "    self.input_layer = nn.Sequential(\n",
        "        nn.Linear(28*28, n_hidden),\n",
        "        nn.ReLU()\n",
        "    )\n",
        "    self.output_layer = nn.Sequential(\n",
        "        nn.Linear(n_hidden, 1),\n",
        "        nn.Sigmoid()\n",
        "    )\n",
        "  \n",
        "  def forward(self, x: torch.Tensor) -> torch.Tensor:\n",
        "    return self.output_layer(self.input_layer(x))"
      ],
      "outputs": [],
      "metadata": {
        "id": "G0bQUyc6-0eu"
      }
    },
    {
      "cell_type": "code",
      "execution_count": null,
      "source": [
        "D = GAN_Discriminator()\n",
        "D"
      ],
      "outputs": [
        {
          "output_type": "execute_result",
          "data": {
            "text/plain": [
              "GAN_Discriminator(\n",
              "  (input_layer): Sequential(\n",
              "    (0): Linear(in_features=784, out_features=256, bias=True)\n",
              "    (1): ReLU()\n",
              "  )\n",
              "  (output_layer): Sequential(\n",
              "    (0): Linear(in_features=256, out_features=1, bias=True)\n",
              "    (1): Sigmoid()\n",
              "  )\n",
              ")"
            ]
          },
          "metadata": {
            "tags": []
          },
          "execution_count": 82
        }
      ],
      "metadata": {
        "colab": {
          "base_uri": "https://localhost:8080/"
        },
        "id": "HFa9J8BSB1rO",
        "outputId": "5b744921-63e3-4cb1-88eb-401780963de1"
      }
    },
    {
      "cell_type": "code",
      "execution_count": null,
      "source": [
        "class GAN_Generator(nn.Module):\n",
        "  def __init__(self):\n",
        "    super(GAN_Generator, self).__init__()\n",
        "\n",
        "    n_hidden = 256\n",
        "    self.input_layer = nn.Sequential(\n",
        "        nn.Linear(2, n_hidden),\n",
        "        nn.ReLU()\n",
        "    )\n",
        "    self.output_layer = nn.Sequential(\n",
        "        nn.Linear(n_hidden, 28*28),\n",
        "        nn.Sigmoid()\n",
        "    )\n",
        "\n",
        "  def forward(self, z: torch.Tensor) -> torch.Tensor:\n",
        "    return self.output_layer(self.input_layer(z))"
      ],
      "outputs": [],
      "metadata": {
        "id": "TrAzCfyC_nOM"
      }
    },
    {
      "cell_type": "code",
      "execution_count": null,
      "source": [
        "G = GAN_Generator()\n",
        "G"
      ],
      "outputs": [
        {
          "output_type": "execute_result",
          "data": {
            "text/plain": [
              "GAN_Generator(\n",
              "  (input_layer): Sequential(\n",
              "    (0): Linear(in_features=2, out_features=256, bias=True)\n",
              "    (1): ReLU()\n",
              "  )\n",
              "  (output_layer): Sequential(\n",
              "    (0): Linear(in_features=256, out_features=784, bias=True)\n",
              "    (1): Sigmoid()\n",
              "  )\n",
              ")"
            ]
          },
          "metadata": {
            "tags": []
          },
          "execution_count": 84
        }
      ],
      "metadata": {
        "colab": {
          "base_uri": "https://localhost:8080/"
        },
        "id": "gx8JiGktBxVu",
        "outputId": "f69dcb55-9bbb-415f-f6b6-94e8caab1d4d"
      }
    },
    {
      "cell_type": "markdown",
      "source": [
        "### Exercise 11"
      ],
      "metadata": {
        "id": "lqE72hXSBbBR"
      }
    },
    {
      "cell_type": "markdown",
      "source": [
        "In what follows we will implement a `train_GAN` function that takes the two models `D` and `G` we defined above. Fill in the blanks."
      ],
      "metadata": {
        "id": "xhpPy_LbBoKQ"
      }
    },
    {
      "cell_type": "code",
      "execution_count": null,
      "source": [
        "classification_loss = torch.nn.BCELoss()\n",
        "\n",
        "def train_GAN(\n",
        "    D: GAN_Discriminator,\n",
        "    G: GAN_Generator,\n",
        "    opt_D: torch.optim.Optimizer,\n",
        "    opt_G: torch.optim.Optimizer,\n",
        "    data_loader: DataLoader,\n",
        "    epochs: int\n",
        "  ):\n",
        "  for epoch in range(epochs):\n",
        "    running_loss_D, running_loss_G = 0.0, 0.0\n",
        "    for real_batch, in data_loader:\n",
        "      real_batch = real_batch.to(device)\n",
        "      \n",
        "      # Getting random zs\n",
        "      batch_size, _ = real_batch.shape\n",
        "\n",
        "      ##! Create a random vector of shape (batch_size, 2), finish with .to(device) \n",
        "      random_z = torch.rand(batch_size,2).to(device)\n",
        "\n",
        "      # Minimizing w.r.t. D\n",
        "      D.train()\n",
        "      opt_D.zero_grad()\n",
        "\n",
        "      ## Computing the Discriminator at both\n",
        "      D_at_x = D(real_batch)\n",
        "      G_at_z = G(random_z)\n",
        "\n",
        "      ### Correctly classifying the real ones\n",
        "      loss_D_reals = classification_loss(\n",
        "          D_at_x,\n",
        "          torch.ones(batch_size, 1).to(device)\n",
        "      )\n",
        "\n",
        "      ### Correctly classifying the fake ones\n",
        "      loss_D_fakes = classification_loss(\n",
        "          D(G_at_z.detach()),\n",
        "          torch.zeros(batch_size, 1).to(device)\n",
        "      )\n",
        "\n",
        "      ##! Take the average of loss_D_reals and loss_D_fakes\n",
        "      #loss_D = loss_function(loss_D_reals, loss_D_fakes)\n",
        "      loss_D = (loss_D_reals + loss_D_fakes) / 2\n",
        "\n",
        "      ##! Optimizer step. Fill in the blanks.\n",
        "      running_loss_D += loss_D.item()\n",
        "      loss_D.backward()\n",
        "      opt_D.step()\n",
        "\n",
        "      D.eval()\n",
        "\n",
        "      # Maximizing w.r.t G\n",
        "      G.train()\n",
        "      opt_G.zero_grad()\n",
        "\n",
        "      ## Computing fakes with G.\n",
        "      G_at_z = G(random_z)\n",
        "\n",
        "      ## Computing the missclassification of the Discriminator\n",
        "      loss_G = classification_loss(\n",
        "          D(G_at_z),\n",
        "          torch.ones(batch_size, 1).to(device)\n",
        "      )\n",
        "      \n",
        "      ##! Optimizer step. Fill in the blanks\n",
        "      running_loss_G += loss_G.item()\n",
        "      loss_G.backward()\n",
        "      opt_G.step()\n",
        "\n",
        "      G.eval()\n",
        "\n",
        "    # Printing utilities. Don't worry about this.\n",
        "    if epoch % 10 == 0 or epoch == epochs - 1:\n",
        "      print(f\"Epoch {epoch}, loss D: {running_loss_D/len(data_loader):.5f}, loss G: {running_loss_G/len(data_loader):.5f}\")\n",
        "      print(\"Random samples:\")\n",
        "      _, axes = plt.subplots(1, 3)\n",
        "      for fake_img, ax in zip(G_at_z, axes):\n",
        "        ax.axis(\"off\")\n",
        "        img = fake_img.view(28, 28).cpu().detach().numpy()\n",
        "        ax.imshow(img, vmin=0, vmax=1)\n",
        "\n",
        "      plt.show()\n",
        "      plt.close()"
      ],
      "outputs": [],
      "metadata": {
        "id": "KTykW12kCAcE"
      }
    },
    {
      "cell_type": "markdown",
      "source": [
        "We will train this GAN for 100 epochs.\n",
        "1. Start by defining instances of our generator and discriminator (remember to use `.to(device)`)\n",
        "2. Define two optimizers (one for each network), and set a learning rate less than or equal to `0.001`.\n",
        "3. Run the `train_GAN` function with 100 epochs."
      ],
      "metadata": {
        "id": "Ov1vh76KZTpV"
      }
    },
    {
      "cell_type": "code",
      "execution_count": null,
      "source": [
        "dataset = TensorDataset(x)\n",
        "data_loader = DataLoader(dataset, batch_size=64, shuffle=True)\n",
        "device = torch.device(\"cuda\" if torch.cuda.is_available() else \"cpu\")\n",
        "\n",
        "n_epochs = 100\n",
        "lr = 0.001\n",
        "\n",
        "D = GAN_Discriminator().to(device)\n",
        "G = GAN_Generator().to(device)\n",
        "\n",
        "opt_G = torch.optim.Adam(G.parameters(), lr=lr)\n",
        "opt_D = torch.optim.Adam(D.parameters(), lr=lr)\n",
        "\n",
        "\n",
        "train_GAN(D, G, opt_D, opt_G, data_loader, n_epochs)"
      ],
      "outputs": [
        {
          "output_type": "stream",
          "name": "stdout",
          "text": [
            "Epoch 0, loss D: 0.04575, loss G: 6.20434\n",
            "Random samples:\n"
          ]
        },
        {
          "output_type": "display_data",
          "data": {
            "image/png": "[encoded data removed]",
            "text/plain": [
              "<Figure size 432x288 with 3 Axes>"
            ]
          },
          "metadata": {
            "tags": [],
            "needs_background": "light"
          }
        },
        {
          "output_type": "stream",
          "name": "stdout",
          "text": [
            "Epoch 10, loss D: 0.00326, loss G: 9.31827\n",
            "Random samples:\n"
          ]
        },
        {
          "output_type": "display_data",
          "data": {
            "image/png": "[encoded data removed]",
            "text/plain": [
              "<Figure size 432x288 with 3 Axes>"
            ]
          },
          "metadata": {
            "tags": [],
            "needs_background": "light"
          }
        },
        {
          "output_type": "stream",
          "name": "stdout",
          "text": [
            "Epoch 20, loss D: 0.00091, loss G: 20.65652\n",
            "Random samples:\n"
          ]
        },
        {
          "output_type": "display_data",
          "data": {
            "image/png": "[encoded data removed]",
            "text/plain": [
              "<Figure size 432x288 with 3 Axes>"
            ]
          },
          "metadata": {
            "tags": [],
            "needs_background": "light"
          }
        },
        {
          "output_type": "stream",
          "name": "stdout",
          "text": [
            "Epoch 30, loss D: 0.00000, loss G: 54.46499\n",
            "Random samples:\n"
          ]
        },
        {
          "output_type": "display_data",
          "data": {
            "image/png": "[encoded data removed]",
            "text/plain": [
              "<Figure size 432x288 with 3 Axes>"
            ]
          },
          "metadata": {
            "tags": [],
            "needs_background": "light"
          }
        },
        {
          "output_type": "stream",
          "name": "stdout",
          "text": [
            "Epoch 40, loss D: 0.00000, loss G: 53.99581\n",
            "Random samples:\n"
          ]
        },
        {
          "output_type": "display_data",
          "data": {
            "image/png": "[encoded data removed]",
            "text/plain": [
              "<Figure size 432x288 with 3 Axes>"
            ]
          },
          "metadata": {
            "tags": [],
            "needs_background": "light"
          }
        },
        {
          "output_type": "stream",
          "name": "stdout",
          "text": [
            "Epoch 50, loss D: 0.00000, loss G: 52.48593\n",
            "Random samples:\n"
          ]
        },
        {
          "output_type": "display_data",
          "data": {
            "image/png": "[encoded data removed]",
            "text/plain": [
              "<Figure size 432x288 with 3 Axes>"
            ]
          },
          "metadata": {
            "tags": [],
            "needs_background": "light"
          }
        },
        {
          "output_type": "stream",
          "name": "stdout",
          "text": [
            "Epoch 60, loss D: 0.00000, loss G: 52.12497\n",
            "Random samples:\n"
          ]
        },
        {
          "output_type": "display_data",
          "data": {
            "image/png": "[encoded data removed]",
            "text/plain": [
              "<Figure size 432x288 with 3 Axes>"
            ]
          },
          "metadata": {
            "tags": [],
            "needs_background": "light"
          }
        },
        {
          "output_type": "stream",
          "name": "stdout",
          "text": [
            "Epoch 70, loss D: 0.00000, loss G: 52.09284\n",
            "Random samples:\n"
          ]
        },
        {
          "output_type": "display_data",
          "data": {
            "image/png": "[encoded data removed]",
            "text/plain": [
              "<Figure size 432x288 with 3 Axes>"
            ]
          },
          "metadata": {
            "tags": [],
            "needs_background": "light"
          }
        },
        {
          "output_type": "stream",
          "name": "stdout",
          "text": [
            "Epoch 80, loss D: 0.00000, loss G: 52.06029\n",
            "Random samples:\n"
          ]
        },
        {
          "output_type": "display_data",
          "data": {
            "image/png": "[encoded data removed]",
            "text/plain": [
              "<Figure size 432x288 with 3 Axes>"
            ]
          },
          "metadata": {
            "tags": [],
            "needs_background": "light"
          }
        },
        {
          "output_type": "stream",
          "name": "stdout",
          "text": [
            "Epoch 90, loss D: 0.00000, loss G: 52.02449\n",
            "Random samples:\n"
          ]
        },
        {
          "output_type": "display_data",
          "data": {
            "image/png": "[encoded data removed]",
            "text/plain": [
              "<Figure size 432x288 with 3 Axes>"
            ]
          },
          "metadata": {
            "tags": [],
            "needs_background": "light"
          }
        },
        {
          "output_type": "stream",
          "name": "stdout",
          "text": [
            "Epoch 99, loss D: 0.00000, loss G: 51.99273\n",
            "Random samples:\n"
          ]
        },
        {
          "output_type": "display_data",
          "data": {
            "image/png": "[encoded data removed]",
            "text/plain": [
              "<Figure size 432x288 with 3 Axes>"
            ]
          },
          "metadata": {
            "tags": [],
            "needs_background": "light"
          }
        }
      ],
      "metadata": {
        "colab": {
          "base_uri": "https://localhost:8080/",
          "height": 1000
        },
        "id": "YpcfkoqWCS7j",
        "outputId": "2e3419d0-e01d-4494-92b0-ac541bf2aca1"
      }
    },
    {
      "cell_type": "markdown",
      "source": [
        "### Exercise 12"
      ],
      "metadata": {
        "id": "6UnV5lIAGgiK"
      }
    },
    {
      "cell_type": "markdown",
      "source": [
        "1. Get a random vector `z` of shape `(1000, 2)` using `torch.randn`.\n",
        "2. Get the generated images for said `z` using our generator `G`.\n",
        "3. Plot them in the latent space using the auxiliary function we provide."
      ],
      "metadata": {
        "id": "OoAygUpbV59e"
      }
    },
    {
      "cell_type": "code",
      "execution_count": null,
      "source": [
        "from matplotlib.offsetbox import OffsetImage, AnnotationBbox\n",
        "\n",
        "def plot_images(z: torch.Tensor, fakes: torch.Tensor):\n",
        "  \"\"\"\n",
        "  Plots the fake images in {fakes} at positions {z}.\n",
        "  \"\"\"\n",
        "  _, ax = plt.subplots(1, 1)\n",
        "\n",
        "  z = z.cpu().detach().numpy()\n",
        "  images = fakes.view(fakes.shape[0], 28, 28)\n",
        "  images = images.cpu().detach().numpy()\n",
        "\n",
        "  for zi, img in zip(z, images):\n",
        "    im = OffsetImage(img, zoom=0.5)\n",
        "    ab = AnnotationBbox(im, zi, xycoords='data', frameon=False)\n",
        "    ax.add_artist(ab)\n",
        "    ax.update_datalim([zi])\n",
        "    ax.autoscale()"
      ],
      "outputs": [],
      "metadata": {
        "id": "yb8idkK5XKHI"
      }
    },
    {
      "cell_type": "code",
      "execution_count": null,
      "source": [
        "z = torch.rand(1000,2).to(device)\n",
        "fakes = G(z)\n",
        "plot_images(z, fakes)"
      ],
      "outputs": [
        {
          "output_type": "display_data",
          "data": {
            "image/png": "[encoded data removed]",
            "text/plain": [
              "<Figure size 432x288 with 1 Axes>"
            ]
          },
          "metadata": {
            "tags": [],
            "needs_background": "light"
          }
        }
      ],
      "metadata": {
        "colab": {
          "base_uri": "https://localhost:8080/",
          "height": 265
        },
        "id": "VBNkGDYBXM4A",
        "outputId": "c31380a3-663e-45a0-8b9b-db94979327e7"
      }
    }
  ]
}