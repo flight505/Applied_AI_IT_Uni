{
  "nbformat": 4,
  "nbformat_minor": 2,
  "metadata": {
    "colab": {
      "name": "2.linear_regression.ipynb",
      "provenance": [],
      "collapsed_sections": []
    },
    "kernelspec": {
      "name": "python3",
      "display_name": "Python 3.8.10 64-bit ('AI_ITU': conda)"
    },
    "accelerator": "GPU",
    "language_info": {
      "name": "python",
      "version": "3.8.10",
      "mimetype": "text/x-python",
      "codemirror_mode": {
        "name": "ipython",
        "version": 3
      },
      "pygments_lexer": "ipython3",
      "nbconvert_exporter": "python",
      "file_extension": ".py"
    },
    "interpreter": {
      "hash": "529a06fb4068a4b13268933b910005f265dccc230859ef1ec378adb85153fb8f"
    }
  },
  "cells": [
    {
      "cell_type": "code",
      "execution_count": 5,
      "source": [
        "import numpy as np\n",
        "import pandas as pd\n",
        "import seaborn as sns\n",
        "from pylab import rcParams\n",
        "import matplotlib.pyplot as plt\n",
        "import matplotlib.animation as animation\n",
        "from matplotlib import rc\n",
        "import unittest\n",
        "import wget\n",
        "import os\n",
        "\n",
        "%matplotlib inline\n",
        "\n",
        "sns.set(style='whitegrid', palette='muted', font_scale=1.5)\n",
        "\n",
        "rcParams['figure.figsize'] = 14, 8\n",
        "\n",
        "RANDOM_SEED = 42\n",
        "\n",
        "np.random.seed(RANDOM_SEED)\n",
        "\n",
        "def run_tests():\n",
        "  unittest.main(argv=[''], verbosity=1, exit=False)"
      ],
      "outputs": [],
      "metadata": {
        "id": "DWQVJtT2uBSG"
      }
    },
    {
      "cell_type": "markdown",
      "source": [
        "# Load the data\n",
        "\n",
        "Data [House Prices: Advanced Regression Techniques](https://www.kaggle.com/c/house-prices-advanced-regression-techniques)"
      ],
      "metadata": {
        "id": "1W7kXJn1Sh8a"
      }
    },
    {
      "cell_type": "code",
      "execution_count": 10,
      "source": [
        "os.sys(wget https://raw.githubusercontent.com/Data-Science-FMI/ml-from-scratch-2019/master/data/house_prices_train.csv)"
      ],
      "outputs": [
        {
          "output_type": "error",
          "ename": "SyntaxError",
          "evalue": "invalid syntax (<ipython-input-10-726503815436>, line 1)",
          "traceback": [
            "\u001b[0;36m  File \u001b[0;32m\"<ipython-input-10-726503815436>\"\u001b[0;36m, line \u001b[0;32m1\u001b[0m\n\u001b[0;31m    os.sys(wget https://raw.githubusercontent.com/Data-Science-FMI/ml-from-scratch-2019/master/data/house_prices_train.csv)\u001b[0m\n\u001b[0m                ^\u001b[0m\n\u001b[0;31mSyntaxError\u001b[0m\u001b[0;31m:\u001b[0m invalid syntax\n"
          ]
        }
      ],
      "metadata": {
        "id": "3RA46huZgyOj",
        "colab": {
          "base_uri": "https://localhost:8080/",
          "height": 204
        },
        "outputId": "84fd9756-0a32-4292-abb5-d976348b8a68"
      }
    },
    {
      "cell_type": "code",
      "execution_count": 7,
      "source": [
        "df_train = pd.read_csv('house_prices_train.csv')"
      ],
      "outputs": [
        {
          "output_type": "error",
          "ename": "FileNotFoundError",
          "evalue": "[Errno 2] No such file or directory: 'house_prices_train.csv'",
          "traceback": [
            "\u001b[0;31m---------------------------------------------------------------------------\u001b[0m",
            "\u001b[0;31mFileNotFoundError\u001b[0m                         Traceback (most recent call last)",
            "\u001b[0;32m<ipython-input-7-22c54e33a4bc>\u001b[0m in \u001b[0;36m<module>\u001b[0;34m\u001b[0m\n\u001b[0;32m----> 1\u001b[0;31m \u001b[0mdf_train\u001b[0m \u001b[0;34m=\u001b[0m \u001b[0mpd\u001b[0m\u001b[0;34m.\u001b[0m\u001b[0mread_csv\u001b[0m\u001b[0;34m(\u001b[0m\u001b[0;34m'house_prices_train.csv'\u001b[0m\u001b[0;34m)\u001b[0m\u001b[0;34m\u001b[0m\u001b[0;34m\u001b[0m\u001b[0m\n\u001b[0m",
            "\u001b[0;32m/usr/local/anaconda3/envs/AI_ITU/lib/python3.8/site-packages/pandas/util/_decorators.py\u001b[0m in \u001b[0;36mwrapper\u001b[0;34m(*args, **kwargs)\u001b[0m\n\u001b[1;32m    309\u001b[0m                     \u001b[0mstacklevel\u001b[0m\u001b[0;34m=\u001b[0m\u001b[0mstacklevel\u001b[0m\u001b[0;34m,\u001b[0m\u001b[0;34m\u001b[0m\u001b[0;34m\u001b[0m\u001b[0m\n\u001b[1;32m    310\u001b[0m                 )\n\u001b[0;32m--> 311\u001b[0;31m             \u001b[0;32mreturn\u001b[0m \u001b[0mfunc\u001b[0m\u001b[0;34m(\u001b[0m\u001b[0;34m*\u001b[0m\u001b[0margs\u001b[0m\u001b[0;34m,\u001b[0m \u001b[0;34m**\u001b[0m\u001b[0mkwargs\u001b[0m\u001b[0;34m)\u001b[0m\u001b[0;34m\u001b[0m\u001b[0;34m\u001b[0m\u001b[0m\n\u001b[0m\u001b[1;32m    312\u001b[0m \u001b[0;34m\u001b[0m\u001b[0m\n\u001b[1;32m    313\u001b[0m         \u001b[0;32mreturn\u001b[0m \u001b[0mwrapper\u001b[0m\u001b[0;34m\u001b[0m\u001b[0;34m\u001b[0m\u001b[0m\n",
            "\u001b[0;32m/usr/local/anaconda3/envs/AI_ITU/lib/python3.8/site-packages/pandas/io/parsers/readers.py\u001b[0m in \u001b[0;36mread_csv\u001b[0;34m(filepath_or_buffer, sep, delimiter, header, names, index_col, usecols, squeeze, prefix, mangle_dupe_cols, dtype, engine, converters, true_values, false_values, skipinitialspace, skiprows, skipfooter, nrows, na_values, keep_default_na, na_filter, verbose, skip_blank_lines, parse_dates, infer_datetime_format, keep_date_col, date_parser, dayfirst, cache_dates, iterator, chunksize, compression, thousands, decimal, lineterminator, quotechar, quoting, doublequote, escapechar, comment, encoding, encoding_errors, dialect, error_bad_lines, warn_bad_lines, on_bad_lines, delim_whitespace, low_memory, memory_map, float_precision, storage_options)\u001b[0m\n\u001b[1;32m    584\u001b[0m     \u001b[0mkwds\u001b[0m\u001b[0;34m.\u001b[0m\u001b[0mupdate\u001b[0m\u001b[0;34m(\u001b[0m\u001b[0mkwds_defaults\u001b[0m\u001b[0;34m)\u001b[0m\u001b[0;34m\u001b[0m\u001b[0;34m\u001b[0m\u001b[0m\n\u001b[1;32m    585\u001b[0m \u001b[0;34m\u001b[0m\u001b[0m\n\u001b[0;32m--> 586\u001b[0;31m     \u001b[0;32mreturn\u001b[0m \u001b[0m_read\u001b[0m\u001b[0;34m(\u001b[0m\u001b[0mfilepath_or_buffer\u001b[0m\u001b[0;34m,\u001b[0m \u001b[0mkwds\u001b[0m\u001b[0;34m)\u001b[0m\u001b[0;34m\u001b[0m\u001b[0;34m\u001b[0m\u001b[0m\n\u001b[0m\u001b[1;32m    587\u001b[0m \u001b[0;34m\u001b[0m\u001b[0m\n\u001b[1;32m    588\u001b[0m \u001b[0;34m\u001b[0m\u001b[0m\n",
            "\u001b[0;32m/usr/local/anaconda3/envs/AI_ITU/lib/python3.8/site-packages/pandas/io/parsers/readers.py\u001b[0m in \u001b[0;36m_read\u001b[0;34m(filepath_or_buffer, kwds)\u001b[0m\n\u001b[1;32m    480\u001b[0m \u001b[0;34m\u001b[0m\u001b[0m\n\u001b[1;32m    481\u001b[0m     \u001b[0;31m# Create the parser.\u001b[0m\u001b[0;34m\u001b[0m\u001b[0;34m\u001b[0m\u001b[0;34m\u001b[0m\u001b[0m\n\u001b[0;32m--> 482\u001b[0;31m     \u001b[0mparser\u001b[0m \u001b[0;34m=\u001b[0m \u001b[0mTextFileReader\u001b[0m\u001b[0;34m(\u001b[0m\u001b[0mfilepath_or_buffer\u001b[0m\u001b[0;34m,\u001b[0m \u001b[0;34m**\u001b[0m\u001b[0mkwds\u001b[0m\u001b[0;34m)\u001b[0m\u001b[0;34m\u001b[0m\u001b[0;34m\u001b[0m\u001b[0m\n\u001b[0m\u001b[1;32m    483\u001b[0m \u001b[0;34m\u001b[0m\u001b[0m\n\u001b[1;32m    484\u001b[0m     \u001b[0;32mif\u001b[0m \u001b[0mchunksize\u001b[0m \u001b[0;32mor\u001b[0m \u001b[0miterator\u001b[0m\u001b[0;34m:\u001b[0m\u001b[0;34m\u001b[0m\u001b[0;34m\u001b[0m\u001b[0m\n",
            "\u001b[0;32m/usr/local/anaconda3/envs/AI_ITU/lib/python3.8/site-packages/pandas/io/parsers/readers.py\u001b[0m in \u001b[0;36m__init__\u001b[0;34m(self, f, engine, **kwds)\u001b[0m\n\u001b[1;32m    809\u001b[0m             \u001b[0mself\u001b[0m\u001b[0;34m.\u001b[0m\u001b[0moptions\u001b[0m\u001b[0;34m[\u001b[0m\u001b[0;34m\"has_index_names\"\u001b[0m\u001b[0;34m]\u001b[0m \u001b[0;34m=\u001b[0m \u001b[0mkwds\u001b[0m\u001b[0;34m[\u001b[0m\u001b[0;34m\"has_index_names\"\u001b[0m\u001b[0;34m]\u001b[0m\u001b[0;34m\u001b[0m\u001b[0;34m\u001b[0m\u001b[0m\n\u001b[1;32m    810\u001b[0m \u001b[0;34m\u001b[0m\u001b[0m\n\u001b[0;32m--> 811\u001b[0;31m         \u001b[0mself\u001b[0m\u001b[0;34m.\u001b[0m\u001b[0m_engine\u001b[0m \u001b[0;34m=\u001b[0m \u001b[0mself\u001b[0m\u001b[0;34m.\u001b[0m\u001b[0m_make_engine\u001b[0m\u001b[0;34m(\u001b[0m\u001b[0mself\u001b[0m\u001b[0;34m.\u001b[0m\u001b[0mengine\u001b[0m\u001b[0;34m)\u001b[0m\u001b[0;34m\u001b[0m\u001b[0;34m\u001b[0m\u001b[0m\n\u001b[0m\u001b[1;32m    812\u001b[0m \u001b[0;34m\u001b[0m\u001b[0m\n\u001b[1;32m    813\u001b[0m     \u001b[0;32mdef\u001b[0m \u001b[0mclose\u001b[0m\u001b[0;34m(\u001b[0m\u001b[0mself\u001b[0m\u001b[0;34m)\u001b[0m\u001b[0;34m:\u001b[0m\u001b[0;34m\u001b[0m\u001b[0;34m\u001b[0m\u001b[0m\n",
            "\u001b[0;32m/usr/local/anaconda3/envs/AI_ITU/lib/python3.8/site-packages/pandas/io/parsers/readers.py\u001b[0m in \u001b[0;36m_make_engine\u001b[0;34m(self, engine)\u001b[0m\n\u001b[1;32m   1038\u001b[0m             )\n\u001b[1;32m   1039\u001b[0m         \u001b[0;31m# error: Too many arguments for \"ParserBase\"\u001b[0m\u001b[0;34m\u001b[0m\u001b[0;34m\u001b[0m\u001b[0;34m\u001b[0m\u001b[0m\n\u001b[0;32m-> 1040\u001b[0;31m         \u001b[0;32mreturn\u001b[0m \u001b[0mmapping\u001b[0m\u001b[0;34m[\u001b[0m\u001b[0mengine\u001b[0m\u001b[0;34m]\u001b[0m\u001b[0;34m(\u001b[0m\u001b[0mself\u001b[0m\u001b[0;34m.\u001b[0m\u001b[0mf\u001b[0m\u001b[0;34m,\u001b[0m \u001b[0;34m**\u001b[0m\u001b[0mself\u001b[0m\u001b[0;34m.\u001b[0m\u001b[0moptions\u001b[0m\u001b[0;34m)\u001b[0m  \u001b[0;31m# type: ignore[call-arg]\u001b[0m\u001b[0;34m\u001b[0m\u001b[0;34m\u001b[0m\u001b[0m\n\u001b[0m\u001b[1;32m   1041\u001b[0m \u001b[0;34m\u001b[0m\u001b[0m\n\u001b[1;32m   1042\u001b[0m     \u001b[0;32mdef\u001b[0m \u001b[0m_failover_to_python\u001b[0m\u001b[0;34m(\u001b[0m\u001b[0mself\u001b[0m\u001b[0;34m)\u001b[0m\u001b[0;34m:\u001b[0m\u001b[0;34m\u001b[0m\u001b[0;34m\u001b[0m\u001b[0m\n",
            "\u001b[0;32m/usr/local/anaconda3/envs/AI_ITU/lib/python3.8/site-packages/pandas/io/parsers/c_parser_wrapper.py\u001b[0m in \u001b[0;36m__init__\u001b[0;34m(self, src, **kwds)\u001b[0m\n\u001b[1;32m     49\u001b[0m \u001b[0;34m\u001b[0m\u001b[0m\n\u001b[1;32m     50\u001b[0m         \u001b[0;31m# open handles\u001b[0m\u001b[0;34m\u001b[0m\u001b[0;34m\u001b[0m\u001b[0;34m\u001b[0m\u001b[0m\n\u001b[0;32m---> 51\u001b[0;31m         \u001b[0mself\u001b[0m\u001b[0;34m.\u001b[0m\u001b[0m_open_handles\u001b[0m\u001b[0;34m(\u001b[0m\u001b[0msrc\u001b[0m\u001b[0;34m,\u001b[0m \u001b[0mkwds\u001b[0m\u001b[0;34m)\u001b[0m\u001b[0;34m\u001b[0m\u001b[0;34m\u001b[0m\u001b[0m\n\u001b[0m\u001b[1;32m     52\u001b[0m         \u001b[0;32massert\u001b[0m \u001b[0mself\u001b[0m\u001b[0;34m.\u001b[0m\u001b[0mhandles\u001b[0m \u001b[0;32mis\u001b[0m \u001b[0;32mnot\u001b[0m \u001b[0;32mNone\u001b[0m\u001b[0;34m\u001b[0m\u001b[0;34m\u001b[0m\u001b[0m\n\u001b[1;32m     53\u001b[0m \u001b[0;34m\u001b[0m\u001b[0m\n",
            "\u001b[0;32m/usr/local/anaconda3/envs/AI_ITU/lib/python3.8/site-packages/pandas/io/parsers/base_parser.py\u001b[0m in \u001b[0;36m_open_handles\u001b[0;34m(self, src, kwds)\u001b[0m\n\u001b[1;32m    220\u001b[0m         \u001b[0mLet\u001b[0m \u001b[0mthe\u001b[0m \u001b[0mreaders\u001b[0m \u001b[0mopen\u001b[0m \u001b[0mIOHandles\u001b[0m \u001b[0mafter\u001b[0m \u001b[0mthey\u001b[0m \u001b[0mare\u001b[0m \u001b[0mdone\u001b[0m \u001b[0;32mwith\u001b[0m \u001b[0mtheir\u001b[0m \u001b[0mpotential\u001b[0m \u001b[0mraises\u001b[0m\u001b[0;34m.\u001b[0m\u001b[0;34m\u001b[0m\u001b[0;34m\u001b[0m\u001b[0m\n\u001b[1;32m    221\u001b[0m         \"\"\"\n\u001b[0;32m--> 222\u001b[0;31m         self.handles = get_handle(\n\u001b[0m\u001b[1;32m    223\u001b[0m             \u001b[0msrc\u001b[0m\u001b[0;34m,\u001b[0m\u001b[0;34m\u001b[0m\u001b[0;34m\u001b[0m\u001b[0m\n\u001b[1;32m    224\u001b[0m             \u001b[0;34m\"r\"\u001b[0m\u001b[0;34m,\u001b[0m\u001b[0;34m\u001b[0m\u001b[0;34m\u001b[0m\u001b[0m\n",
            "\u001b[0;32m/usr/local/anaconda3/envs/AI_ITU/lib/python3.8/site-packages/pandas/io/common.py\u001b[0m in \u001b[0;36mget_handle\u001b[0;34m(path_or_buf, mode, encoding, compression, memory_map, is_text, errors, storage_options)\u001b[0m\n\u001b[1;32m    699\u001b[0m         \u001b[0;32mif\u001b[0m \u001b[0mioargs\u001b[0m\u001b[0;34m.\u001b[0m\u001b[0mencoding\u001b[0m \u001b[0;32mand\u001b[0m \u001b[0;34m\"b\"\u001b[0m \u001b[0;32mnot\u001b[0m \u001b[0;32min\u001b[0m \u001b[0mioargs\u001b[0m\u001b[0;34m.\u001b[0m\u001b[0mmode\u001b[0m\u001b[0;34m:\u001b[0m\u001b[0;34m\u001b[0m\u001b[0;34m\u001b[0m\u001b[0m\n\u001b[1;32m    700\u001b[0m             \u001b[0;31m# Encoding\u001b[0m\u001b[0;34m\u001b[0m\u001b[0;34m\u001b[0m\u001b[0;34m\u001b[0m\u001b[0m\n\u001b[0;32m--> 701\u001b[0;31m             handle = open(\n\u001b[0m\u001b[1;32m    702\u001b[0m                 \u001b[0mhandle\u001b[0m\u001b[0;34m,\u001b[0m\u001b[0;34m\u001b[0m\u001b[0;34m\u001b[0m\u001b[0m\n\u001b[1;32m    703\u001b[0m                 \u001b[0mioargs\u001b[0m\u001b[0;34m.\u001b[0m\u001b[0mmode\u001b[0m\u001b[0;34m,\u001b[0m\u001b[0;34m\u001b[0m\u001b[0;34m\u001b[0m\u001b[0m\n",
            "\u001b[0;31mFileNotFoundError\u001b[0m: [Errno 2] No such file or directory: 'house_prices_train.csv'"
          ]
        }
      ],
      "metadata": {
        "id": "P_jaLzJnqT_y"
      }
    },
    {
      "cell_type": "markdown",
      "source": [
        "# Data exploration"
      ],
      "metadata": {
        "id": "X60KNF9RTyEu"
      }
    },
    {
      "cell_type": "code",
      "execution_count": null,
      "source": [
        "df_train['SalePrice'].describe()"
      ],
      "outputs": [],
      "metadata": {
        "id": "4YSv7SqUR6bd",
        "colab": {
          "base_uri": "https://localhost:8080/",
          "height": 170
        },
        "outputId": "5cd3a6a1-f677-498c-ee99-82c48f3f76f6"
      }
    },
    {
      "cell_type": "code",
      "execution_count": null,
      "source": [
        "sns.distplot(df_train['SalePrice']);"
      ],
      "outputs": [],
      "metadata": {
        "id": "I7ykRIwOVxBa",
        "colab": {
          "base_uri": "https://localhost:8080/",
          "height": 557
        },
        "outputId": "59e2fb56-878b-4851-d478-8fefdc810a54"
      }
    },
    {
      "cell_type": "code",
      "execution_count": null,
      "source": [
        "var = 'GrLivArea'\n",
        "data = pd.concat([df_train['SalePrice'], df_train[var]], axis=1)\n",
        "data.plot.scatter(x=var, y='SalePrice', ylim=(0,800000), s=32);"
      ],
      "outputs": [],
      "metadata": {
        "id": "9A7RjShcV7qm",
        "colab": {
          "base_uri": "https://localhost:8080/",
          "height": 548
        },
        "outputId": "5042bf9d-f1a5-4318-979a-0e3709c7236c"
      }
    },
    {
      "cell_type": "code",
      "execution_count": null,
      "source": [
        "var = 'TotalBsmtSF'\n",
        "data = pd.concat([df_train['SalePrice'], df_train[var]], axis=1)\n",
        "data.plot.scatter(x=var, y='SalePrice', ylim=(0,800000));"
      ],
      "outputs": [],
      "metadata": {
        "id": "6XgD7MrdWAoJ",
        "colab": {
          "base_uri": "https://localhost:8080/",
          "height": 548
        },
        "outputId": "7f9cb05a-1463-43c4-f66d-7e859d939a5a"
      }
    },
    {
      "cell_type": "code",
      "execution_count": null,
      "source": [
        "var = 'OverallQual'\n",
        "data = pd.concat([df_train['SalePrice'], df_train[var]], axis=1)\n",
        "f, ax = plt.subplots(figsize=(14, 8))\n",
        "fig = sns.boxplot(x=var, y=\"SalePrice\", data=data)\n",
        "fig.axis(ymin=0, ymax=800000);"
      ],
      "outputs": [],
      "metadata": {
        "id": "oOqgVkVrWIHB",
        "colab": {
          "base_uri": "https://localhost:8080/",
          "height": 545
        },
        "outputId": "b58b9360-a305-4dc9-cafd-402b4fcaece6"
      }
    },
    {
      "cell_type": "code",
      "execution_count": null,
      "source": [
        "corrmat = df_train.corr()\n",
        "f, ax = plt.subplots(figsize=(12, 9))\n",
        "sns.heatmap(corrmat, vmax=.8, square=True);"
      ],
      "outputs": [],
      "metadata": {
        "id": "K9oqWbmaWWjn",
        "colab": {
          "base_uri": "https://localhost:8080/",
          "height": 634
        },
        "outputId": "73332dea-f384-4941-9637-4193632dddfa"
      }
    },
    {
      "cell_type": "code",
      "execution_count": null,
      "source": [
        "k = 9 #number of variables for heatmap\n",
        "cols = corrmat.nlargest(k, 'SalePrice')['SalePrice'].index\n",
        "f, ax = plt.subplots(figsize=(14, 10))\n",
        "sns.heatmap(df_train[cols].corr(), vmax=.8, square=True);"
      ],
      "outputs": [],
      "metadata": {
        "id": "jGetIp9sWtdo",
        "colab": {
          "base_uri": "https://localhost:8080/",
          "height": 691
        },
        "outputId": "dd2bcbd5-2a95-4d74-baf8-f8006007a197"
      }
    },
    {
      "cell_type": "code",
      "execution_count": null,
      "source": [
        "cols = ['SalePrice', 'OverallQual', 'GrLivArea', 'GarageCars']\n",
        "sns.pairplot(df_train[cols], size = 4);"
      ],
      "outputs": [],
      "metadata": {
        "id": "-7RoixG1Y0YC",
        "colab": {
          "base_uri": "https://localhost:8080/",
          "height": 1143
        },
        "outputId": "09ec694a-8f41-4335-9ea1-4b11f48935f4"
      }
    },
    {
      "cell_type": "markdown",
      "source": [
        "## Do we have missing data?"
      ],
      "metadata": {
        "id": "O6nLbr0bZN6y"
      }
    },
    {
      "cell_type": "code",
      "execution_count": null,
      "source": [
        "total = df_train.isnull().sum().sort_values(ascending=False)\n",
        "percent = (df_train.isnull().sum()/df_train.isnull().count()).sort_values(ascending=False)\n",
        "missing_data = pd.concat([total, percent], axis=1, keys=['Total', 'Percent'])\n",
        "missing_data.head(20)"
      ],
      "outputs": [],
      "metadata": {
        "id": "UPfBNvltZ7Cl",
        "colab": {
          "base_uri": "https://localhost:8080/",
          "height": 669
        },
        "outputId": "ca542b72-5839-4daa-c4cd-2cb9764cbb0a"
      }
    },
    {
      "cell_type": "markdown",
      "source": [
        "# Predicting the sale price\n",
        "\n",
        "## Preparing the data\n",
        "\n",
        "### Feature scaling\n",
        "\n",
        "We will do a little preprocessing to our data using the following formula (standardization):\n",
        "\n",
        "$$x'= \\frac{x - \\mu}{\\sigma}$$\n",
        "\n",
        "where $\\mu$ is the population mean and $\\sigma$ is the standard deviation.\n",
        "\n",
        "![](https://leonardoaraujosantos.gitbooks.io/artificial-inteligence/content/image_folder_5/FeatureScaling.jpg)\n",
        "\n",
        "**Source: Andrew Ng**"
      ],
      "metadata": {
        "id": "V1l9DsgTcJtI"
      }
    },
    {
      "cell_type": "code",
      "execution_count": null,
      "source": [
        "x = df_train['GrLivArea']\n",
        "y = df_train['SalePrice']\n",
        "\n",
        "x = (x - x.mean()) / x.std()\n",
        "x = np.c_[np.ones(x.shape[0]), x] "
      ],
      "outputs": [],
      "metadata": {
        "id": "JmEcYWkaqYDg"
      }
    },
    {
      "cell_type": "code",
      "execution_count": null,
      "source": [
        "x.shape"
      ],
      "outputs": [],
      "metadata": {
        "id": "Of3yF9vhEhLv",
        "colab": {
          "base_uri": "https://localhost:8080/",
          "height": 34
        },
        "outputId": "2f0f72e0-0ddb-4287-a7a2-c8641c23a943"
      }
    },
    {
      "cell_type": "markdown",
      "source": [
        "## Linear Regression\n",
        "\n",
        "![](https://i.ytimg.com/vi/zPG4NjIkCjc/maxresdefault.jpg)\n",
        "\n",
        "**Source: MyBookSucks**\n",
        "\n",
        "Linear regression models assume that the relationship between a dependent continuous variable $Y$ and one or more explanatory (independent) variables $X$ is linear (that is, a straight line). It’s used to predict values within a continuous range, (e.g. sales, price) rather than trying to classify them into categories (e.g. cat, dog). Linear regression models can be divided into two main types:\n",
        "\n",
        "### Simple Linear Regression\n",
        "\n",
        "Simple linear regression uses a traditional slope-intercept form, where $a$ and $b$ are the coefficients that we try to “learn” and produce the most accurate predictions. $X$ represents our input data and $Y$ is our prediction.\n",
        "\n",
        "$$Y = bX + a$$\n",
        "\n",
        "![](https://spss-tutorials.com/img/simple-linear-regression-equation-linear-relation.png)\n",
        "\n",
        "**Source: SPSS tutorials**\n",
        "\n",
        "### Multivariable Regression\n",
        "\n",
        "A more complex, multi-variable linear equation might look like this, where w represents the coefficients, or weights, our model will try to learn.\n",
        "\n",
        "$$ Y(x_1,x_2,x_3) = w_1 x_1 + w_2 x_2 + w_3 x_3 + w_0$$\n",
        "\n",
        "The variables $x_1, x_2, x_3$ represent the attributes, or distinct pieces of information, we have about each observation."
      ],
      "metadata": {
        "id": "hSVrJbO2cNr1"
      }
    },
    {
      "cell_type": "markdown",
      "source": [
        "## Loss function\n",
        "\n",
        "Given our Simple Linear Regression equation:\n",
        "\n",
        "$$Y = bX + a$$\n",
        "\n",
        "We can use the following cost function to find the coefficients:\n",
        "\n",
        "### Mean Squared Error (MSE) Cost Function\n",
        "\n",
        "The MSE is defined as:\n",
        "\n",
        "$$MSE = J(W) =  \\frac{1}{m} \\sum_{i=1}^{m} (y^{(i)} - h_w(x^{(i)}))^2$$\n",
        "\n",
        "where\n",
        "\n",
        "$$h_w(x) = g(w^Tx)$$\n",
        "\n",
        "The MSE measures how much the average model predictions vary from the correct values. The number is higher when the model is performing \"bad\" on the training set.\n",
        "\n",
        "The first derivative of MSE is given by:\n",
        "\n",
        "$$MSE' = J'(W) = \\frac{2}{m} \\sum_{i=1}^{m} (h_w(x^{(i)}) - y^{(i)})$$\n",
        "\n",
        "\n",
        "### One Half Mean Squared Error (OHMSE)\n",
        "\n",
        "We will apply a small modification to the MSE - multiply by $\\frac{1}{2}$ so when we take the derivative, the `2`s cancel out:\n",
        "\n",
        "$$ OHMSE = J(W) =  \\frac{1}{2m} \\sum_{i=1}^{m} (y^{(i)} - h_w(x^{(i)}))^2 $$\n",
        "\n",
        "The first derivative of OHMSE is given by:\n",
        "\n",
        "$$OHMSE' = J'(W) = \\frac{1}{m} \\sum_{i=1}^{m} (h_w(x^{(i)}) - y^{(i)})$$"
      ],
      "metadata": {
        "id": "x9SjF0vba6kw"
      }
    },
    {
      "cell_type": "code",
      "execution_count": null,
      "source": [
        "def loss(h, y):\n",
        "  sq_error = (h - y)**2\n",
        "  n = len(y)\n",
        "  return 1.0 / (2*n) * sq_error.sum()"
      ],
      "outputs": [],
      "metadata": {
        "id": "7PFCAqS2atC3"
      }
    },
    {
      "cell_type": "code",
      "execution_count": null,
      "source": [
        "class TestLoss(unittest.TestCase):\n",
        "\n",
        "  def test_zero_h_zero_y(self):\n",
        "    self.assertAlmostEqual(loss(h=np.array([0]), y=np.array([0])), 0)\n",
        "\n",
        "  def test_one_h_zero_y(self):\n",
        "    self.assertAlmostEqual(loss(h=np.array([1]), y=np.array([0])), 0.5)\n",
        "\n",
        "  def test_two_h_zero_y(self):\n",
        "    self.assertAlmostEqual(loss(h=np.array([2]), y=np.array([0])), 2)\n",
        "    \n",
        "  def test_zero_h_one_y(self):\n",
        "    self.assertAlmostEqual(loss(h=np.array([0]), y=np.array([1])), 0.5)\n",
        "    \n",
        "  def test_zero_h_two_y(self):\n",
        "    self.assertAlmostEqual(loss(h=np.array([0]), y=np.array([2])), 2)"
      ],
      "outputs": [],
      "metadata": {
        "id": "v6MWAKGYlSQY"
      }
    },
    {
      "cell_type": "code",
      "execution_count": null,
      "source": [
        "run_tests()"
      ],
      "outputs": [],
      "metadata": {
        "id": "YaOPbVF2lT4j",
        "colab": {
          "base_uri": "https://localhost:8080/",
          "height": 102
        },
        "outputId": "1a51715b-0185-4ec1-b47a-9d434897f784"
      }
    },
    {
      "cell_type": "code",
      "execution_count": null,
      "source": [
        "class LinearRegression:\n",
        "  \n",
        "  def predict(self, X):\n",
        "    return np.dot(X, self._W)\n",
        "  \n",
        "  def _gradient_descent_step(self, X, targets, lr):\n",
        "\n",
        "    predictions = self.predict(X)\n",
        "    \n",
        "    error = predictions - targets\n",
        "    gradient = np.dot(X.T,  error) / len(X)\n",
        "\n",
        "    self._W -= lr * gradient\n",
        "      \n",
        "  def fit(self, X, y, n_iter=100000, lr=0.01):\n",
        "\n",
        "    self._W = np.zeros(X.shape[1])\n",
        "\n",
        "    self._cost_history = []\n",
        "    self._w_history = [self._W]\n",
        "    for i in range(n_iter):\n",
        "      \n",
        "        prediction = self.predict(X)\n",
        "        cost = loss(prediction, y)\n",
        "        \n",
        "        self._cost_history.append(cost)\n",
        "        \n",
        "        self._gradient_descent_step(x, y, lr)\n",
        "        \n",
        "        self._w_history.append(self._W.copy())\n",
        "    return self"
      ],
      "outputs": [],
      "metadata": {
        "id": "jG2ss3oyFOuX"
      }
    },
    {
      "cell_type": "code",
      "execution_count": null,
      "source": [
        "class TestLinearRegression(unittest.TestCase):\n",
        "\n",
        "    def test_find_coefficients(self):\n",
        "      clf = LinearRegression()\n",
        "      clf.fit(x, y, n_iter=2000, lr=0.01)\n",
        "      np.testing.assert_array_almost_equal(clf._W, np.array([180921.19555322,  56294.90199925]))"
      ],
      "outputs": [],
      "metadata": {
        "id": "BGWFw7yCrNj6"
      }
    },
    {
      "cell_type": "code",
      "execution_count": null,
      "source": [
        "run_tests()"
      ],
      "outputs": [],
      "metadata": {
        "id": "AgbjeZbHrtz8",
        "colab": {
          "base_uri": "https://localhost:8080/",
          "height": 102
        },
        "outputId": "b821c7f4-deaf-4e2d-be02-da2471d7ddae"
      }
    },
    {
      "cell_type": "code",
      "execution_count": null,
      "source": [
        "clf = LinearRegression()\n",
        "clf.fit(x, y, n_iter=2000, lr=0.01)"
      ],
      "outputs": [],
      "metadata": {
        "id": "Dl5Io9hMJRAm",
        "colab": {
          "base_uri": "https://localhost:8080/",
          "height": 34
        },
        "outputId": "94f3b26b-a3d3-4c69-8339-075ffcd9dfd1"
      }
    },
    {
      "cell_type": "code",
      "execution_count": null,
      "source": [
        "clf._W"
      ],
      "outputs": [],
      "metadata": {
        "id": "9cmILFdpJ0MS",
        "colab": {
          "base_uri": "https://localhost:8080/",
          "height": 34
        },
        "outputId": "eb0b9525-4ad3-4b3b-ce42-76f3eb5eff18"
      }
    },
    {
      "cell_type": "code",
      "execution_count": null,
      "source": [
        "plt.title('Cost Function J')\n",
        "plt.xlabel('No. of iterations')\n",
        "plt.ylabel('Cost')\n",
        "plt.plot(clf._cost_history)\n",
        "plt.show()"
      ],
      "outputs": [],
      "metadata": {
        "id": "t2FeoJ6aOZlX",
        "colab": {
          "base_uri": "https://localhost:8080/",
          "height": 525
        },
        "outputId": "6def3390-f8dc-41d7-f63a-66b343e2b5c7"
      }
    },
    {
      "cell_type": "code",
      "execution_count": null,
      "source": [
        "clf._cost_history[-1]"
      ],
      "outputs": [],
      "metadata": {
        "id": "2aYdUELAMyE6",
        "colab": {
          "base_uri": "https://localhost:8080/",
          "height": 34
        },
        "outputId": "869eff82-e88f-4eeb-9782-7f7729df7e85"
      }
    },
    {
      "cell_type": "code",
      "execution_count": null,
      "source": [
        "#Animation\n",
        "\n",
        "#Set the plot up,\n",
        "fig = plt.figure()\n",
        "ax = plt.axes()\n",
        "plt.title('Sale Price vs Living Area')\n",
        "plt.xlabel('Living Area in square feet (normalised)')\n",
        "plt.ylabel('Sale Price ($)')\n",
        "plt.scatter(x[:,1], y)\n",
        "line, = ax.plot([], [], lw=2, color='red')\n",
        "annotation = ax.text(-1, 700000, '')\n",
        "annotation.set_animated(True)\n",
        "plt.close()\n",
        "\n",
        "#Generate the animation data,\n",
        "def init():\n",
        "    line.set_data([], [])\n",
        "    annotation.set_text('')\n",
        "    return line, annotation\n",
        "\n",
        "# animation function.  This is called sequentially\n",
        "def animate(i):\n",
        "    x = np.linspace(-5, 20, 1000)\n",
        "    y = clf._w_history[i][1]*x + clf._w_history[i][0]\n",
        "    line.set_data(x, y)\n",
        "    annotation.set_text('Cost = %.2f e10' % (clf._cost_history[i]/10000000000))\n",
        "    return line, annotation\n",
        "\n",
        "anim = animation.FuncAnimation(fig, animate, init_func=init,\n",
        "                               frames=300, interval=10, blit=True)\n",
        "\n",
        "rc('animation', html='jshtml')\n",
        "\n",
        "anim"
      ],
      "outputs": [],
      "metadata": {
        "id": "D382iNZEO0Zo",
        "colab": {
          "base_uri": "https://localhost:8080/",
          "height": 704
        },
        "outputId": "6453181e-5175-4be9-e68e-1b5bdc413a8d"
      }
    },
    {
      "cell_type": "markdown",
      "source": [
        "# Multivariable Linear Regression\n",
        "\n",
        "Let's use more of the available data to build a Multivariable Linear Regression model and see whether or not that will improve our OHMSE error:"
      ],
      "metadata": {
        "id": "vRxiVvutuQ30"
      }
    },
    {
      "cell_type": "code",
      "execution_count": null,
      "source": [
        "x = df_train[['OverallQual', 'GrLivArea', 'GarageCars']]\n",
        "\n",
        "x = (x - x.mean()) / x.std()\n",
        "x = np.c_[np.ones(x.shape[0]), x] \n",
        "\n",
        "clf = LinearRegression()\n",
        "clf.fit(x, y, n_iter=2000, lr=0.01)"
      ],
      "outputs": [],
      "metadata": {
        "id": "7COJ54iJuQTC",
        "colab": {
          "base_uri": "https://localhost:8080/",
          "height": 34
        },
        "outputId": "68e81cf9-5c7d-4f59-ef99-f6b16e4be93d"
      }
    },
    {
      "cell_type": "code",
      "execution_count": null,
      "source": [
        "clf._W"
      ],
      "outputs": [],
      "metadata": {
        "id": "cW68k8Duu1Tw",
        "colab": {
          "base_uri": "https://localhost:8080/",
          "height": 34
        },
        "outputId": "71b000a2-26d1-4c88-abac-ffad276815c7"
      }
    },
    {
      "cell_type": "code",
      "execution_count": null,
      "source": [
        "plt.title('Cost Function J')\n",
        "plt.xlabel('No. of iterations')\n",
        "plt.ylabel('Cost')\n",
        "plt.plot(clf._cost_history)\n",
        "plt.show()"
      ],
      "outputs": [],
      "metadata": {
        "id": "8ZcgpItsu5GO",
        "colab": {
          "base_uri": "https://localhost:8080/",
          "height": 525
        },
        "outputId": "c8e913b3-8f63-4e93-f9d1-1adeb1c9fda0"
      }
    },
    {
      "cell_type": "code",
      "execution_count": null,
      "source": [
        "clf._cost_history[-1]"
      ],
      "outputs": [],
      "metadata": {
        "id": "Jv4q_lPQu80b",
        "colab": {
          "base_uri": "https://localhost:8080/",
          "height": 34
        },
        "outputId": "b5fe4ad6-98ad-4d0e-cec8-667b2b09e5aa"
      }
    }
  ]
}