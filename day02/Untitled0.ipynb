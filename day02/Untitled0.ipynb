{
  "nbformat": 4,
  "nbformat_minor": 0,
  "metadata": {
    "colab": {
      "name": "Untitled0.ipynb",
      "provenance": [],
      "collapsed_sections": []
    },
    "kernelspec": {
      "name": "python3",
      "display_name": "Python 3"
    },
    "language_info": {
      "name": "python"
    }
  },
  "cells": [
    {
      "cell_type": "code",
      "metadata": {
        "id": "pEeFTdC-_k2u"
      },
      "source": [
        "import pandas as pd\n",
        "import numpy as np\n",
        "import seaborn as sns\n",
        "\n",
        "hc = pd.read_csv('hydrocarbon.csv', names=['n', 'x', 'y'])"
      ],
      "execution_count": null,
      "outputs": []
    },
    {
      "cell_type": "code",
      "metadata": {
        "colab": {
          "base_uri": "https://localhost:8080/",
          "height": 206
        },
        "id": "KmUA-gYb_xT9",
        "outputId": "faf1c98b-bece-408b-cdd2-48985df8739c"
      },
      "source": [
        "hc.head()"
      ],
      "execution_count": null,
      "outputs": [
        {
          "output_type": "execute_result",
          "data": {
            "text/html": [
              "<div>\n",
              "<style scoped>\n",
              "    .dataframe tbody tr th:only-of-type {\n",
              "        vertical-align: middle;\n",
              "    }\n",
              "\n",
              "    .dataframe tbody tr th {\n",
              "        vertical-align: top;\n",
              "    }\n",
              "\n",
              "    .dataframe thead th {\n",
              "        text-align: right;\n",
              "    }\n",
              "</style>\n",
              "<table border=\"1\" class=\"dataframe\">\n",
              "  <thead>\n",
              "    <tr style=\"text-align: right;\">\n",
              "      <th></th>\n",
              "      <th>n</th>\n",
              "      <th>x</th>\n",
              "      <th>y</th>\n",
              "    </tr>\n",
              "  </thead>\n",
              "  <tbody>\n",
              "    <tr>\n",
              "      <th>0</th>\n",
              "      <td>1</td>\n",
              "      <td>0.99</td>\n",
              "      <td>90.01</td>\n",
              "    </tr>\n",
              "    <tr>\n",
              "      <th>1</th>\n",
              "      <td>2</td>\n",
              "      <td>1.02</td>\n",
              "      <td>89.05</td>\n",
              "    </tr>\n",
              "    <tr>\n",
              "      <th>2</th>\n",
              "      <td>3</td>\n",
              "      <td>1.15</td>\n",
              "      <td>91.43</td>\n",
              "    </tr>\n",
              "    <tr>\n",
              "      <th>3</th>\n",
              "      <td>4</td>\n",
              "      <td>1.29</td>\n",
              "      <td>93.74</td>\n",
              "    </tr>\n",
              "    <tr>\n",
              "      <th>4</th>\n",
              "      <td>5</td>\n",
              "      <td>1.46</td>\n",
              "      <td>96.73</td>\n",
              "    </tr>\n",
              "  </tbody>\n",
              "</table>\n",
              "</div>"
            ],
            "text/plain": [
              "   n     x      y\n",
              "0  1  0.99  90.01\n",
              "1  2  1.02  89.05\n",
              "2  3  1.15  91.43\n",
              "3  4  1.29  93.74\n",
              "4  5  1.46  96.73"
            ]
          },
          "metadata": {
            "tags": []
          },
          "execution_count": 4
        }
      ]
    },
    {
      "cell_type": "code",
      "metadata": {
        "id": "WNRhw9jf_0Ra"
      },
      "source": [
        ""
      ],
      "execution_count": null,
      "outputs": []
    },
    {
      "cell_type": "code",
      "metadata": {
        "colab": {
          "base_uri": "https://localhost:8080/",
          "height": 338
        },
        "id": "b-PSOtvxAJtG",
        "outputId": "7287cbd5-203f-4ed2-cbaa-32c2c3c5adad"
      },
      "source": [
        "sns.scatterplot(hc['x'], hc['y'])\n",
        "x = hc['x']\n",
        "y = hc['y']"
      ],
      "execution_count": null,
      "outputs": [
        {
          "output_type": "stream",
          "text": [
            "/usr/local/lib/python3.7/dist-packages/seaborn/_decorators.py:43: FutureWarning: Pass the following variables as keyword args: x, y. From version 0.12, the only valid positional argument will be `data`, and passing other arguments without an explicit keyword will result in an error or misinterpretation.\n",
            "  FutureWarning\n"
          ],
          "name": "stderr"
        },
        {
          "output_type": "display_data",
          "data": {
            "image/png": "[encoded data removed]",
            "text/plain": [
              "<Figure size 432x288 with 1 Axes>"
            ]
          },
          "metadata": {
            "tags": [],
            "needs_background": "light"
          }
        }
      ]
    },
    {
      "cell_type": "code",
      "metadata": {
        "id": "UINbm579AeSw",
        "colab": {
          "base_uri": "https://localhost:8080/"
        },
        "outputId": "f6b509c3-3af9-4c2c-941d-9a3c53e84c6b"
      },
      "source": [
        "x"
      ],
      "execution_count": null,
      "outputs": [
        {
          "output_type": "execute_result",
          "data": {
            "text/plain": [
              "0     0.99\n",
              "1     1.02\n",
              "2     1.15\n",
              "3     1.29\n",
              "4     1.46\n",
              "5     1.36\n",
              "6     0.87\n",
              "7     1.23\n",
              "8     1.55\n",
              "9     1.40\n",
              "10    1.19\n",
              "11    1.15\n",
              "12    0.98\n",
              "13    1.01\n",
              "14    1.11\n",
              "15    1.20\n",
              "16    1.26\n",
              "17    1.32\n",
              "18    1.43\n",
              "19    0.95\n",
              "Name: x, dtype: float64"
            ]
          },
          "metadata": {
            "tags": []
          },
          "execution_count": 6
        }
      ]
    },
    {
      "cell_type": "code",
      "metadata": {
        "colab": {
          "base_uri": "https://localhost:8080/",
          "height": 390
        },
        "id": "Aol6RddtApX5",
        "outputId": "a135946f-5f39-419d-c532-504062b21232"
      },
      "source": [
        "domain_x = np.arange(x.min(), x.max(), 0.01)\n",
        "\n",
        "beta_0 = 75\n",
        "beta_1 = 15\n",
        "y_pred = domain_x * beta_1 + beta_0\n",
        "sns.lineplot(domain_x, y_pred, color='red')\n",
        "sns.scatterplot(hc['x'], hc['y'])"
      ],
      "execution_count": null,
      "outputs": [
        {
          "output_type": "stream",
          "text": [
            "/usr/local/lib/python3.7/dist-packages/seaborn/_decorators.py:43: FutureWarning: Pass the following variables as keyword args: x, y. From version 0.12, the only valid positional argument will be `data`, and passing other arguments without an explicit keyword will result in an error or misinterpretation.\n",
            "  FutureWarning\n",
            "/usr/local/lib/python3.7/dist-packages/seaborn/_decorators.py:43: FutureWarning: Pass the following variables as keyword args: x, y. From version 0.12, the only valid positional argument will be `data`, and passing other arguments without an explicit keyword will result in an error or misinterpretation.\n",
            "  FutureWarning\n"
          ],
          "name": "stderr"
        },
        {
          "output_type": "execute_result",
          "data": {
            "text/plain": [
              "<matplotlib.axes._subplots.AxesSubplot at 0x7f146d803390>"
            ]
          },
          "metadata": {
            "tags": []
          },
          "execution_count": 7
        },
        {
          "output_type": "display_data",
          "data": {
            "image/png": "[encoded data removed]",
            "text/plain": [
              "<Figure size 432x288 with 1 Axes>"
            ]
          },
          "metadata": {
            "tags": [],
            "needs_background": "light"
          }
        }
      ]
    },
    {
      "cell_type": "code",
      "metadata": {
        "colab": {
          "base_uri": "https://localhost:8080/",
          "height": 425
        },
        "id": "szbu34wBC0MW",
        "outputId": "3477955f-e78c-4830-bebe-7c44e725103c"
      },
      "source": [
        "n = hc.shape[0]  # the number of samples in the dataset\n",
        "beta_1_estimate = ( (x*y).sum() - (y.sum() * x.sum()) / n ) / ( (x ** 2).sum() - ((x.sum() ** 2) / n) )\n",
        "beta_0_estimate = y.mean() - beta_1_estimate * x.mean()\n",
        "print(f\"beta_0 = {beta_0_estimate}\")\n",
        "print(f\"beta_1 = {beta_1_estimate}\")\n",
        "\n",
        "y_helper = domain_x * beta_1_estimate + beta_0_estimate\n",
        "sns.lineplot(domain_x, y_helper, color='red')\n",
        "sns.scatterplot(hc['x'], hc['y'])\n"
      ],
      "execution_count": null,
      "outputs": [
        {
          "output_type": "stream",
          "text": [
            "beta_0 = 74.28331424039645\n",
            "beta_1 = 14.947479732109986\n"
          ],
          "name": "stdout"
        },
        {
          "output_type": "stream",
          "text": [
            "/usr/local/lib/python3.7/dist-packages/seaborn/_decorators.py:43: FutureWarning: Pass the following variables as keyword args: x, y. From version 0.12, the only valid positional argument will be `data`, and passing other arguments without an explicit keyword will result in an error or misinterpretation.\n",
            "  FutureWarning\n",
            "/usr/local/lib/python3.7/dist-packages/seaborn/_decorators.py:43: FutureWarning: Pass the following variables as keyword args: x, y. From version 0.12, the only valid positional argument will be `data`, and passing other arguments without an explicit keyword will result in an error or misinterpretation.\n",
            "  FutureWarning\n"
          ],
          "name": "stderr"
        },
        {
          "output_type": "execute_result",
          "data": {
            "text/plain": [
              "<matplotlib.axes._subplots.AxesSubplot at 0x7f146d2d97d0>"
            ]
          },
          "metadata": {
            "tags": []
          },
          "execution_count": 8
        },
        {
          "output_type": "display_data",
          "data": {
            "image/png": "[encoded data removed]",
            "text/plain": [
              "<Figure size 432x288 with 1 Axes>"
            ]
          },
          "metadata": {
            "tags": [],
            "needs_background": "light"
          }
        }
      ]
    },
    {
      "cell_type": "code",
      "metadata": {
        "id": "PDuw4e4iGXPA",
        "colab": {
          "base_uri": "https://localhost:8080/"
        },
        "outputId": "401c664d-2fa9-4628-e067-1462bec5d2fa"
      },
      "source": [
        "y_pred = x * beta_1_estimate + beta_0_estimate\n",
        "residuals = y - y_pred\n",
        "sse = (residuals ** 2).sum()\n",
        "sse"
      ],
      "execution_count": null,
      "outputs": [
        {
          "output_type": "execute_result",
          "data": {
            "text/plain": [
              "0     0.928681\n",
              "1    -0.479744\n",
              "2    -0.042916\n",
              "3     0.174437\n",
              "4     0.623365\n",
              "5    -0.161887\n",
              "6     0.302378\n",
              "7    -0.898714\n",
              "8     1.968092\n",
              "9    -1.559786\n",
              "10    1.469185\n",
              "11    1.047084\n",
              "12    1.628156\n",
              "13    0.159731\n",
              "14   -1.025017\n",
              "15   -1.830290\n",
              "16    0.132861\n",
              "17   -0.603987\n",
              "18   -0.678210\n",
              "19   -1.153420\n",
              "dtype: float64"
            ]
          },
          "metadata": {
            "tags": []
          },
          "execution_count": 48
        }
      ]
    }
  ]
}