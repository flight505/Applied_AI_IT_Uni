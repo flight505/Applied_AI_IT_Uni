{
  "nbformat": 4,
  "nbformat_minor": 2,
  "metadata": {
    "colab": {
      "name": "Untitled0.ipynb",
      "provenance": [],
      "collapsed_sections": []
    },
    "kernelspec": {
      "name": "python3",
      "display_name": "Python 3"
    },
    "language_info": {
      "name": "python"
    }
  },
  "cells": [
    {
      "cell_type": "code",
      "execution_count": 5,
      "source": [
        "import pandas as pd\n",
        "import numpy as np\n",
        "import seaborn as sns\n",
        "\n",
        "hc = pd.read_csv('hydrocarbon.csv', names=['n', 'x', 'y'])"
      ],
      "outputs": [],
      "metadata": {
        "id": "pEeFTdC-_k2u"
      }
    },
    {
      "cell_type": "code",
      "execution_count": 3,
      "source": [
        "hc.head()"
      ],
      "outputs": [
        {
          "output_type": "execute_result",
          "data": {
            "text/plain": [
              "   n     x      y\n",
              "0  1  0.99  90.01\n",
              "1  2  1.02  89.05\n",
              "2  3  1.15  91.43\n",
              "3  4  1.29  93.74\n",
              "4  5  1.46  96.73"
            ],
            "text/html": [
              "<div>\n",
              "<style scoped>\n",
              "    .dataframe tbody tr th:only-of-type {\n",
              "        vertical-align: middle;\n",
              "    }\n",
              "\n",
              "    .dataframe tbody tr th {\n",
              "        vertical-align: top;\n",
              "    }\n",
              "\n",
              "    .dataframe thead th {\n",
              "        text-align: right;\n",
              "    }\n",
              "</style>\n",
              "<table border=\"1\" class=\"dataframe\">\n",
              "  <thead>\n",
              "    <tr style=\"text-align: right;\">\n",
              "      <th></th>\n",
              "      <th>n</th>\n",
              "      <th>x</th>\n",
              "      <th>y</th>\n",
              "    </tr>\n",
              "  </thead>\n",
              "  <tbody>\n",
              "    <tr>\n",
              "      <th>0</th>\n",
              "      <td>1</td>\n",
              "      <td>0.99</td>\n",
              "      <td>90.01</td>\n",
              "    </tr>\n",
              "    <tr>\n",
              "      <th>1</th>\n",
              "      <td>2</td>\n",
              "      <td>1.02</td>\n",
              "      <td>89.05</td>\n",
              "    </tr>\n",
              "    <tr>\n",
              "      <th>2</th>\n",
              "      <td>3</td>\n",
              "      <td>1.15</td>\n",
              "      <td>91.43</td>\n",
              "    </tr>\n",
              "    <tr>\n",
              "      <th>3</th>\n",
              "      <td>4</td>\n",
              "      <td>1.29</td>\n",
              "      <td>93.74</td>\n",
              "    </tr>\n",
              "    <tr>\n",
              "      <th>4</th>\n",
              "      <td>5</td>\n",
              "      <td>1.46</td>\n",
              "      <td>96.73</td>\n",
              "    </tr>\n",
              "  </tbody>\n",
              "</table>\n",
              "</div>"
            ]
          },
          "metadata": {},
          "execution_count": 3
        }
      ],
      "metadata": {
        "colab": {
          "base_uri": "https://localhost:8080/",
          "height": 206
        },
        "id": "KmUA-gYb_xT9",
        "outputId": "faf1c98b-bece-408b-cdd2-48985df8739c"
      }
    },
    {
      "cell_type": "code",
      "execution_count": null,
      "source": [],
      "outputs": [],
      "metadata": {
        "id": "WNRhw9jf_0Ra"
      }
    },
    {
      "cell_type": "code",
      "execution_count": 4,
      "source": [
        "sns.scatterplot(hc.x, hc.y)\n",
        "x = hc['x']\n",
        "y = hc['y']"
      ],
      "outputs": [
        {
          "output_type": "stream",
          "name": "stderr",
          "text": [
            "/usr/local/anaconda3/envs/AI_ITU/lib/python3.8/site-packages/seaborn/_decorators.py:36: FutureWarning: Pass the following variables as keyword args: x, y. From version 0.12, the only valid positional argument will be `data`, and passing other arguments without an explicit keyword will result in an error or misinterpretation.\n",
            "  warnings.warn(\n"
          ]
        },
        {
          "output_type": "display_data",
          "data": {
            "text/plain": [
              "<Figure size 432x288 with 1 Axes>"
            ],
            "image/png": "[encoded data removed]"
          },
          "metadata": {
            "needs_background": "light"
          }
        }
      ],
      "metadata": {
        "colab": {
          "base_uri": "https://localhost:8080/",
          "height": 338
        },
        "id": "b-PSOtvxAJtG",
        "outputId": "7287cbd5-203f-4ed2-cbaa-32c2c3c5adad"
      }
    },
    {
      "cell_type": "code",
      "execution_count": null,
      "source": [
        "x"
      ],
      "outputs": [
        {
          "output_type": "execute_result",
          "data": {
            "text/plain": [
              "0     0.99\n",
              "1     1.02\n",
              "2     1.15\n",
              "3     1.29\n",
              "4     1.46\n",
              "5     1.36\n",
              "6     0.87\n",
              "7     1.23\n",
              "8     1.55\n",
              "9     1.40\n",
              "10    1.19\n",
              "11    1.15\n",
              "12    0.98\n",
              "13    1.01\n",
              "14    1.11\n",
              "15    1.20\n",
              "16    1.26\n",
              "17    1.32\n",
              "18    1.43\n",
              "19    0.95\n",
              "Name: x, dtype: float64"
            ]
          },
          "metadata": {
            "tags": []
          },
          "execution_count": 6
        }
      ],
      "metadata": {
        "id": "UINbm579AeSw",
        "colab": {
          "base_uri": "https://localhost:8080/"
        },
        "outputId": "f6b509c3-3af9-4c2c-941d-9a3c53e84c6b"
      }
    },
    {
      "cell_type": "code",
      "execution_count": null,
      "source": [
        "domain_x = np.arange(x.min(), x.max(), 0.01)\n",
        "\n",
        "beta_0 = 75\n",
        "beta_1 = 15\n",
        "y_pred = domain_x * beta_1 + beta_0\n",
        "sns.lineplot(domain_x, y_pred, color='red')\n",
        "sns.scatterplot(hc['x'], hc['y'])"
      ],
      "outputs": [
        {
          "output_type": "stream",
          "name": "stderr",
          "text": [
            "/usr/local/lib/python3.7/dist-packages/seaborn/_decorators.py:43: FutureWarning: Pass the following variables as keyword args: x, y. From version 0.12, the only valid positional argument will be `data`, and passing other arguments without an explicit keyword will result in an error or misinterpretation.\n",
            "  FutureWarning\n",
            "/usr/local/lib/python3.7/dist-packages/seaborn/_decorators.py:43: FutureWarning: Pass the following variables as keyword args: x, y. From version 0.12, the only valid positional argument will be `data`, and passing other arguments without an explicit keyword will result in an error or misinterpretation.\n",
            "  FutureWarning\n"
          ]
        },
        {
          "output_type": "execute_result",
          "data": {
            "text/plain": [
              "<matplotlib.axes._subplots.AxesSubplot at 0x7f146d803390>"
            ]
          },
          "metadata": {
            "tags": []
          },
          "execution_count": 7
        },
        {
          "output_type": "display_data",
          "data": {
            "text/plain": [
              "<Figure size 432x288 with 1 Axes>"
            ],
            "image/png": "[encoded data removed]"
          },
          "metadata": {
            "tags": [],
            "needs_background": "light"
          }
        }
      ],
      "metadata": {
        "colab": {
          "base_uri": "https://localhost:8080/",
          "height": 390
        },
        "id": "Aol6RddtApX5",
        "outputId": "a135946f-5f39-419d-c532-504062b21232"
      }
    },
    {
      "cell_type": "code",
      "execution_count": null,
      "source": [
        "n = hc.shape[0]  # the number of samples in the dataset\n",
        "beta_1_estimate = ( (x*y).sum() - (y.sum() * x.sum()) / n ) / ( (x ** 2).sum() - ((x.sum() ** 2) / n) )\n",
        "beta_0_estimate = y.mean() - beta_1_estimate * x.mean()\n",
        "print(f\"beta_0 = {beta_0_estimate}\")\n",
        "print(f\"beta_1 = {beta_1_estimate}\")\n",
        "\n",
        "y_helper = domain_x * beta_1_estimate + beta_0_estimate\n",
        "sns.lineplot(domain_x, y_helper, color='red')\n",
        "sns.scatterplot(hc['x'], hc['y'])\n"
      ],
      "outputs": [
        {
          "output_type": "stream",
          "name": "stdout",
          "text": [
            "beta_0 = 74.28331424039645\n",
            "beta_1 = 14.947479732109986\n"
          ]
        },
        {
          "output_type": "stream",
          "name": "stderr",
          "text": [
            "/usr/local/lib/python3.7/dist-packages/seaborn/_decorators.py:43: FutureWarning: Pass the following variables as keyword args: x, y. From version 0.12, the only valid positional argument will be `data`, and passing other arguments without an explicit keyword will result in an error or misinterpretation.\n",
            "  FutureWarning\n",
            "/usr/local/lib/python3.7/dist-packages/seaborn/_decorators.py:43: FutureWarning: Pass the following variables as keyword args: x, y. From version 0.12, the only valid positional argument will be `data`, and passing other arguments without an explicit keyword will result in an error or misinterpretation.\n",
            "  FutureWarning\n"
          ]
        },
        {
          "output_type": "execute_result",
          "data": {
            "text/plain": [
              "<matplotlib.axes._subplots.AxesSubplot at 0x7f146d2d97d0>"
            ]
          },
          "metadata": {
            "tags": []
          },
          "execution_count": 8
        },
        {
          "output_type": "display_data",
          "data": {
            "text/plain": [
              "<Figure size 432x288 with 1 Axes>"
            ],
            "image/png": "[encoded data removed]"
          },
          "metadata": {
            "tags": [],
            "needs_background": "light"
          }
        }
      ],
      "metadata": {
        "colab": {
          "base_uri": "https://localhost:8080/",
          "height": 425
        },
        "id": "szbu34wBC0MW",
        "outputId": "3477955f-e78c-4830-bebe-7c44e725103c"
      }
    },
    {
      "cell_type": "code",
      "execution_count": null,
      "source": [
        "y_pred = x * beta_1_estimate + beta_0_estimate\n",
        "residuals = y - y_pred\n",
        "sse = (residuals ** 2).sum()\n",
        "sst = ((y - y.mean()) ** 2).sum()\n",
        "\n",
        "r2 = 1 - (sse / sst)\n",
        "r2\n",
        "sns.scatterplot(x, residuals)"
      ],
      "outputs": [
        {
          "output_type": "stream",
          "name": "stderr",
          "text": [
            "/usr/local/lib/python3.7/dist-packages/seaborn/_decorators.py:43: FutureWarning: Pass the following variables as keyword args: x, y. From version 0.12, the only valid positional argument will be `data`, and passing other arguments without an explicit keyword will result in an error or misinterpretation.\n",
            "  FutureWarning\n"
          ]
        },
        {
          "output_type": "execute_result",
          "data": {
            "text/plain": [
              "<matplotlib.axes._subplots.AxesSubplot at 0x7fab98564810>"
            ]
          },
          "metadata": {
            "tags": []
          },
          "execution_count": 52
        },
        {
          "output_type": "display_data",
          "data": {
            "text/plain": [
              "<Figure size 432x288 with 1 Axes>"
            ],
            "image/png": "[encoded data removed]"
          },
          "metadata": {
            "tags": [],
            "needs_background": "light"
          }
        }
      ],
      "metadata": {
        "id": "PDuw4e4iGXPA",
        "colab": {
          "base_uri": "https://localhost:8080/",
          "height": 351
        },
        "outputId": "8541ef1e-1e96-43b0-bbd8-4feaad5c5386"
      }
    },
    {
      "cell_type": "code",
      "execution_count": null,
      "source": [
        "sns.scatterplot(y_pred, residuals)"
      ],
      "outputs": [
        {
          "output_type": "stream",
          "name": "stderr",
          "text": [
            "/usr/local/lib/python3.7/dist-packages/seaborn/_decorators.py:43: FutureWarning: Pass the following variables as keyword args: x, y. From version 0.12, the only valid positional argument will be `data`, and passing other arguments without an explicit keyword will result in an error or misinterpretation.\n",
            "  FutureWarning\n"
          ]
        },
        {
          "output_type": "execute_result",
          "data": {
            "text/plain": [
              "<matplotlib.axes._subplots.AxesSubplot at 0x7fab98582650>"
            ]
          },
          "metadata": {
            "tags": []
          },
          "execution_count": 53
        },
        {
          "output_type": "display_data",
          "data": {
            "text/plain": [
              "<Figure size 432x288 with 1 Axes>"
            ],
            "image/png": "[encoded data removed]"
          },
          "metadata": {
            "tags": [],
            "needs_background": "light"
          }
        }
      ],
      "metadata": {
        "colab": {
          "base_uri": "https://localhost:8080/",
          "height": 351
        },
        "id": "7pEvPqk6N5oy",
        "outputId": "1915a26d-7623-45a7-9331-e776c0372599"
      }
    }
  ]
}