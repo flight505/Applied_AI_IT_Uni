{
  "nbformat": 4,
  "nbformat_minor": 2,
  "metadata": {
    "kernelspec": {
      "name": "python3",
      "display_name": "Python 3.8.10 64-bit ('AI_ITU': conda)"
    },
    "language_info": {
      "name": "python",
      "version": "3.8.10",
      "mimetype": "text/x-python",
      "codemirror_mode": {
        "name": "ipython",
        "version": 3
      },
      "pygments_lexer": "ipython3",
      "nbconvert_exporter": "python",
      "file_extension": ".py"
    },
    "colab": {
      "name": "Logistic_regression_heart_attack.ipynb",
      "provenance": [],
      "collapsed_sections": []
    },
    "interpreter": {
      "hash": "529a06fb4068a4b13268933b910005f265dccc230859ef1ec378adb85153fb8f"
    }
  },
  "cells": [
    {
      "cell_type": "markdown",
      "source": [
        "## Logistic regression"
      ],
      "metadata": {
        "id": "mDH2cSObPkh7"
      }
    },
    {
      "cell_type": "markdown",
      "source": [
        "In the first part of this exercise, we'll build a logistic regression model to predict whether a patient will going to get a cardiac arrest.  Suppose that you are a cardiologist and you want to determine each patient's chance of getting a heart attack based on the body measurments. You have historical data from previous patients that you can use as a training set for logistic regression.  To accomplish this, we're going to build a classification model that estimates the probability of admission based on the exam scores."
      ],
      "metadata": {
        "id": "8MniOK_UPkh7"
      }
    },
    {
      "cell_type": "markdown",
      "source": [
        "Let's start by examining the data."
      ],
      "metadata": {
        "id": "9a6ugGMoPkh7"
      }
    },
    {
      "cell_type": "code",
      "execution_count": 2,
      "source": [
        "#!/usr/bin/env python3\n",
        " \n",
        "##########################################################\n",
        "# Copyright (c) Jesper Vang <jesper_vang@me.com>         #\n",
        "# Created on 3 Aug 2021                                 #\n",
        "# Version:\t0.0.1                                        #\n",
        "# What:  \t\t\t\t\t\t                         #\n",
        "##########################################################\n",
        "\n",
        "import pandas as pd\n",
        "import matplotlib\n",
        "import matplotlib.pyplot as plt\n",
        "import numpy as np\n",
        "import seaborn as sns\n",
        "import sklearn\n",
        "import os\n",
        "from sklearn.model_selection import train_test_split\n",
        "\n",
        "print(\"Pandas Version: {}\".format(pd.__version__))\n",
        "print(\"Numpy Version: {}\".format(np.__version__))\n",
        "print(\"Matplotlib Version: {}\".format(matplotlib.__version__))\n",
        "print(\"Scikit-learn Version: {}\".format(sklearn.__version__))\n",
        "print(\"Seaborn Version: {}\".format(sns.__version__))\n",
        "np.set_printoptions(suppress=True, linewidth=130)\n",
        "\n",
        "\n",
        "%matplotlib inline\n",
        "\n",
        "plt.rcParams[\"figure.figsize\"] = (10, 8)\n",
        "\n",
        "print(f'the present working directory is: {os.getcwd()}')\n",
        "DATA_PATH = os.path.join(\"data\")\n",
        "PROJECT_ROOT_DIR = \".\"\n",
        "\n",
        "def load_model_data(data):\n",
        "    pwd = os.getcwd() \n",
        "    filepath = os.path.join(pwd, DATA_PATH, data) \n",
        "    return pd.read_csv(filepath)     \n",
        "    \n",
        "data = load_model_data(\"heart.csv\");\n"
      ],
      "outputs": [
        {
          "output_type": "stream",
          "name": "stdout",
          "text": [
            "Pandas Version: 1.2.5\n",
            "Numpy Version: 1.19.5\n",
            "Matplotlib Version: 3.4.2\n",
            "Scikit-learn Version: 0.24.2\n",
            "Seaborn Version: 0.11.1\n",
            "the present working directory is: /Users/jvang/Documents/Projects/Applied_AI_IT_Uni\n"
          ]
        }
      ],
      "metadata": {
        "id": "H_2gsHb6Pkh8"
      }
    },
    {
      "cell_type": "code",
      "execution_count": 3,
      "source": [
        "# The data is loaded\n",
        "data = pd.read_csv(\"data/heart.csv\", sep=\",\")"
      ],
      "outputs": [],
      "metadata": {
        "id": "tA9fP5AwPkh8"
      }
    },
    {
      "cell_type": "markdown",
      "source": [
        "\n",
        "## Explore the data a bit.\n",
        "### List:\n",
        "\n",
        "1.   First few rows\n",
        "2.   Basic statistic\n",
        "3.   .info()\n",
        "4.   Column names\n"
      ],
      "metadata": {
        "id": "Tbohn8-5Pkh-"
      }
    },
    {
      "cell_type": "code",
      "execution_count": 4,
      "source": [
        "# The listing:\n",
        "# 1 First few rows\n",
        "data.head(4)"
      ],
      "outputs": [
        {
          "output_type": "execute_result",
          "data": {
            "text/plain": [
              "   age  sex  cp  trestbps  chol  fbs  restecg  thalach  exang  oldpeak  slope  \\\n",
              "0   63    1   3       145   233    1        0      150      0      2.3      0   \n",
              "1   37    1   2       130   250    0        1      187      0      3.5      0   \n",
              "2   41    0   1       130   204    0        0      172      0      1.4      2   \n",
              "3   56    1   1       120   236    0        1      178      0      0.8      2   \n",
              "\n",
              "   ca  thal  target  \n",
              "0   0     1       1  \n",
              "1   0     2       1  \n",
              "2   0     2       1  \n",
              "3   0     2       1  "
            ],
            "text/html": [
              "<div>\n",
              "<style scoped>\n",
              "    .dataframe tbody tr th:only-of-type {\n",
              "        vertical-align: middle;\n",
              "    }\n",
              "\n",
              "    .dataframe tbody tr th {\n",
              "        vertical-align: top;\n",
              "    }\n",
              "\n",
              "    .dataframe thead th {\n",
              "        text-align: right;\n",
              "    }\n",
              "</style>\n",
              "<table border=\"1\" class=\"dataframe\">\n",
              "  <thead>\n",
              "    <tr style=\"text-align: right;\">\n",
              "      <th></th>\n",
              "      <th>age</th>\n",
              "      <th>sex</th>\n",
              "      <th>cp</th>\n",
              "      <th>trestbps</th>\n",
              "      <th>chol</th>\n",
              "      <th>fbs</th>\n",
              "      <th>restecg</th>\n",
              "      <th>thalach</th>\n",
              "      <th>exang</th>\n",
              "      <th>oldpeak</th>\n",
              "      <th>slope</th>\n",
              "      <th>ca</th>\n",
              "      <th>thal</th>\n",
              "      <th>target</th>\n",
              "    </tr>\n",
              "  </thead>\n",
              "  <tbody>\n",
              "    <tr>\n",
              "      <th>0</th>\n",
              "      <td>63</td>\n",
              "      <td>1</td>\n",
              "      <td>3</td>\n",
              "      <td>145</td>\n",
              "      <td>233</td>\n",
              "      <td>1</td>\n",
              "      <td>0</td>\n",
              "      <td>150</td>\n",
              "      <td>0</td>\n",
              "      <td>2.3</td>\n",
              "      <td>0</td>\n",
              "      <td>0</td>\n",
              "      <td>1</td>\n",
              "      <td>1</td>\n",
              "    </tr>\n",
              "    <tr>\n",
              "      <th>1</th>\n",
              "      <td>37</td>\n",
              "      <td>1</td>\n",
              "      <td>2</td>\n",
              "      <td>130</td>\n",
              "      <td>250</td>\n",
              "      <td>0</td>\n",
              "      <td>1</td>\n",
              "      <td>187</td>\n",
              "      <td>0</td>\n",
              "      <td>3.5</td>\n",
              "      <td>0</td>\n",
              "      <td>0</td>\n",
              "      <td>2</td>\n",
              "      <td>1</td>\n",
              "    </tr>\n",
              "    <tr>\n",
              "      <th>2</th>\n",
              "      <td>41</td>\n",
              "      <td>0</td>\n",
              "      <td>1</td>\n",
              "      <td>130</td>\n",
              "      <td>204</td>\n",
              "      <td>0</td>\n",
              "      <td>0</td>\n",
              "      <td>172</td>\n",
              "      <td>0</td>\n",
              "      <td>1.4</td>\n",
              "      <td>2</td>\n",
              "      <td>0</td>\n",
              "      <td>2</td>\n",
              "      <td>1</td>\n",
              "    </tr>\n",
              "    <tr>\n",
              "      <th>3</th>\n",
              "      <td>56</td>\n",
              "      <td>1</td>\n",
              "      <td>1</td>\n",
              "      <td>120</td>\n",
              "      <td>236</td>\n",
              "      <td>0</td>\n",
              "      <td>1</td>\n",
              "      <td>178</td>\n",
              "      <td>0</td>\n",
              "      <td>0.8</td>\n",
              "      <td>2</td>\n",
              "      <td>0</td>\n",
              "      <td>2</td>\n",
              "      <td>1</td>\n",
              "    </tr>\n",
              "  </tbody>\n",
              "</table>\n",
              "</div>"
            ]
          },
          "metadata": {},
          "execution_count": 4
        }
      ],
      "metadata": {
        "id": "uwE_hEmSPkh-",
        "colab": {
          "base_uri": "https://localhost:8080/",
          "height": 173
        },
        "outputId": "fb9492c5-364c-4ef9-a410-881b43e8acef"
      }
    },
    {
      "cell_type": "code",
      "execution_count": 5,
      "source": [
        "# 2 Basic statistics\n",
        "data.describe()"
      ],
      "outputs": [
        {
          "output_type": "execute_result",
          "data": {
            "text/plain": [
              "              age         sex          cp    trestbps        chol         fbs  \\\n",
              "count  303.000000  303.000000  303.000000  303.000000  303.000000  303.000000   \n",
              "mean    54.366337    0.683168    0.966997  131.623762  246.264026    0.148515   \n",
              "std      9.082101    0.466011    1.032052   17.538143   51.830751    0.356198   \n",
              "min     29.000000    0.000000    0.000000   94.000000  126.000000    0.000000   \n",
              "25%     47.500000    0.000000    0.000000  120.000000  211.000000    0.000000   \n",
              "50%     55.000000    1.000000    1.000000  130.000000  240.000000    0.000000   \n",
              "75%     61.000000    1.000000    2.000000  140.000000  274.500000    0.000000   \n",
              "max     77.000000    1.000000    3.000000  200.000000  564.000000    1.000000   \n",
              "\n",
              "          restecg     thalach       exang     oldpeak       slope          ca  \\\n",
              "count  303.000000  303.000000  303.000000  303.000000  303.000000  303.000000   \n",
              "mean     0.528053  149.646865    0.326733    1.039604    1.399340    0.729373   \n",
              "std      0.525860   22.905161    0.469794    1.161075    0.616226    1.022606   \n",
              "min      0.000000   71.000000    0.000000    0.000000    0.000000    0.000000   \n",
              "25%      0.000000  133.500000    0.000000    0.000000    1.000000    0.000000   \n",
              "50%      1.000000  153.000000    0.000000    0.800000    1.000000    0.000000   \n",
              "75%      1.000000  166.000000    1.000000    1.600000    2.000000    1.000000   \n",
              "max      2.000000  202.000000    1.000000    6.200000    2.000000    4.000000   \n",
              "\n",
              "             thal      target  \n",
              "count  303.000000  303.000000  \n",
              "mean     2.313531    0.544554  \n",
              "std      0.612277    0.498835  \n",
              "min      0.000000    0.000000  \n",
              "25%      2.000000    0.000000  \n",
              "50%      2.000000    1.000000  \n",
              "75%      3.000000    1.000000  \n",
              "max      3.000000    1.000000  "
            ],
            "text/html": [
              "<div>\n",
              "<style scoped>\n",
              "    .dataframe tbody tr th:only-of-type {\n",
              "        vertical-align: middle;\n",
              "    }\n",
              "\n",
              "    .dataframe tbody tr th {\n",
              "        vertical-align: top;\n",
              "    }\n",
              "\n",
              "    .dataframe thead th {\n",
              "        text-align: right;\n",
              "    }\n",
              "</style>\n",
              "<table border=\"1\" class=\"dataframe\">\n",
              "  <thead>\n",
              "    <tr style=\"text-align: right;\">\n",
              "      <th></th>\n",
              "      <th>age</th>\n",
              "      <th>sex</th>\n",
              "      <th>cp</th>\n",
              "      <th>trestbps</th>\n",
              "      <th>chol</th>\n",
              "      <th>fbs</th>\n",
              "      <th>restecg</th>\n",
              "      <th>thalach</th>\n",
              "      <th>exang</th>\n",
              "      <th>oldpeak</th>\n",
              "      <th>slope</th>\n",
              "      <th>ca</th>\n",
              "      <th>thal</th>\n",
              "      <th>target</th>\n",
              "    </tr>\n",
              "  </thead>\n",
              "  <tbody>\n",
              "    <tr>\n",
              "      <th>count</th>\n",
              "      <td>303.000000</td>\n",
              "      <td>303.000000</td>\n",
              "      <td>303.000000</td>\n",
              "      <td>303.000000</td>\n",
              "      <td>303.000000</td>\n",
              "      <td>303.000000</td>\n",
              "      <td>303.000000</td>\n",
              "      <td>303.000000</td>\n",
              "      <td>303.000000</td>\n",
              "      <td>303.000000</td>\n",
              "      <td>303.000000</td>\n",
              "      <td>303.000000</td>\n",
              "      <td>303.000000</td>\n",
              "      <td>303.000000</td>\n",
              "    </tr>\n",
              "    <tr>\n",
              "      <th>mean</th>\n",
              "      <td>54.366337</td>\n",
              "      <td>0.683168</td>\n",
              "      <td>0.966997</td>\n",
              "      <td>131.623762</td>\n",
              "      <td>246.264026</td>\n",
              "      <td>0.148515</td>\n",
              "      <td>0.528053</td>\n",
              "      <td>149.646865</td>\n",
              "      <td>0.326733</td>\n",
              "      <td>1.039604</td>\n",
              "      <td>1.399340</td>\n",
              "      <td>0.729373</td>\n",
              "      <td>2.313531</td>\n",
              "      <td>0.544554</td>\n",
              "    </tr>\n",
              "    <tr>\n",
              "      <th>std</th>\n",
              "      <td>9.082101</td>\n",
              "      <td>0.466011</td>\n",
              "      <td>1.032052</td>\n",
              "      <td>17.538143</td>\n",
              "      <td>51.830751</td>\n",
              "      <td>0.356198</td>\n",
              "      <td>0.525860</td>\n",
              "      <td>22.905161</td>\n",
              "      <td>0.469794</td>\n",
              "      <td>1.161075</td>\n",
              "      <td>0.616226</td>\n",
              "      <td>1.022606</td>\n",
              "      <td>0.612277</td>\n",
              "      <td>0.498835</td>\n",
              "    </tr>\n",
              "    <tr>\n",
              "      <th>min</th>\n",
              "      <td>29.000000</td>\n",
              "      <td>0.000000</td>\n",
              "      <td>0.000000</td>\n",
              "      <td>94.000000</td>\n",
              "      <td>126.000000</td>\n",
              "      <td>0.000000</td>\n",
              "      <td>0.000000</td>\n",
              "      <td>71.000000</td>\n",
              "      <td>0.000000</td>\n",
              "      <td>0.000000</td>\n",
              "      <td>0.000000</td>\n",
              "      <td>0.000000</td>\n",
              "      <td>0.000000</td>\n",
              "      <td>0.000000</td>\n",
              "    </tr>\n",
              "    <tr>\n",
              "      <th>25%</th>\n",
              "      <td>47.500000</td>\n",
              "      <td>0.000000</td>\n",
              "      <td>0.000000</td>\n",
              "      <td>120.000000</td>\n",
              "      <td>211.000000</td>\n",
              "      <td>0.000000</td>\n",
              "      <td>0.000000</td>\n",
              "      <td>133.500000</td>\n",
              "      <td>0.000000</td>\n",
              "      <td>0.000000</td>\n",
              "      <td>1.000000</td>\n",
              "      <td>0.000000</td>\n",
              "      <td>2.000000</td>\n",
              "      <td>0.000000</td>\n",
              "    </tr>\n",
              "    <tr>\n",
              "      <th>50%</th>\n",
              "      <td>55.000000</td>\n",
              "      <td>1.000000</td>\n",
              "      <td>1.000000</td>\n",
              "      <td>130.000000</td>\n",
              "      <td>240.000000</td>\n",
              "      <td>0.000000</td>\n",
              "      <td>1.000000</td>\n",
              "      <td>153.000000</td>\n",
              "      <td>0.000000</td>\n",
              "      <td>0.800000</td>\n",
              "      <td>1.000000</td>\n",
              "      <td>0.000000</td>\n",
              "      <td>2.000000</td>\n",
              "      <td>1.000000</td>\n",
              "    </tr>\n",
              "    <tr>\n",
              "      <th>75%</th>\n",
              "      <td>61.000000</td>\n",
              "      <td>1.000000</td>\n",
              "      <td>2.000000</td>\n",
              "      <td>140.000000</td>\n",
              "      <td>274.500000</td>\n",
              "      <td>0.000000</td>\n",
              "      <td>1.000000</td>\n",
              "      <td>166.000000</td>\n",
              "      <td>1.000000</td>\n",
              "      <td>1.600000</td>\n",
              "      <td>2.000000</td>\n",
              "      <td>1.000000</td>\n",
              "      <td>3.000000</td>\n",
              "      <td>1.000000</td>\n",
              "    </tr>\n",
              "    <tr>\n",
              "      <th>max</th>\n",
              "      <td>77.000000</td>\n",
              "      <td>1.000000</td>\n",
              "      <td>3.000000</td>\n",
              "      <td>200.000000</td>\n",
              "      <td>564.000000</td>\n",
              "      <td>1.000000</td>\n",
              "      <td>2.000000</td>\n",
              "      <td>202.000000</td>\n",
              "      <td>1.000000</td>\n",
              "      <td>6.200000</td>\n",
              "      <td>2.000000</td>\n",
              "      <td>4.000000</td>\n",
              "      <td>3.000000</td>\n",
              "      <td>1.000000</td>\n",
              "    </tr>\n",
              "  </tbody>\n",
              "</table>\n",
              "</div>"
            ]
          },
          "metadata": {},
          "execution_count": 5
        }
      ],
      "metadata": {
        "colab": {
          "base_uri": "https://localhost:8080/",
          "height": 317
        },
        "id": "COMIuv17mBkM",
        "outputId": "26f3e721-996e-4b7f-93f5-56c35d2bb6cc"
      }
    },
    {
      "cell_type": "code",
      "execution_count": 6,
      "source": [
        "# 3 info()\n",
        "data.info()"
      ],
      "outputs": [
        {
          "output_type": "stream",
          "name": "stdout",
          "text": [
            "<class 'pandas.core.frame.DataFrame'>\n",
            "RangeIndex: 303 entries, 0 to 302\n",
            "Data columns (total 14 columns):\n",
            " #   Column    Non-Null Count  Dtype  \n",
            "---  ------    --------------  -----  \n",
            " 0   age       303 non-null    int64  \n",
            " 1   sex       303 non-null    int64  \n",
            " 2   cp        303 non-null    int64  \n",
            " 3   trestbps  303 non-null    int64  \n",
            " 4   chol      303 non-null    int64  \n",
            " 5   fbs       303 non-null    int64  \n",
            " 6   restecg   303 non-null    int64  \n",
            " 7   thalach   303 non-null    int64  \n",
            " 8   exang     303 non-null    int64  \n",
            " 9   oldpeak   303 non-null    float64\n",
            " 10  slope     303 non-null    int64  \n",
            " 11  ca        303 non-null    int64  \n",
            " 12  thal      303 non-null    int64  \n",
            " 13  target    303 non-null    int64  \n",
            "dtypes: float64(1), int64(13)\n",
            "memory usage: 33.3 KB\n"
          ]
        }
      ],
      "metadata": {
        "colab": {
          "base_uri": "https://localhost:8080/"
        },
        "id": "CRMnSJAemDXb",
        "outputId": "5d79e4b7-7260-4d66-baeb-96b3f385b84d"
      }
    },
    {
      "cell_type": "code",
      "execution_count": 7,
      "source": [
        "# 4 Column names\n",
        "columns = data.columns\n",
        "columns"
      ],
      "outputs": [
        {
          "output_type": "execute_result",
          "data": {
            "text/plain": [
              "Index(['age', 'sex', 'cp', 'trestbps', 'chol', 'fbs', 'restecg', 'thalach',\n",
              "       'exang', 'oldpeak', 'slope', 'ca', 'thal', 'target'],\n",
              "      dtype='object')"
            ]
          },
          "metadata": {},
          "execution_count": 7
        }
      ],
      "metadata": {
        "colab": {
          "base_uri": "https://localhost:8080/"
        },
        "id": "FoDDJK2mmE7y",
        "outputId": "ec3d0be0-1293-46c8-f399-bcdadc058420"
      }
    },
    {
      "cell_type": "markdown",
      "source": [
        "Questions:\n",
        "\n",
        "1. What is the dependent variable (column name)?\n",
        "\n",
        "It is the 'target'.\n",
        "\n",
        "2. What are the independent variables?\n",
        "\n",
        "  The rest of the variables in the data set, \n",
        "\n",
        "  ['age', 'sex', 'cp', 'trestbps', 'chol', 'fbs', 'restecg', 'thalach', 'exang', 'oldpeak', 'slope', 'ca', 'thal']\n",
        "\n",
        "3. Should we normalize the data?\n",
        "\n",
        "No, we don't need to normalize it.\n",
        "\n",
        "4. What are the column data-types?\n",
        "\n",
        "All columns are integers except for the \"oldpeak\", which is float. "
      ],
      "metadata": {
        "id": "F9yHU4e5njGx"
      }
    },
    {
      "cell_type": "markdown",
      "source": [
        "# Exploratory Data Analysis (EDA)\n",
        "\n",
        "Create some simple plots to check out the data!\n",
        "\n",
        "1.   Plot the pairwise scatter-plot between each column\n",
        "2.   Plot the distribution of the values of the dependent variable\n",
        "3.   Plot the pairwise correlation heatmap of each column.\n",
        "\n",
        "Answer questions:\n",
        "\n",
        "1.  What are the assumptions of the linear regression model?\n",
        "2.  Can we accept the basic assumptions of the linear regression model?\n",
        "3.  Judging by the scatter-plots, do you see any patterns in the data?\n",
        "4.  Judging by the correlation heat-map, is there correlation between the dependent variable and the independent variables?\n",
        "5.  Are there correlations among independent variables?"
      ],
      "metadata": {
        "id": "nIe7GZHRPkh_"
      }
    },
    {
      "cell_type": "markdown",
      "source": [
        "First we need to create a sigmoid function.\n",
        "\n",
        "Task:\n",
        "1.  Implement the function"
      ],
      "metadata": {
        "id": "qwPjMiGOPkh_"
      }
    },
    {
      "cell_type": "code",
      "execution_count": 8,
      "source": [
        "def sigmoid(x):\n",
        "    return 1.0 / (1.0 + np.exp(-x))"
      ],
      "outputs": [],
      "metadata": {
        "id": "WkNSDoNNPkh_"
      }
    },
    {
      "cell_type": "markdown",
      "source": [
        "Make sure the function is correctly implemented.\n",
        "\n",
        "Task:\n",
        "1.  Plot the function."
      ],
      "metadata": {
        "id": "GNahZzz-Pkh_"
      }
    },
    {
      "cell_type": "code",
      "execution_count": 9,
      "source": [
        "domain_x = np.arange(-5,5,0.1)\n",
        "sns.lineplot(domain_x, sigmoid(domain_x*1+1), color=\"red\")\n",
        "sns.lineplot(domain_x, sigmoid(domain_x*1+0), color=\"blue\") # more steep\n",
        "sns.lineplot(domain_x, sigmoid(domain_x*1-1), color=\"green\")"
      ],
      "outputs": [
        {
          "output_type": "stream",
          "name": "stderr",
          "text": [
            "/usr/local/anaconda3/envs/AI_ITU/lib/python3.8/site-packages/seaborn/_decorators.py:36: FutureWarning: Pass the following variables as keyword args: x, y. From version 0.12, the only valid positional argument will be `data`, and passing other arguments without an explicit keyword will result in an error or misinterpretation.\n",
            "  warnings.warn(\n",
            "/usr/local/anaconda3/envs/AI_ITU/lib/python3.8/site-packages/seaborn/_decorators.py:36: FutureWarning: Pass the following variables as keyword args: x, y. From version 0.12, the only valid positional argument will be `data`, and passing other arguments without an explicit keyword will result in an error or misinterpretation.\n",
            "  warnings.warn(\n",
            "/usr/local/anaconda3/envs/AI_ITU/lib/python3.8/site-packages/seaborn/_decorators.py:36: FutureWarning: Pass the following variables as keyword args: x, y. From version 0.12, the only valid positional argument will be `data`, and passing other arguments without an explicit keyword will result in an error or misinterpretation.\n",
            "  warnings.warn(\n"
          ]
        },
        {
          "output_type": "execute_result",
          "data": {
            "text/plain": [
              "<AxesSubplot:>"
            ]
          },
          "metadata": {},
          "execution_count": 9
        },
        {
          "output_type": "display_data",
          "data": {
            "text/plain": [
              "<Figure size 720x576 with 1 Axes>"
            ],
            "image/png": "[encoded data removed]"
          },
          "metadata": {
            "needs_background": "light"
          }
        }
      ],
      "metadata": {
        "id": "-7IIVc2KPkiA",
        "colab": {
          "base_uri": "https://localhost:8080/",
          "height": 286
        },
        "outputId": "18ea758d-5a3c-418e-d428-82fb6506679c"
      }
    },
    {
      "cell_type": "markdown",
      "source": [
        "Task:\n",
        "1. Write the cost function to evaluate a solution."
      ],
      "metadata": {
        "id": "PgwrtQeHPkiA"
      }
    },
    {
      "cell_type": "code",
      "execution_count": 10,
      "source": [
        "def cost(x, y, Theta):\n",
        "    n = x.shape[0] # number of samples\n",
        "    h = sigmoid(np.dot(x, Theta))\n",
        "\n",
        "    loss = -(1.0 / n) * np.sum(y * np.log(h) + (1.0 - y) * np.log(1.0 - h))\n",
        "  #  loss = np.sum((1.0 - y) * np.log(1.0 - h))\n",
        "   # print(\"h \", h)\n",
        "\n",
        "    return loss"
      ],
      "outputs": [],
      "metadata": {
        "id": "dPl8PbTOPkiA"
      }
    },
    {
      "cell_type": "markdown",
      "source": [
        "Task:\n",
        "1. Separate the data to `X` and `y` arrays.\n",
        "2. Separate the training set and evaluation set."
      ],
      "metadata": {
        "id": "tIhSlSdSPkiA"
      }
    },
    {
      "cell_type": "code",
      "execution_count": 11,
      "source": [
        "# The dependent variable is selected as y\n",
        "y = data[\"target\"]\n",
        "\n",
        "# The independent variables are selected. The address is discarted, as it is strings and does not make sense to include in the linear regression\n",
        "x = data.drop([\"target\"], axis=1)\n",
        "x['Intercept'] = 0\n",
        "\n",
        "# Split the data here - I select the test_size to be 20% of the data set \n",
        "x_train, x_test, y_train, y_test = train_test_split(x, y, test_size=0.2, random_state=42)"
      ],
      "outputs": [],
      "metadata": {
        "id": "Vhb458PsPkiB"
      }
    },
    {
      "cell_type": "markdown",
      "source": [
        "Task:\n",
        "1. Check the shape of our arrays to make sure everything looks good."
      ],
      "metadata": {
        "id": "f-CXXgsaPkiB"
      }
    },
    {
      "cell_type": "code",
      "execution_count": 12,
      "source": [
        "print(\"Size of the x data: train\", x_train.shape, \"test: \", x_test.shape)\n",
        "print(\"Size of the y data: train\", y_train.shape, \"test: \", y_test.shape)"
      ],
      "outputs": [
        {
          "output_type": "stream",
          "name": "stdout",
          "text": [
            "Size of the x data: train (242, 14) test:  (61, 14)\n",
            "Size of the y data: train (242,) test:  (61,)\n"
          ]
        }
      ],
      "metadata": {
        "id": "GaHqhfAbPkiB",
        "colab": {
          "base_uri": "https://localhost:8080/"
        },
        "outputId": "930d4b1f-602f-4452-8bf5-63ea76b9d241"
      }
    },
    {
      "cell_type": "markdown",
      "source": [
        "Task:\n",
        "1. Compute the cost for our initial solution (eyeball the initial value, e.g. zero)."
      ],
      "metadata": {
        "id": "O0OcYsFzPkiB"
      }
    },
    {
      "cell_type": "code",
      "execution_count": 13,
      "source": [
        "variables = x_train.shape[1]\n",
        "init_theta = np.zeros(variables, dtype=float) # initializing theta as zeroes\n",
        "\n",
        "init_cost = cost(x_train, y_train, init_theta) # calculating the initial cost\n",
        "print(\"The initial cost is: \", init_cost)"
      ],
      "outputs": [
        {
          "output_type": "stream",
          "name": "stdout",
          "text": [
            "The initial cost is:  0.6931471805599453\n"
          ]
        }
      ],
      "metadata": {
        "id": "SFdRAFnePkiB",
        "colab": {
          "base_uri": "https://localhost:8080/"
        },
        "outputId": "dbf4eee1-2e2d-4cc0-ac41-108eef3e3f4c"
      }
    },
    {
      "cell_type": "markdown",
      "source": [
        "Task:\n",
        "  Implement a function to compute the gradient (parameter updates) given our training data, labels, and model parameters."
      ],
      "metadata": {
        "id": "w-8eLLquPkiC"
      }
    },
    {
      "cell_type": "code",
      "execution_count": 14,
      "source": [
        "#Hint: you can either use PyTorch to calculate the  gradient (so don't fill the \"gradient code\"),\n",
        "# or you can implement your own gradient descent using the gradient implementation shown in the slides;\n",
        "def gradient(x, y, Theta):\n",
        "   n = x.shape[0] # number of samples\n",
        "   h = sigmoid(np.dot(x, Theta))\n",
        "#   init_cost = cost(x_train, y_train, Theta)\n",
        "\n",
        " #  grad = Theta - mu * 1/n * (np.sum(h-y) * x).sum(axis=0)\n",
        "\n",
        "#   c = cost(x, y, Theta)\n",
        "\n",
        "   grad = 1.0/n * np.dot(x.T, (h - y)) \n",
        "\n",
        "   return grad"
      ],
      "outputs": [],
      "metadata": {
        "id": "PTshmZRTPkiC"
      }
    },
    {
      "cell_type": "code",
      "execution_count": 15,
      "source": [
        "mu = 0.00005 # stepsize\n",
        "variables = x_train.shape[1]\n",
        "init_theta = np.zeros(variables, dtype=float) # initializing theta as zeroes\n",
        "init_cost = cost(x_train, y_train, init_theta)\n",
        "\n",
        "new_cost = 0\n",
        "m = 200000 \n",
        "i = 0\n",
        "\n",
        "# We update the betas untill the new cost does not decrease OR we reach m iterations\n",
        "while ((new_cost < init_cost) and (i < m)):\n",
        "  init_cost = cost\n",
        "  i += 1\n",
        "  gd_theta = gradient(x_train, y_train, init_theta)\n",
        "  updated_weights = init_theta - gd_theta * mu\n",
        "  new_cost = cost(x_train, y_train, updated_weights)\n",
        "\n",
        "  if i%(m/20)==0:\n",
        "   print(new_cost)\n",
        "  init_theta = updated_weights\n",
        "\n"
      ],
      "outputs": [
        {
          "output_type": "error",
          "ename": "TypeError",
          "evalue": "'<' not supported between instances of 'float' and 'function'",
          "traceback": [
            "\u001b[0;31m---------------------------------------------------------------------------\u001b[0m",
            "\u001b[0;31mTypeError\u001b[0m                                 Traceback (most recent call last)",
            "\u001b[0;32m<ipython-input-15-1bb2c7595202>\u001b[0m in \u001b[0;36m<module>\u001b[0;34m\u001b[0m\n\u001b[1;32m      9\u001b[0m \u001b[0;34m\u001b[0m\u001b[0m\n\u001b[1;32m     10\u001b[0m \u001b[0;31m# We update the betas untill the new cost does not decrease OR we reach m iterations\u001b[0m\u001b[0;34m\u001b[0m\u001b[0;34m\u001b[0m\u001b[0;34m\u001b[0m\u001b[0m\n\u001b[0;32m---> 11\u001b[0;31m \u001b[0;32mwhile\u001b[0m \u001b[0;34m(\u001b[0m\u001b[0;34m(\u001b[0m\u001b[0mnew_cost\u001b[0m \u001b[0;34m<\u001b[0m \u001b[0minit_cost\u001b[0m\u001b[0;34m)\u001b[0m \u001b[0;32mand\u001b[0m \u001b[0;34m(\u001b[0m\u001b[0mi\u001b[0m \u001b[0;34m<\u001b[0m \u001b[0mm\u001b[0m\u001b[0;34m)\u001b[0m\u001b[0;34m)\u001b[0m\u001b[0;34m:\u001b[0m\u001b[0;34m\u001b[0m\u001b[0;34m\u001b[0m\u001b[0m\n\u001b[0m\u001b[1;32m     12\u001b[0m   \u001b[0minit_cost\u001b[0m \u001b[0;34m=\u001b[0m \u001b[0mcost\u001b[0m\u001b[0;34m\u001b[0m\u001b[0;34m\u001b[0m\u001b[0m\n\u001b[1;32m     13\u001b[0m   \u001b[0mi\u001b[0m \u001b[0;34m+=\u001b[0m \u001b[0;36m1\u001b[0m\u001b[0;34m\u001b[0m\u001b[0;34m\u001b[0m\u001b[0m\n",
            "\u001b[0;31mTypeError\u001b[0m: '<' not supported between instances of 'float' and 'function'"
          ]
        }
      ],
      "metadata": {
        "colab": {
          "base_uri": "https://localhost:8080/"
        },
        "id": "vPnkZj4AhBf7",
        "outputId": "9cfc4849-fe53-400f-e5ec-1ea6bcc86171"
      }
    },
    {
      "cell_type": "markdown",
      "source": [
        "Task:\n",
        "1. Use PyTorch to optimize the model parameters using gradient descent (SGD, for example) based on the training set. "
      ],
      "metadata": {
        "id": "kj_fgaQkPkiC"
      }
    },
    {
      "cell_type": "markdown",
      "source": [
        "Task:\n",
        "1. Calculate the cost for the optimized parameters"
      ],
      "metadata": {
        "id": "dU5R2kiMPkiD"
      }
    },
    {
      "cell_type": "code",
      "execution_count": null,
      "source": [
        "#### Result to benchmark - delete for handing in ####\n",
        "from sklearn.linear_model import LogisticRegression\n",
        "from sklearn import metrics\n",
        "logreg = LogisticRegression()\n",
        "logreg.fit(x_train, y_train)\n",
        "y_pred = logreg.predict(x_test)\n",
        "print('Accuracy of logistic regression classifier on test set: {:.2f}'.format(logreg.score(x_test, y_test)))"
      ],
      "outputs": [
        {
          "output_type": "error",
          "ename": "NameError",
          "evalue": "name 'x_train' is not defined",
          "traceback": [
            "\u001b[0;31m---------------------------------------------------------------------------\u001b[0m",
            "\u001b[0;31mNameError\u001b[0m                                 Traceback (most recent call last)",
            "\u001b[0;32m<ipython-input-1-916ac97fb4fe>\u001b[0m in \u001b[0;36m<module>\u001b[0;34m\u001b[0m\n\u001b[1;32m      3\u001b[0m \u001b[0;32mfrom\u001b[0m \u001b[0msklearn\u001b[0m \u001b[0;32mimport\u001b[0m \u001b[0mmetrics\u001b[0m\u001b[0;34m\u001b[0m\u001b[0;34m\u001b[0m\u001b[0m\n\u001b[1;32m      4\u001b[0m \u001b[0mlogreg\u001b[0m \u001b[0;34m=\u001b[0m \u001b[0mLogisticRegression\u001b[0m\u001b[0;34m(\u001b[0m\u001b[0;34m)\u001b[0m\u001b[0;34m\u001b[0m\u001b[0;34m\u001b[0m\u001b[0m\n\u001b[0;32m----> 5\u001b[0;31m \u001b[0mlogreg\u001b[0m\u001b[0;34m.\u001b[0m\u001b[0mfit\u001b[0m\u001b[0;34m(\u001b[0m\u001b[0mx_train\u001b[0m\u001b[0;34m,\u001b[0m \u001b[0my_train\u001b[0m\u001b[0;34m)\u001b[0m\u001b[0;34m\u001b[0m\u001b[0;34m\u001b[0m\u001b[0m\n\u001b[0m\u001b[1;32m      6\u001b[0m \u001b[0my_pred\u001b[0m \u001b[0;34m=\u001b[0m \u001b[0mlogreg\u001b[0m\u001b[0;34m.\u001b[0m\u001b[0mpredict\u001b[0m\u001b[0;34m(\u001b[0m\u001b[0mx_test\u001b[0m\u001b[0;34m)\u001b[0m\u001b[0;34m\u001b[0m\u001b[0;34m\u001b[0m\u001b[0m\n\u001b[1;32m      7\u001b[0m \u001b[0mprint\u001b[0m\u001b[0;34m(\u001b[0m\u001b[0;34m'Accuracy of logistic regression classifier on test set: {:.2f}'\u001b[0m\u001b[0;34m.\u001b[0m\u001b[0mformat\u001b[0m\u001b[0;34m(\u001b[0m\u001b[0mlogreg\u001b[0m\u001b[0;34m.\u001b[0m\u001b[0mscore\u001b[0m\u001b[0;34m(\u001b[0m\u001b[0mx_test\u001b[0m\u001b[0;34m,\u001b[0m \u001b[0my_test\u001b[0m\u001b[0;34m)\u001b[0m\u001b[0;34m)\u001b[0m\u001b[0;34m)\u001b[0m\u001b[0;34m\u001b[0m\u001b[0;34m\u001b[0m\u001b[0m\n",
            "\u001b[0;31mNameError\u001b[0m: name 'x_train' is not defined"
          ]
        }
      ],
      "metadata": {
        "id": "7Gfw8lHOPkiD",
        "colab": {
          "base_uri": "https://localhost:8080/"
        },
        "outputId": "9e3e245d-f58a-4402-8c97-a4df0222091f"
      }
    },
    {
      "cell_type": "code",
      "execution_count": null,
      "source": [
        "print(logreg.coef_)\n",
        "cost(x_train, y_train, logreg.coef_[0])"
      ],
      "outputs": [
        {
          "output_type": "stream",
          "name": "stdout",
          "text": [
            "[[ 0.00663728 -1.35694655  0.78896382 -0.01257611 -0.0023455   0.12991375\n",
            "   0.5247914   0.02605102 -0.89196157 -0.61335404  0.66347046 -0.77198348\n",
            "  -0.85912547  0.        ]]\n"
          ]
        },
        {
          "output_type": "execute_result",
          "data": {
            "text/plain": [
              "0.36101411981788106"
            ]
          },
          "metadata": {
            "tags": []
          },
          "execution_count": 172
        }
      ],
      "metadata": {
        "colab": {
          "base_uri": "https://localhost:8080/"
        },
        "id": "tozqLcLYi6Sr",
        "outputId": "568e3bbb-2ead-4925-bde2-7d8daada8aaf"
      }
    },
    {
      "cell_type": "markdown",
      "source": [
        "Task:\n",
        "1. Write a function that will output predictions for a dataset X using our learned parameters.\n",
        "2. Use this function to score and print the training accuracy of our classifier."
      ],
      "metadata": {
        "id": "bPXoNDAtPkiE"
      }
    },
    {
      "cell_type": "code",
      "execution_count": null,
      "source": [
        "def predict(x, Theta):\n",
        "  prediction = sigmoid(np.dot(x, Theta))\n",
        "  \n",
        "  return prediction"
      ],
      "outputs": [],
      "metadata": {
        "id": "Yfx_Iuj6PkiE"
      }
    },
    {
      "cell_type": "code",
      "execution_count": null,
      "source": [
        "# Hint: Accuracy is calculated  like: correctly classified samples / all samples\n",
        "\n",
        "pred = np.round(predict(x_test, updated_weights))\n",
        "\n",
        "# I find the accuracy\n",
        "accuracy = (y_test == pred).sum() / float(len(y_test))\n",
        "\n",
        "print(\"The accuracy is: \", accuracy)"
      ],
      "outputs": [
        {
          "output_type": "stream",
          "name": "stdout",
          "text": [
            "('The accuracy is: ', 0.8360655737704918)\n"
          ]
        }
      ],
      "metadata": {
        "id": "wGMPM_ImPkiE",
        "colab": {
          "base_uri": "https://localhost:8080/"
        },
        "outputId": "ea9f323c-e8fb-43bf-940d-1b106d732ad0"
      }
    }
  ]
}