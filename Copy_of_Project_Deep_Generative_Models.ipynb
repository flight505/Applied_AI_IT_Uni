{
  "nbformat": 4,
  "nbformat_minor": 0,
  "metadata": {
    "colab": {
      "name": "Copy of Project - Deep Generative Models.ipynb",
      "provenance": [],
      "collapsed_sections": [],
      "include_colab_link": true
    },
    "kernelspec": {
      "name": "python3",
      "display_name": "Python 3"
    },
    "language_info": {
      "name": "python"
    },
    "accelerator": "GPU",
    "widgets": {
      "application/vnd.jupyter.widget-state+json": {
        "08516dc74ecf48f89b277013f84167ed": {
          "model_module": "@jupyter-widgets/controls",
          "model_name": "HBoxModel",
          "model_module_version": "1.5.0",
          "state": {
            "_view_name": "HBoxView",
            "_dom_classes": [],
            "_model_name": "HBoxModel",
            "_view_module": "@jupyter-widgets/controls",
            "_model_module_version": "1.5.0",
            "_view_count": null,
            "_view_module_version": "1.5.0",
            "box_style": "",
            "layout": "IPY_MODEL_c39adcc8fb9f4bd8b4e9aeea509e3f1a",
            "_model_module": "@jupyter-widgets/controls",
            "children": [
              "IPY_MODEL_dbed799d860d490ab73f760ddc62c888",
              "IPY_MODEL_4bc0bbbd45c84ca087206be877f9e5e9",
              "IPY_MODEL_8f14a4fd36f04b8290b3f3ab869e9aa2"
            ]
          }
        },
        "c39adcc8fb9f4bd8b4e9aeea509e3f1a": {
          "model_module": "@jupyter-widgets/base",
          "model_name": "LayoutModel",
          "model_module_version": "1.2.0",
          "state": {
            "_view_name": "LayoutView",
            "grid_template_rows": null,
            "right": null,
            "justify_content": null,
            "_view_module": "@jupyter-widgets/base",
            "overflow": null,
            "_model_module_version": "1.2.0",
            "_view_count": null,
            "flex_flow": null,
            "width": null,
            "min_width": null,
            "border": null,
            "align_items": null,
            "bottom": null,
            "_model_module": "@jupyter-widgets/base",
            "top": null,
            "grid_column": null,
            "overflow_y": null,
            "overflow_x": null,
            "grid_auto_flow": null,
            "grid_area": null,
            "grid_template_columns": null,
            "flex": null,
            "_model_name": "LayoutModel",
            "justify_items": null,
            "grid_row": null,
            "max_height": null,
            "align_content": null,
            "visibility": null,
            "align_self": null,
            "height": null,
            "min_height": null,
            "padding": null,
            "grid_auto_rows": null,
            "grid_gap": null,
            "max_width": null,
            "order": null,
            "_view_module_version": "1.2.0",
            "grid_template_areas": null,
            "object_position": null,
            "object_fit": null,
            "grid_auto_columns": null,
            "margin": null,
            "display": null,
            "left": null
          }
        },
        "dbed799d860d490ab73f760ddc62c888": {
          "model_module": "@jupyter-widgets/controls",
          "model_name": "HTMLModel",
          "model_module_version": "1.5.0",
          "state": {
            "_view_name": "HTMLView",
            "style": "IPY_MODEL_3430fb3547b24b2f8c4bff34cafe435f",
            "_dom_classes": [],
            "description": "",
            "_model_name": "HTMLModel",
            "placeholder": "​",
            "_view_module": "@jupyter-widgets/controls",
            "_model_module_version": "1.5.0",
            "value": "",
            "_view_count": null,
            "_view_module_version": "1.5.0",
            "description_tooltip": null,
            "_model_module": "@jupyter-widgets/controls",
            "layout": "IPY_MODEL_6457f335adf24e00a5f151ae597b6bcf"
          }
        },
        "4bc0bbbd45c84ca087206be877f9e5e9": {
          "model_module": "@jupyter-widgets/controls",
          "model_name": "FloatProgressModel",
          "model_module_version": "1.5.0",
          "state": {
            "_view_name": "ProgressView",
            "style": "IPY_MODEL_a4793157456d4fcc81c17638fbafa377",
            "_dom_classes": [],
            "description": "",
            "_model_name": "FloatProgressModel",
            "bar_style": "success",
            "max": 9912422,
            "_view_module": "@jupyter-widgets/controls",
            "_model_module_version": "1.5.0",
            "value": 9912422,
            "_view_count": null,
            "_view_module_version": "1.5.0",
            "orientation": "horizontal",
            "min": 0,
            "description_tooltip": null,
            "_model_module": "@jupyter-widgets/controls",
            "layout": "IPY_MODEL_8a30cd01c04b4ea4b395c007318ec06d"
          }
        },
        "8f14a4fd36f04b8290b3f3ab869e9aa2": {
          "model_module": "@jupyter-widgets/controls",
          "model_name": "HTMLModel",
          "model_module_version": "1.5.0",
          "state": {
            "_view_name": "HTMLView",
            "style": "IPY_MODEL_91898c825cc145dd8d1d65f0bfe8893b",
            "_dom_classes": [],
            "description": "",
            "_model_name": "HTMLModel",
            "placeholder": "​",
            "_view_module": "@jupyter-widgets/controls",
            "_model_module_version": "1.5.0",
            "value": " 9913344/? [00:00&lt;00:00, 17367503.63it/s]",
            "_view_count": null,
            "_view_module_version": "1.5.0",
            "description_tooltip": null,
            "_model_module": "@jupyter-widgets/controls",
            "layout": "IPY_MODEL_34ffcc5789a44b67b3ae3d15bf03fa9f"
          }
        },
        "3430fb3547b24b2f8c4bff34cafe435f": {
          "model_module": "@jupyter-widgets/controls",
          "model_name": "DescriptionStyleModel",
          "model_module_version": "1.5.0",
          "state": {
            "_view_name": "StyleView",
            "_model_name": "DescriptionStyleModel",
            "description_width": "",
            "_view_module": "@jupyter-widgets/base",
            "_model_module_version": "1.5.0",
            "_view_count": null,
            "_view_module_version": "1.2.0",
            "_model_module": "@jupyter-widgets/controls"
          }
        },
        "6457f335adf24e00a5f151ae597b6bcf": {
          "model_module": "@jupyter-widgets/base",
          "model_name": "LayoutModel",
          "model_module_version": "1.2.0",
          "state": {
            "_view_name": "LayoutView",
            "grid_template_rows": null,
            "right": null,
            "justify_content": null,
            "_view_module": "@jupyter-widgets/base",
            "overflow": null,
            "_model_module_version": "1.2.0",
            "_view_count": null,
            "flex_flow": null,
            "width": null,
            "min_width": null,
            "border": null,
            "align_items": null,
            "bottom": null,
            "_model_module": "@jupyter-widgets/base",
            "top": null,
            "grid_column": null,
            "overflow_y": null,
            "overflow_x": null,
            "grid_auto_flow": null,
            "grid_area": null,
            "grid_template_columns": null,
            "flex": null,
            "_model_name": "LayoutModel",
            "justify_items": null,
            "grid_row": null,
            "max_height": null,
            "align_content": null,
            "visibility": null,
            "align_self": null,
            "height": null,
            "min_height": null,
            "padding": null,
            "grid_auto_rows": null,
            "grid_gap": null,
            "max_width": null,
            "order": null,
            "_view_module_version": "1.2.0",
            "grid_template_areas": null,
            "object_position": null,
            "object_fit": null,
            "grid_auto_columns": null,
            "margin": null,
            "display": null,
            "left": null
          }
        },
        "a4793157456d4fcc81c17638fbafa377": {
          "model_module": "@jupyter-widgets/controls",
          "model_name": "ProgressStyleModel",
          "model_module_version": "1.5.0",
          "state": {
            "_view_name": "StyleView",
            "_model_name": "ProgressStyleModel",
            "description_width": "",
            "_view_module": "@jupyter-widgets/base",
            "_model_module_version": "1.5.0",
            "_view_count": null,
            "_view_module_version": "1.2.0",
            "bar_color": null,
            "_model_module": "@jupyter-widgets/controls"
          }
        },
        "8a30cd01c04b4ea4b395c007318ec06d": {
          "model_module": "@jupyter-widgets/base",
          "model_name": "LayoutModel",
          "model_module_version": "1.2.0",
          "state": {
            "_view_name": "LayoutView",
            "grid_template_rows": null,
            "right": null,
            "justify_content": null,
            "_view_module": "@jupyter-widgets/base",
            "overflow": null,
            "_model_module_version": "1.2.0",
            "_view_count": null,
            "flex_flow": null,
            "width": null,
            "min_width": null,
            "border": null,
            "align_items": null,
            "bottom": null,
            "_model_module": "@jupyter-widgets/base",
            "top": null,
            "grid_column": null,
            "overflow_y": null,
            "overflow_x": null,
            "grid_auto_flow": null,
            "grid_area": null,
            "grid_template_columns": null,
            "flex": null,
            "_model_name": "LayoutModel",
            "justify_items": null,
            "grid_row": null,
            "max_height": null,
            "align_content": null,
            "visibility": null,
            "align_self": null,
            "height": null,
            "min_height": null,
            "padding": null,
            "grid_auto_rows": null,
            "grid_gap": null,
            "max_width": null,
            "order": null,
            "_view_module_version": "1.2.0",
            "grid_template_areas": null,
            "object_position": null,
            "object_fit": null,
            "grid_auto_columns": null,
            "margin": null,
            "display": null,
            "left": null
          }
        },
        "91898c825cc145dd8d1d65f0bfe8893b": {
          "model_module": "@jupyter-widgets/controls",
          "model_name": "DescriptionStyleModel",
          "model_module_version": "1.5.0",
          "state": {
            "_view_name": "StyleView",
            "_model_name": "DescriptionStyleModel",
            "description_width": "",
            "_view_module": "@jupyter-widgets/base",
            "_model_module_version": "1.5.0",
            "_view_count": null,
            "_view_module_version": "1.2.0",
            "_model_module": "@jupyter-widgets/controls"
          }
        },
        "34ffcc5789a44b67b3ae3d15bf03fa9f": {
          "model_module": "@jupyter-widgets/base",
          "model_name": "LayoutModel",
          "model_module_version": "1.2.0",
          "state": {
            "_view_name": "LayoutView",
            "grid_template_rows": null,
            "right": null,
            "justify_content": null,
            "_view_module": "@jupyter-widgets/base",
            "overflow": null,
            "_model_module_version": "1.2.0",
            "_view_count": null,
            "flex_flow": null,
            "width": null,
            "min_width": null,
            "border": null,
            "align_items": null,
            "bottom": null,
            "_model_module": "@jupyter-widgets/base",
            "top": null,
            "grid_column": null,
            "overflow_y": null,
            "overflow_x": null,
            "grid_auto_flow": null,
            "grid_area": null,
            "grid_template_columns": null,
            "flex": null,
            "_model_name": "LayoutModel",
            "justify_items": null,
            "grid_row": null,
            "max_height": null,
            "align_content": null,
            "visibility": null,
            "align_self": null,
            "height": null,
            "min_height": null,
            "padding": null,
            "grid_auto_rows": null,
            "grid_gap": null,
            "max_width": null,
            "order": null,
            "_view_module_version": "1.2.0",
            "grid_template_areas": null,
            "object_position": null,
            "object_fit": null,
            "grid_auto_columns": null,
            "margin": null,
            "display": null,
            "left": null
          }
        },
        "07b37fdb865a45fbb519245372d1cc78": {
          "model_module": "@jupyter-widgets/controls",
          "model_name": "HBoxModel",
          "model_module_version": "1.5.0",
          "state": {
            "_view_name": "HBoxView",
            "_dom_classes": [],
            "_model_name": "HBoxModel",
            "_view_module": "@jupyter-widgets/controls",
            "_model_module_version": "1.5.0",
            "_view_count": null,
            "_view_module_version": "1.5.0",
            "box_style": "",
            "layout": "IPY_MODEL_113c27beca304f1ba55fba72c80cb61e",
            "_model_module": "@jupyter-widgets/controls",
            "children": [
              "IPY_MODEL_f81396cc220c4316a52d234ef8b2d650",
              "IPY_MODEL_25ce1fa93ba4491697a5870c43d9978a",
              "IPY_MODEL_7a710bd29d4e49929135bb258541c120"
            ]
          }
        },
        "113c27beca304f1ba55fba72c80cb61e": {
          "model_module": "@jupyter-widgets/base",
          "model_name": "LayoutModel",
          "model_module_version": "1.2.0",
          "state": {
            "_view_name": "LayoutView",
            "grid_template_rows": null,
            "right": null,
            "justify_content": null,
            "_view_module": "@jupyter-widgets/base",
            "overflow": null,
            "_model_module_version": "1.2.0",
            "_view_count": null,
            "flex_flow": null,
            "width": null,
            "min_width": null,
            "border": null,
            "align_items": null,
            "bottom": null,
            "_model_module": "@jupyter-widgets/base",
            "top": null,
            "grid_column": null,
            "overflow_y": null,
            "overflow_x": null,
            "grid_auto_flow": null,
            "grid_area": null,
            "grid_template_columns": null,
            "flex": null,
            "_model_name": "LayoutModel",
            "justify_items": null,
            "grid_row": null,
            "max_height": null,
            "align_content": null,
            "visibility": null,
            "align_self": null,
            "height": null,
            "min_height": null,
            "padding": null,
            "grid_auto_rows": null,
            "grid_gap": null,
            "max_width": null,
            "order": null,
            "_view_module_version": "1.2.0",
            "grid_template_areas": null,
            "object_position": null,
            "object_fit": null,
            "grid_auto_columns": null,
            "margin": null,
            "display": null,
            "left": null
          }
        },
        "f81396cc220c4316a52d234ef8b2d650": {
          "model_module": "@jupyter-widgets/controls",
          "model_name": "HTMLModel",
          "model_module_version": "1.5.0",
          "state": {
            "_view_name": "HTMLView",
            "style": "IPY_MODEL_c4865cb36b10425099c1acd7421a233d",
            "_dom_classes": [],
            "description": "",
            "_model_name": "HTMLModel",
            "placeholder": "​",
            "_view_module": "@jupyter-widgets/controls",
            "_model_module_version": "1.5.0",
            "value": "",
            "_view_count": null,
            "_view_module_version": "1.5.0",
            "description_tooltip": null,
            "_model_module": "@jupyter-widgets/controls",
            "layout": "IPY_MODEL_4c9501144d2d48a8b1125fefd43624ed"
          }
        },
        "25ce1fa93ba4491697a5870c43d9978a": {
          "model_module": "@jupyter-widgets/controls",
          "model_name": "FloatProgressModel",
          "model_module_version": "1.5.0",
          "state": {
            "_view_name": "ProgressView",
            "style": "IPY_MODEL_d646a01b4c9b4d7fa33c6370f8533c2a",
            "_dom_classes": [],
            "description": "",
            "_model_name": "FloatProgressModel",
            "bar_style": "success",
            "max": 28881,
            "_view_module": "@jupyter-widgets/controls",
            "_model_module_version": "1.5.0",
            "value": 28881,
            "_view_count": null,
            "_view_module_version": "1.5.0",
            "orientation": "horizontal",
            "min": 0,
            "description_tooltip": null,
            "_model_module": "@jupyter-widgets/controls",
            "layout": "IPY_MODEL_28b8af58f26c45d88ec0b8ba78a4d554"
          }
        },
        "7a710bd29d4e49929135bb258541c120": {
          "model_module": "@jupyter-widgets/controls",
          "model_name": "HTMLModel",
          "model_module_version": "1.5.0",
          "state": {
            "_view_name": "HTMLView",
            "style": "IPY_MODEL_bb34409deb46414082a24c2d040f12b7",
            "_dom_classes": [],
            "description": "",
            "_model_name": "HTMLModel",
            "placeholder": "​",
            "_view_module": "@jupyter-widgets/controls",
            "_model_module_version": "1.5.0",
            "value": " 29696/? [00:00&lt;00:00, 720457.03it/s]",
            "_view_count": null,
            "_view_module_version": "1.5.0",
            "description_tooltip": null,
            "_model_module": "@jupyter-widgets/controls",
            "layout": "IPY_MODEL_12ab97f9834a40218b1486c6c4f67d63"
          }
        },
        "c4865cb36b10425099c1acd7421a233d": {
          "model_module": "@jupyter-widgets/controls",
          "model_name": "DescriptionStyleModel",
          "model_module_version": "1.5.0",
          "state": {
            "_view_name": "StyleView",
            "_model_name": "DescriptionStyleModel",
            "description_width": "",
            "_view_module": "@jupyter-widgets/base",
            "_model_module_version": "1.5.0",
            "_view_count": null,
            "_view_module_version": "1.2.0",
            "_model_module": "@jupyter-widgets/controls"
          }
        },
        "4c9501144d2d48a8b1125fefd43624ed": {
          "model_module": "@jupyter-widgets/base",
          "model_name": "LayoutModel",
          "model_module_version": "1.2.0",
          "state": {
            "_view_name": "LayoutView",
            "grid_template_rows": null,
            "right": null,
            "justify_content": null,
            "_view_module": "@jupyter-widgets/base",
            "overflow": null,
            "_model_module_version": "1.2.0",
            "_view_count": null,
            "flex_flow": null,
            "width": null,
            "min_width": null,
            "border": null,
            "align_items": null,
            "bottom": null,
            "_model_module": "@jupyter-widgets/base",
            "top": null,
            "grid_column": null,
            "overflow_y": null,
            "overflow_x": null,
            "grid_auto_flow": null,
            "grid_area": null,
            "grid_template_columns": null,
            "flex": null,
            "_model_name": "LayoutModel",
            "justify_items": null,
            "grid_row": null,
            "max_height": null,
            "align_content": null,
            "visibility": null,
            "align_self": null,
            "height": null,
            "min_height": null,
            "padding": null,
            "grid_auto_rows": null,
            "grid_gap": null,
            "max_width": null,
            "order": null,
            "_view_module_version": "1.2.0",
            "grid_template_areas": null,
            "object_position": null,
            "object_fit": null,
            "grid_auto_columns": null,
            "margin": null,
            "display": null,
            "left": null
          }
        },
        "d646a01b4c9b4d7fa33c6370f8533c2a": {
          "model_module": "@jupyter-widgets/controls",
          "model_name": "ProgressStyleModel",
          "model_module_version": "1.5.0",
          "state": {
            "_view_name": "StyleView",
            "_model_name": "ProgressStyleModel",
            "description_width": "",
            "_view_module": "@jupyter-widgets/base",
            "_model_module_version": "1.5.0",
            "_view_count": null,
            "_view_module_version": "1.2.0",
            "bar_color": null,
            "_model_module": "@jupyter-widgets/controls"
          }
        },
        "28b8af58f26c45d88ec0b8ba78a4d554": {
          "model_module": "@jupyter-widgets/base",
          "model_name": "LayoutModel",
          "model_module_version": "1.2.0",
          "state": {
            "_view_name": "LayoutView",
            "grid_template_rows": null,
            "right": null,
            "justify_content": null,
            "_view_module": "@jupyter-widgets/base",
            "overflow": null,
            "_model_module_version": "1.2.0",
            "_view_count": null,
            "flex_flow": null,
            "width": null,
            "min_width": null,
            "border": null,
            "align_items": null,
            "bottom": null,
            "_model_module": "@jupyter-widgets/base",
            "top": null,
            "grid_column": null,
            "overflow_y": null,
            "overflow_x": null,
            "grid_auto_flow": null,
            "grid_area": null,
            "grid_template_columns": null,
            "flex": null,
            "_model_name": "LayoutModel",
            "justify_items": null,
            "grid_row": null,
            "max_height": null,
            "align_content": null,
            "visibility": null,
            "align_self": null,
            "height": null,
            "min_height": null,
            "padding": null,
            "grid_auto_rows": null,
            "grid_gap": null,
            "max_width": null,
            "order": null,
            "_view_module_version": "1.2.0",
            "grid_template_areas": null,
            "object_position": null,
            "object_fit": null,
            "grid_auto_columns": null,
            "margin": null,
            "display": null,
            "left": null
          }
        },
        "bb34409deb46414082a24c2d040f12b7": {
          "model_module": "@jupyter-widgets/controls",
          "model_name": "DescriptionStyleModel",
          "model_module_version": "1.5.0",
          "state": {
            "_view_name": "StyleView",
            "_model_name": "DescriptionStyleModel",
            "description_width": "",
            "_view_module": "@jupyter-widgets/base",
            "_model_module_version": "1.5.0",
            "_view_count": null,
            "_view_module_version": "1.2.0",
            "_model_module": "@jupyter-widgets/controls"
          }
        },
        "12ab97f9834a40218b1486c6c4f67d63": {
          "model_module": "@jupyter-widgets/base",
          "model_name": "LayoutModel",
          "model_module_version": "1.2.0",
          "state": {
            "_view_name": "LayoutView",
            "grid_template_rows": null,
            "right": null,
            "justify_content": null,
            "_view_module": "@jupyter-widgets/base",
            "overflow": null,
            "_model_module_version": "1.2.0",
            "_view_count": null,
            "flex_flow": null,
            "width": null,
            "min_width": null,
            "border": null,
            "align_items": null,
            "bottom": null,
            "_model_module": "@jupyter-widgets/base",
            "top": null,
            "grid_column": null,
            "overflow_y": null,
            "overflow_x": null,
            "grid_auto_flow": null,
            "grid_area": null,
            "grid_template_columns": null,
            "flex": null,
            "_model_name": "LayoutModel",
            "justify_items": null,
            "grid_row": null,
            "max_height": null,
            "align_content": null,
            "visibility": null,
            "align_self": null,
            "height": null,
            "min_height": null,
            "padding": null,
            "grid_auto_rows": null,
            "grid_gap": null,
            "max_width": null,
            "order": null,
            "_view_module_version": "1.2.0",
            "grid_template_areas": null,
            "object_position": null,
            "object_fit": null,
            "grid_auto_columns": null,
            "margin": null,
            "display": null,
            "left": null
          }
        },
        "8e6057bb21634755b46fc4d5a1a1c7ea": {
          "model_module": "@jupyter-widgets/controls",
          "model_name": "HBoxModel",
          "model_module_version": "1.5.0",
          "state": {
            "_view_name": "HBoxView",
            "_dom_classes": [],
            "_model_name": "HBoxModel",
            "_view_module": "@jupyter-widgets/controls",
            "_model_module_version": "1.5.0",
            "_view_count": null,
            "_view_module_version": "1.5.0",
            "box_style": "",
            "layout": "IPY_MODEL_b6b93dcb8bf54ceb96c961d6ead00f73",
            "_model_module": "@jupyter-widgets/controls",
            "children": [
              "IPY_MODEL_2f2a3f54ac0b42d787d886fa3d88aaea",
              "IPY_MODEL_fb9c50697f4d4577b5b39cbadfbc189b",
              "IPY_MODEL_ace727eda6624be4929c1ae5b317a405"
            ]
          }
        },
        "b6b93dcb8bf54ceb96c961d6ead00f73": {
          "model_module": "@jupyter-widgets/base",
          "model_name": "LayoutModel",
          "model_module_version": "1.2.0",
          "state": {
            "_view_name": "LayoutView",
            "grid_template_rows": null,
            "right": null,
            "justify_content": null,
            "_view_module": "@jupyter-widgets/base",
            "overflow": null,
            "_model_module_version": "1.2.0",
            "_view_count": null,
            "flex_flow": null,
            "width": null,
            "min_width": null,
            "border": null,
            "align_items": null,
            "bottom": null,
            "_model_module": "@jupyter-widgets/base",
            "top": null,
            "grid_column": null,
            "overflow_y": null,
            "overflow_x": null,
            "grid_auto_flow": null,
            "grid_area": null,
            "grid_template_columns": null,
            "flex": null,
            "_model_name": "LayoutModel",
            "justify_items": null,
            "grid_row": null,
            "max_height": null,
            "align_content": null,
            "visibility": null,
            "align_self": null,
            "height": null,
            "min_height": null,
            "padding": null,
            "grid_auto_rows": null,
            "grid_gap": null,
            "max_width": null,
            "order": null,
            "_view_module_version": "1.2.0",
            "grid_template_areas": null,
            "object_position": null,
            "object_fit": null,
            "grid_auto_columns": null,
            "margin": null,
            "display": null,
            "left": null
          }
        },
        "2f2a3f54ac0b42d787d886fa3d88aaea": {
          "model_module": "@jupyter-widgets/controls",
          "model_name": "HTMLModel",
          "model_module_version": "1.5.0",
          "state": {
            "_view_name": "HTMLView",
            "style": "IPY_MODEL_31b968fc8aff4ce98532af7df3a3f5dd",
            "_dom_classes": [],
            "description": "",
            "_model_name": "HTMLModel",
            "placeholder": "​",
            "_view_module": "@jupyter-widgets/controls",
            "_model_module_version": "1.5.0",
            "value": "",
            "_view_count": null,
            "_view_module_version": "1.5.0",
            "description_tooltip": null,
            "_model_module": "@jupyter-widgets/controls",
            "layout": "IPY_MODEL_87c16d07207543d58c8356fffd5eb792"
          }
        },
        "fb9c50697f4d4577b5b39cbadfbc189b": {
          "model_module": "@jupyter-widgets/controls",
          "model_name": "FloatProgressModel",
          "model_module_version": "1.5.0",
          "state": {
            "_view_name": "ProgressView",
            "style": "IPY_MODEL_74d8562277114c6c8cc52212f080b6b5",
            "_dom_classes": [],
            "description": "",
            "_model_name": "FloatProgressModel",
            "bar_style": "success",
            "max": 1648877,
            "_view_module": "@jupyter-widgets/controls",
            "_model_module_version": "1.5.0",
            "value": 1648877,
            "_view_count": null,
            "_view_module_version": "1.5.0",
            "orientation": "horizontal",
            "min": 0,
            "description_tooltip": null,
            "_model_module": "@jupyter-widgets/controls",
            "layout": "IPY_MODEL_714ab231da7e49329250e62ccd0e1ec7"
          }
        },
        "ace727eda6624be4929c1ae5b317a405": {
          "model_module": "@jupyter-widgets/controls",
          "model_name": "HTMLModel",
          "model_module_version": "1.5.0",
          "state": {
            "_view_name": "HTMLView",
            "style": "IPY_MODEL_1492e025db1b44e187862cc4434c6451",
            "_dom_classes": [],
            "description": "",
            "_model_name": "HTMLModel",
            "placeholder": "​",
            "_view_module": "@jupyter-widgets/controls",
            "_model_module_version": "1.5.0",
            "value": " 1649664/? [00:00&lt;00:00, 3320391.29it/s]",
            "_view_count": null,
            "_view_module_version": "1.5.0",
            "description_tooltip": null,
            "_model_module": "@jupyter-widgets/controls",
            "layout": "IPY_MODEL_b86cf84b5b794d0180e24d9e0de489e8"
          }
        },
        "31b968fc8aff4ce98532af7df3a3f5dd": {
          "model_module": "@jupyter-widgets/controls",
          "model_name": "DescriptionStyleModel",
          "model_module_version": "1.5.0",
          "state": {
            "_view_name": "StyleView",
            "_model_name": "DescriptionStyleModel",
            "description_width": "",
            "_view_module": "@jupyter-widgets/base",
            "_model_module_version": "1.5.0",
            "_view_count": null,
            "_view_module_version": "1.2.0",
            "_model_module": "@jupyter-widgets/controls"
          }
        },
        "87c16d07207543d58c8356fffd5eb792": {
          "model_module": "@jupyter-widgets/base",
          "model_name": "LayoutModel",
          "model_module_version": "1.2.0",
          "state": {
            "_view_name": "LayoutView",
            "grid_template_rows": null,
            "right": null,
            "justify_content": null,
            "_view_module": "@jupyter-widgets/base",
            "overflow": null,
            "_model_module_version": "1.2.0",
            "_view_count": null,
            "flex_flow": null,
            "width": null,
            "min_width": null,
            "border": null,
            "align_items": null,
            "bottom": null,
            "_model_module": "@jupyter-widgets/base",
            "top": null,
            "grid_column": null,
            "overflow_y": null,
            "overflow_x": null,
            "grid_auto_flow": null,
            "grid_area": null,
            "grid_template_columns": null,
            "flex": null,
            "_model_name": "LayoutModel",
            "justify_items": null,
            "grid_row": null,
            "max_height": null,
            "align_content": null,
            "visibility": null,
            "align_self": null,
            "height": null,
            "min_height": null,
            "padding": null,
            "grid_auto_rows": null,
            "grid_gap": null,
            "max_width": null,
            "order": null,
            "_view_module_version": "1.2.0",
            "grid_template_areas": null,
            "object_position": null,
            "object_fit": null,
            "grid_auto_columns": null,
            "margin": null,
            "display": null,
            "left": null
          }
        },
        "74d8562277114c6c8cc52212f080b6b5": {
          "model_module": "@jupyter-widgets/controls",
          "model_name": "ProgressStyleModel",
          "model_module_version": "1.5.0",
          "state": {
            "_view_name": "StyleView",
            "_model_name": "ProgressStyleModel",
            "description_width": "",
            "_view_module": "@jupyter-widgets/base",
            "_model_module_version": "1.5.0",
            "_view_count": null,
            "_view_module_version": "1.2.0",
            "bar_color": null,
            "_model_module": "@jupyter-widgets/controls"
          }
        },
        "714ab231da7e49329250e62ccd0e1ec7": {
          "model_module": "@jupyter-widgets/base",
          "model_name": "LayoutModel",
          "model_module_version": "1.2.0",
          "state": {
            "_view_name": "LayoutView",
            "grid_template_rows": null,
            "right": null,
            "justify_content": null,
            "_view_module": "@jupyter-widgets/base",
            "overflow": null,
            "_model_module_version": "1.2.0",
            "_view_count": null,
            "flex_flow": null,
            "width": null,
            "min_width": null,
            "border": null,
            "align_items": null,
            "bottom": null,
            "_model_module": "@jupyter-widgets/base",
            "top": null,
            "grid_column": null,
            "overflow_y": null,
            "overflow_x": null,
            "grid_auto_flow": null,
            "grid_area": null,
            "grid_template_columns": null,
            "flex": null,
            "_model_name": "LayoutModel",
            "justify_items": null,
            "grid_row": null,
            "max_height": null,
            "align_content": null,
            "visibility": null,
            "align_self": null,
            "height": null,
            "min_height": null,
            "padding": null,
            "grid_auto_rows": null,
            "grid_gap": null,
            "max_width": null,
            "order": null,
            "_view_module_version": "1.2.0",
            "grid_template_areas": null,
            "object_position": null,
            "object_fit": null,
            "grid_auto_columns": null,
            "margin": null,
            "display": null,
            "left": null
          }
        },
        "1492e025db1b44e187862cc4434c6451": {
          "model_module": "@jupyter-widgets/controls",
          "model_name": "DescriptionStyleModel",
          "model_module_version": "1.5.0",
          "state": {
            "_view_name": "StyleView",
            "_model_name": "DescriptionStyleModel",
            "description_width": "",
            "_view_module": "@jupyter-widgets/base",
            "_model_module_version": "1.5.0",
            "_view_count": null,
            "_view_module_version": "1.2.0",
            "_model_module": "@jupyter-widgets/controls"
          }
        },
        "b86cf84b5b794d0180e24d9e0de489e8": {
          "model_module": "@jupyter-widgets/base",
          "model_name": "LayoutModel",
          "model_module_version": "1.2.0",
          "state": {
            "_view_name": "LayoutView",
            "grid_template_rows": null,
            "right": null,
            "justify_content": null,
            "_view_module": "@jupyter-widgets/base",
            "overflow": null,
            "_model_module_version": "1.2.0",
            "_view_count": null,
            "flex_flow": null,
            "width": null,
            "min_width": null,
            "border": null,
            "align_items": null,
            "bottom": null,
            "_model_module": "@jupyter-widgets/base",
            "top": null,
            "grid_column": null,
            "overflow_y": null,
            "overflow_x": null,
            "grid_auto_flow": null,
            "grid_area": null,
            "grid_template_columns": null,
            "flex": null,
            "_model_name": "LayoutModel",
            "justify_items": null,
            "grid_row": null,
            "max_height": null,
            "align_content": null,
            "visibility": null,
            "align_self": null,
            "height": null,
            "min_height": null,
            "padding": null,
            "grid_auto_rows": null,
            "grid_gap": null,
            "max_width": null,
            "order": null,
            "_view_module_version": "1.2.0",
            "grid_template_areas": null,
            "object_position": null,
            "object_fit": null,
            "grid_auto_columns": null,
            "margin": null,
            "display": null,
            "left": null
          }
        },
        "861df96cfaac4df882f0892d2fe14ae4": {
          "model_module": "@jupyter-widgets/controls",
          "model_name": "HBoxModel",
          "model_module_version": "1.5.0",
          "state": {
            "_view_name": "HBoxView",
            "_dom_classes": [],
            "_model_name": "HBoxModel",
            "_view_module": "@jupyter-widgets/controls",
            "_model_module_version": "1.5.0",
            "_view_count": null,
            "_view_module_version": "1.5.0",
            "box_style": "",
            "layout": "IPY_MODEL_12d3b8f2529a421f83bce42811b2af16",
            "_model_module": "@jupyter-widgets/controls",
            "children": [
              "IPY_MODEL_a9176093c236446082a76f8d71d6ead1",
              "IPY_MODEL_a2d8c87989c244beafb6f19b5ba476aa",
              "IPY_MODEL_4ffd473c8f384352a8054a4ea3634ecd"
            ]
          }
        },
        "12d3b8f2529a421f83bce42811b2af16": {
          "model_module": "@jupyter-widgets/base",
          "model_name": "LayoutModel",
          "model_module_version": "1.2.0",
          "state": {
            "_view_name": "LayoutView",
            "grid_template_rows": null,
            "right": null,
            "justify_content": null,
            "_view_module": "@jupyter-widgets/base",
            "overflow": null,
            "_model_module_version": "1.2.0",
            "_view_count": null,
            "flex_flow": null,
            "width": null,
            "min_width": null,
            "border": null,
            "align_items": null,
            "bottom": null,
            "_model_module": "@jupyter-widgets/base",
            "top": null,
            "grid_column": null,
            "overflow_y": null,
            "overflow_x": null,
            "grid_auto_flow": null,
            "grid_area": null,
            "grid_template_columns": null,
            "flex": null,
            "_model_name": "LayoutModel",
            "justify_items": null,
            "grid_row": null,
            "max_height": null,
            "align_content": null,
            "visibility": null,
            "align_self": null,
            "height": null,
            "min_height": null,
            "padding": null,
            "grid_auto_rows": null,
            "grid_gap": null,
            "max_width": null,
            "order": null,
            "_view_module_version": "1.2.0",
            "grid_template_areas": null,
            "object_position": null,
            "object_fit": null,
            "grid_auto_columns": null,
            "margin": null,
            "display": null,
            "left": null
          }
        },
        "a9176093c236446082a76f8d71d6ead1": {
          "model_module": "@jupyter-widgets/controls",
          "model_name": "HTMLModel",
          "model_module_version": "1.5.0",
          "state": {
            "_view_name": "HTMLView",
            "style": "IPY_MODEL_10aa0b467e1d4121b47963fa9e92ef04",
            "_dom_classes": [],
            "description": "",
            "_model_name": "HTMLModel",
            "placeholder": "​",
            "_view_module": "@jupyter-widgets/controls",
            "_model_module_version": "1.5.0",
            "value": "",
            "_view_count": null,
            "_view_module_version": "1.5.0",
            "description_tooltip": null,
            "_model_module": "@jupyter-widgets/controls",
            "layout": "IPY_MODEL_2c12fecbbaa94b4a9a0b339c39225741"
          }
        },
        "a2d8c87989c244beafb6f19b5ba476aa": {
          "model_module": "@jupyter-widgets/controls",
          "model_name": "FloatProgressModel",
          "model_module_version": "1.5.0",
          "state": {
            "_view_name": "ProgressView",
            "style": "IPY_MODEL_f9f7769d22634659a8549e6b8c0b9da0",
            "_dom_classes": [],
            "description": "",
            "_model_name": "FloatProgressModel",
            "bar_style": "success",
            "max": 4542,
            "_view_module": "@jupyter-widgets/controls",
            "_model_module_version": "1.5.0",
            "value": 4542,
            "_view_count": null,
            "_view_module_version": "1.5.0",
            "orientation": "horizontal",
            "min": 0,
            "description_tooltip": null,
            "_model_module": "@jupyter-widgets/controls",
            "layout": "IPY_MODEL_a78df2ce6d3a44d892d598c918313d9d"
          }
        },
        "4ffd473c8f384352a8054a4ea3634ecd": {
          "model_module": "@jupyter-widgets/controls",
          "model_name": "HTMLModel",
          "model_module_version": "1.5.0",
          "state": {
            "_view_name": "HTMLView",
            "style": "IPY_MODEL_8937314b9bd742c2a0d7b32f08017b61",
            "_dom_classes": [],
            "description": "",
            "_model_name": "HTMLModel",
            "placeholder": "​",
            "_view_module": "@jupyter-widgets/controls",
            "_model_module_version": "1.5.0",
            "value": " 5120/? [00:00&lt;00:00, 159392.83it/s]",
            "_view_count": null,
            "_view_module_version": "1.5.0",
            "description_tooltip": null,
            "_model_module": "@jupyter-widgets/controls",
            "layout": "IPY_MODEL_af6f8cfecf4e4a34a7505b9432945d75"
          }
        },
        "10aa0b467e1d4121b47963fa9e92ef04": {
          "model_module": "@jupyter-widgets/controls",
          "model_name": "DescriptionStyleModel",
          "model_module_version": "1.5.0",
          "state": {
            "_view_name": "StyleView",
            "_model_name": "DescriptionStyleModel",
            "description_width": "",
            "_view_module": "@jupyter-widgets/base",
            "_model_module_version": "1.5.0",
            "_view_count": null,
            "_view_module_version": "1.2.0",
            "_model_module": "@jupyter-widgets/controls"
          }
        },
        "2c12fecbbaa94b4a9a0b339c39225741": {
          "model_module": "@jupyter-widgets/base",
          "model_name": "LayoutModel",
          "model_module_version": "1.2.0",
          "state": {
            "_view_name": "LayoutView",
            "grid_template_rows": null,
            "right": null,
            "justify_content": null,
            "_view_module": "@jupyter-widgets/base",
            "overflow": null,
            "_model_module_version": "1.2.0",
            "_view_count": null,
            "flex_flow": null,
            "width": null,
            "min_width": null,
            "border": null,
            "align_items": null,
            "bottom": null,
            "_model_module": "@jupyter-widgets/base",
            "top": null,
            "grid_column": null,
            "overflow_y": null,
            "overflow_x": null,
            "grid_auto_flow": null,
            "grid_area": null,
            "grid_template_columns": null,
            "flex": null,
            "_model_name": "LayoutModel",
            "justify_items": null,
            "grid_row": null,
            "max_height": null,
            "align_content": null,
            "visibility": null,
            "align_self": null,
            "height": null,
            "min_height": null,
            "padding": null,
            "grid_auto_rows": null,
            "grid_gap": null,
            "max_width": null,
            "order": null,
            "_view_module_version": "1.2.0",
            "grid_template_areas": null,
            "object_position": null,
            "object_fit": null,
            "grid_auto_columns": null,
            "margin": null,
            "display": null,
            "left": null
          }
        },
        "f9f7769d22634659a8549e6b8c0b9da0": {
          "model_module": "@jupyter-widgets/controls",
          "model_name": "ProgressStyleModel",
          "model_module_version": "1.5.0",
          "state": {
            "_view_name": "StyleView",
            "_model_name": "ProgressStyleModel",
            "description_width": "",
            "_view_module": "@jupyter-widgets/base",
            "_model_module_version": "1.5.0",
            "_view_count": null,
            "_view_module_version": "1.2.0",
            "bar_color": null,
            "_model_module": "@jupyter-widgets/controls"
          }
        },
        "a78df2ce6d3a44d892d598c918313d9d": {
          "model_module": "@jupyter-widgets/base",
          "model_name": "LayoutModel",
          "model_module_version": "1.2.0",
          "state": {
            "_view_name": "LayoutView",
            "grid_template_rows": null,
            "right": null,
            "justify_content": null,
            "_view_module": "@jupyter-widgets/base",
            "overflow": null,
            "_model_module_version": "1.2.0",
            "_view_count": null,
            "flex_flow": null,
            "width": null,
            "min_width": null,
            "border": null,
            "align_items": null,
            "bottom": null,
            "_model_module": "@jupyter-widgets/base",
            "top": null,
            "grid_column": null,
            "overflow_y": null,
            "overflow_x": null,
            "grid_auto_flow": null,
            "grid_area": null,
            "grid_template_columns": null,
            "flex": null,
            "_model_name": "LayoutModel",
            "justify_items": null,
            "grid_row": null,
            "max_height": null,
            "align_content": null,
            "visibility": null,
            "align_self": null,
            "height": null,
            "min_height": null,
            "padding": null,
            "grid_auto_rows": null,
            "grid_gap": null,
            "max_width": null,
            "order": null,
            "_view_module_version": "1.2.0",
            "grid_template_areas": null,
            "object_position": null,
            "object_fit": null,
            "grid_auto_columns": null,
            "margin": null,
            "display": null,
            "left": null
          }
        },
        "8937314b9bd742c2a0d7b32f08017b61": {
          "model_module": "@jupyter-widgets/controls",
          "model_name": "DescriptionStyleModel",
          "model_module_version": "1.5.0",
          "state": {
            "_view_name": "StyleView",
            "_model_name": "DescriptionStyleModel",
            "description_width": "",
            "_view_module": "@jupyter-widgets/base",
            "_model_module_version": "1.5.0",
            "_view_count": null,
            "_view_module_version": "1.2.0",
            "_model_module": "@jupyter-widgets/controls"
          }
        },
        "af6f8cfecf4e4a34a7505b9432945d75": {
          "model_module": "@jupyter-widgets/base",
          "model_name": "LayoutModel",
          "model_module_version": "1.2.0",
          "state": {
            "_view_name": "LayoutView",
            "grid_template_rows": null,
            "right": null,
            "justify_content": null,
            "_view_module": "@jupyter-widgets/base",
            "overflow": null,
            "_model_module_version": "1.2.0",
            "_view_count": null,
            "flex_flow": null,
            "width": null,
            "min_width": null,
            "border": null,
            "align_items": null,
            "bottom": null,
            "_model_module": "@jupyter-widgets/base",
            "top": null,
            "grid_column": null,
            "overflow_y": null,
            "overflow_x": null,
            "grid_auto_flow": null,
            "grid_area": null,
            "grid_template_columns": null,
            "flex": null,
            "_model_name": "LayoutModel",
            "justify_items": null,
            "grid_row": null,
            "max_height": null,
            "align_content": null,
            "visibility": null,
            "align_self": null,
            "height": null,
            "min_height": null,
            "padding": null,
            "grid_auto_rows": null,
            "grid_gap": null,
            "max_width": null,
            "order": null,
            "_view_module_version": "1.2.0",
            "grid_template_areas": null,
            "object_position": null,
            "object_fit": null,
            "grid_auto_columns": null,
            "margin": null,
            "display": null,
            "left": null
          }
        }
      }
    }
  },
  "cells": [
    {
      "cell_type": "markdown",
      "metadata": {
        "id": "view-in-github",
        "colab_type": "text"
      },
      "source": [
        "<a href=\"https://colab.research.google.com/github/flight505/Applied_AI_IT_Uni/blob/main/Copy_of_Project_Deep_Generative_Models.ipynb\" target=\"_parent\"><img src=\"https://colab.research.google.com/assets/colab-badge.svg\" alt=\"Open In Colab\"/></a>"
      ]
    },
    {
      "cell_type": "markdown",
      "metadata": {
        "id": "J4ByqXCF1mG3"
      },
      "source": [
        "# Project - Deep Generative Models"
      ]
    },
    {
      "cell_type": "markdown",
      "metadata": {
        "id": "eaCZ1OO-2gdR"
      },
      "source": [
        "In this project we will explore three main things:\n",
        "1. The relationship between linear autoencoders and PCA.\n",
        "2. Training Generative Adversarial Networks.\n",
        "3. Using already-trained GANs.\n",
        "\n",
        "\n",
        "**Remember to activate GPUs in Colab**."
      ]
    },
    {
      "cell_type": "markdown",
      "metadata": {
        "id": "JDISU76i36WQ"
      },
      "source": [
        "## Implementing Autoencoders"
      ]
    },
    {
      "cell_type": "markdown",
      "metadata": {
        "id": "QBjY0bI73-r4"
      },
      "source": [
        "In these exercises we will implement autoencoders in PyTorch."
      ]
    },
    {
      "cell_type": "code",
      "metadata": {
        "id": "FO5daODxmNOM"
      },
      "source": [
        "import warnings; \n",
        "warnings.simplefilter('ignore')"
      ],
      "execution_count": null,
      "outputs": []
    },
    {
      "cell_type": "code",
      "metadata": {
        "colab": {
          "base_uri": "https://localhost:8080/",
          "height": 437,
          "referenced_widgets": [
            "08516dc74ecf48f89b277013f84167ed",
            "c39adcc8fb9f4bd8b4e9aeea509e3f1a",
            "dbed799d860d490ab73f760ddc62c888",
            "4bc0bbbd45c84ca087206be877f9e5e9",
            "8f14a4fd36f04b8290b3f3ab869e9aa2",
            "3430fb3547b24b2f8c4bff34cafe435f",
            "6457f335adf24e00a5f151ae597b6bcf",
            "a4793157456d4fcc81c17638fbafa377",
            "8a30cd01c04b4ea4b395c007318ec06d",
            "91898c825cc145dd8d1d65f0bfe8893b",
            "34ffcc5789a44b67b3ae3d15bf03fa9f",
            "07b37fdb865a45fbb519245372d1cc78",
            "113c27beca304f1ba55fba72c80cb61e",
            "f81396cc220c4316a52d234ef8b2d650",
            "25ce1fa93ba4491697a5870c43d9978a",
            "7a710bd29d4e49929135bb258541c120",
            "c4865cb36b10425099c1acd7421a233d",
            "4c9501144d2d48a8b1125fefd43624ed",
            "d646a01b4c9b4d7fa33c6370f8533c2a",
            "28b8af58f26c45d88ec0b8ba78a4d554",
            "bb34409deb46414082a24c2d040f12b7",
            "12ab97f9834a40218b1486c6c4f67d63",
            "8e6057bb21634755b46fc4d5a1a1c7ea",
            "b6b93dcb8bf54ceb96c961d6ead00f73",
            "2f2a3f54ac0b42d787d886fa3d88aaea",
            "fb9c50697f4d4577b5b39cbadfbc189b",
            "ace727eda6624be4929c1ae5b317a405",
            "31b968fc8aff4ce98532af7df3a3f5dd",
            "87c16d07207543d58c8356fffd5eb792",
            "74d8562277114c6c8cc52212f080b6b5",
            "714ab231da7e49329250e62ccd0e1ec7",
            "1492e025db1b44e187862cc4434c6451",
            "b86cf84b5b794d0180e24d9e0de489e8",
            "861df96cfaac4df882f0892d2fe14ae4",
            "12d3b8f2529a421f83bce42811b2af16",
            "a9176093c236446082a76f8d71d6ead1",
            "a2d8c87989c244beafb6f19b5ba476aa",
            "4ffd473c8f384352a8054a4ea3634ecd",
            "10aa0b467e1d4121b47963fa9e92ef04",
            "2c12fecbbaa94b4a9a0b339c39225741",
            "f9f7769d22634659a8549e6b8c0b9da0",
            "a78df2ce6d3a44d892d598c918313d9d",
            "8937314b9bd742c2a0d7b32f08017b61",
            "af6f8cfecf4e4a34a7505b9432945d75"
          ]
        },
        "id": "d3dXXyv44igt",
        "outputId": "b91c93cd-93a0-4113-9ccc-ceced47f8c29"
      },
      "source": [
        "#!/usr/bin/env python3\n",
        " \n",
        "##########################################################\n",
        "# Copyright (c) Jesper Vang <jesper_vang@me.com>         #\n",
        "# Created on 5 Aug 2021                                  #\n",
        "# Version:\t0.0.1                                        #\n",
        "#         \t\t\t\t\t\t                         #\n",
        "##########################################################\n",
        "\n",
        "\n",
        "import torch\n",
        "import torch.nn as nn\n",
        "from torch.utils.data import TensorDataset, DataLoader\n",
        "from torchvision.datasets import MNIST\n",
        "import numpy as np\n",
        "import matplotlib.pyplot as plt\n",
        "\n",
        "mnist = MNIST('../data', train=True, download=True)"
      ],
      "execution_count": null,
      "outputs": [
        {
          "output_type": "stream",
          "text": [
            "Downloading http://yann.lecun.com/exdb/mnist/train-images-idx3-ubyte.gz\n",
            "Downloading http://yann.lecun.com/exdb/mnist/train-images-idx3-ubyte.gz to ../data/MNIST/raw/train-images-idx3-ubyte.gz\n"
          ],
          "name": "stdout"
        },
        {
          "output_type": "display_data",
          "data": {
            "application/vnd.jupyter.widget-view+json": {
              "model_id": "08516dc74ecf48f89b277013f84167ed",
              "version_minor": 0,
              "version_major": 2
            },
            "text/plain": [
              "  0%|          | 0/9912422 [00:00<?, ?it/s]"
            ]
          },
          "metadata": {}
        },
        {
          "output_type": "stream",
          "text": [
            "Extracting ../data/MNIST/raw/train-images-idx3-ubyte.gz to ../data/MNIST/raw\n",
            "\n",
            "Downloading http://yann.lecun.com/exdb/mnist/train-labels-idx1-ubyte.gz\n",
            "Downloading http://yann.lecun.com/exdb/mnist/train-labels-idx1-ubyte.gz to ../data/MNIST/raw/train-labels-idx1-ubyte.gz\n"
          ],
          "name": "stdout"
        },
        {
          "output_type": "display_data",
          "data": {
            "application/vnd.jupyter.widget-view+json": {
              "model_id": "07b37fdb865a45fbb519245372d1cc78",
              "version_minor": 0,
              "version_major": 2
            },
            "text/plain": [
              "  0%|          | 0/28881 [00:00<?, ?it/s]"
            ]
          },
          "metadata": {}
        },
        {
          "output_type": "stream",
          "text": [
            "Extracting ../data/MNIST/raw/train-labels-idx1-ubyte.gz to ../data/MNIST/raw\n",
            "\n",
            "Downloading http://yann.lecun.com/exdb/mnist/t10k-images-idx3-ubyte.gz\n",
            "Downloading http://yann.lecun.com/exdb/mnist/t10k-images-idx3-ubyte.gz to ../data/MNIST/raw/t10k-images-idx3-ubyte.gz\n"
          ],
          "name": "stdout"
        },
        {
          "output_type": "display_data",
          "data": {
            "application/vnd.jupyter.widget-view+json": {
              "model_id": "8e6057bb21634755b46fc4d5a1a1c7ea",
              "version_minor": 0,
              "version_major": 2
            },
            "text/plain": [
              "  0%|          | 0/1648877 [00:00<?, ?it/s]"
            ]
          },
          "metadata": {}
        },
        {
          "output_type": "stream",
          "text": [
            "Extracting ../data/MNIST/raw/t10k-images-idx3-ubyte.gz to ../data/MNIST/raw\n",
            "\n",
            "Downloading http://yann.lecun.com/exdb/mnist/t10k-labels-idx1-ubyte.gz\n",
            "Downloading http://yann.lecun.com/exdb/mnist/t10k-labels-idx1-ubyte.gz to ../data/MNIST/raw/t10k-labels-idx1-ubyte.gz\n"
          ],
          "name": "stdout"
        },
        {
          "output_type": "display_data",
          "data": {
            "application/vnd.jupyter.widget-view+json": {
              "model_id": "861df96cfaac4df882f0892d2fe14ae4",
              "version_minor": 0,
              "version_major": 2
            },
            "text/plain": [
              "  0%|          | 0/4542 [00:00<?, ?it/s]"
            ]
          },
          "metadata": {}
        },
        {
          "output_type": "stream",
          "text": [
            "Extracting ../data/MNIST/raw/t10k-labels-idx1-ubyte.gz to ../data/MNIST/raw\n",
            "\n"
          ],
          "name": "stdout"
        }
      ]
    },
    {
      "cell_type": "markdown",
      "metadata": {
        "id": "fhf7MWwf6Lx1"
      },
      "source": [
        "### Exercise 1"
      ]
    },
    {
      "cell_type": "markdown",
      "metadata": {
        "id": "EUiYc1Dm6OJ6"
      },
      "source": [
        "Below you will find a boilerplate code for a Linear Autoencoder. We will use it on MNIST data, and compare with the result of reducing the dimensionality using PCA.\n",
        "\n",
        "1. Fill the `self.encoder` and `self.decoder` to be linear layers from `28*28` to `2` and from `2` to `28*28` respectively. Implement the decoder to have a `sigmoid` activation function.\n",
        "2. Define a `forward` function that represents the forward pass of the network: encode the input `x`, and then decode it to get `x_tilde`.\n",
        "3. Why did we go for a `sigmoid` activation in the decoder?\n",
        "\n",
        "The sigmoid function will make the output in the range between 0-1."
      ]
    },
    {
      "cell_type": "code",
      "metadata": {
        "id": "VeyBXMrO4mxS"
      },
      "source": [
        "class LinearAutoEncoder(nn.Module):\n",
        "  def __init__(self):\n",
        "    super(LinearAutoEncoder, self).__init__()\n",
        "    self.encoder = nn.Sequential(nn.Linear(28 * 28, 2))\n",
        "    self.decoder = nn.Sequential(\n",
        "            nn.Linear(2, 28*28),\n",
        "            nn.Sigmoid())\n",
        "\n",
        "  def encode(self, x: torch.Tensor) -> torch.Tensor:\n",
        "    return self.encoder(x)\n",
        "  \n",
        "  def decode(self, z: torch.Tensor) -> torch.Tensor:\n",
        "    return self.decoder(z)\n",
        "  \n",
        "  def forward(self, x: torch.Tensor) -> torch.Tensor:\n",
        "    x_tilde = self.decoder(self.encoder(x))\n",
        "    return x_tilde"
      ],
      "execution_count": null,
      "outputs": []
    },
    {
      "cell_type": "code",
      "metadata": {
        "colab": {
          "base_uri": "https://localhost:8080/"
        },
        "id": "snAI4UIs586M",
        "outputId": "dcfe2b8e-6093-4d1d-9198-7aa4b921e7dc"
      },
      "source": [
        "lae = LinearAutoEncoder()\n",
        "print(lae)"
      ],
      "execution_count": null,
      "outputs": [
        {
          "output_type": "stream",
          "text": [
            "LinearAutoEncoder(\n",
            "  (encoder): Sequential(\n",
            "    (0): Linear(in_features=784, out_features=2, bias=True)\n",
            "  )\n",
            "  (decoder): Sequential(\n",
            "    (0): Linear(in_features=2, out_features=784, bias=True)\n",
            "    (1): Sigmoid()\n",
            "  )\n",
            ")\n"
          ],
          "name": "stdout"
        }
      ]
    },
    {
      "cell_type": "markdown",
      "metadata": {
        "id": "ZBiMU7Eo6AAs"
      },
      "source": [
        "### Exercise 2"
      ]
    },
    {
      "cell_type": "markdown",
      "metadata": {
        "id": "90GkV05Y7U9u"
      },
      "source": [
        "Let's preprocess the `mnist.data`.\n",
        "1. Call it `x`.\n",
        "2. Normalize by dividing `x` by `255.0`.\n",
        "3. How many digits are in `x`?\n",
        "4. Reshape x to be `(x.shape[0], 28*28)`"
      ]
    },
    {
      "cell_type": "code",
      "metadata": {
        "colab": {
          "base_uri": "https://localhost:8080/"
        },
        "id": "H8N1qDcK76kF",
        "outputId": "82bade17-3b26-470a-997d-0db9eaefbad8"
      },
      "source": [
        "# 1\n",
        "x = mnist\n",
        "\n",
        "# 2\n",
        "x = x.train_data.float() /255.\n",
        "\n",
        "# 3\n",
        "print(x.shape)\n",
        "\n",
        "#4  \n",
        "x = x.reshape(x.shape[0], 28*28)\n"
      ],
      "execution_count": null,
      "outputs": [
        {
          "output_type": "stream",
          "text": [
            "torch.Size([60000, 28, 28])\n"
          ],
          "name": "stdout"
        }
      ]
    },
    {
      "cell_type": "code",
      "metadata": {
        "colab": {
          "base_uri": "https://localhost:8080/"
        },
        "id": "wJyp0Nn3_ylQ",
        "outputId": "6db63964-3c85-4595-f961-22c3efd7224f"
      },
      "source": [
        "print(x.shape)"
      ],
      "execution_count": null,
      "outputs": [
        {
          "output_type": "stream",
          "text": [
            "torch.Size([60000, 784])\n"
          ],
          "name": "stdout"
        }
      ]
    },
    {
      "cell_type": "markdown",
      "metadata": {
        "id": "3fNhJPey9L76"
      },
      "source": [
        "### Exercise 3"
      ]
    },
    {
      "cell_type": "markdown",
      "metadata": {
        "id": "1FNbKYPT9gI7"
      },
      "source": [
        "Plot the first 3 digits using `plt.subplots`. Remember to use `.detach().numpy()` if you want to plot images using `matplotlib`."
      ]
    },
    {
      "cell_type": "code",
      "metadata": {
        "colab": {
          "base_uri": "https://localhost:8080/",
          "height": 124
        },
        "id": "kZ1dFFZF9sQc",
        "outputId": "e129c5cb-2572-48cc-d8a1-a7c2f33d621b"
      },
      "source": [
        "# random check with nine training examples\n",
        "np.random.seed(0);\n",
        "indices = list(np.random.randint(x.shape[0],size=9)) # randomly selecting 9 examples\n",
        "for i in range(3):\n",
        "    plt.subplot(1,3,i+1)\n",
        "    plt.imshow(x[indices[i]].reshape(28,28), interpolation='none')\n",
        "    plt.title(\"Index {} Class {}\".format(indices[i],[indices[i]]))\n",
        "    plt.tight_layout()"
      ],
      "execution_count": null,
      "outputs": [
        {
          "output_type": "display_data",
          "data": {
            "image/png": "[encoded data removed]",
            "text/plain": [
              "<Figure size 432x288 with 3 Axes>"
            ]
          },
          "metadata": {
            "needs_background": "light"
          }
        }
      ]
    },
    {
      "cell_type": "markdown",
      "metadata": {
        "id": "PlHdtR2Q-CU2"
      },
      "source": [
        "### Exercise 4"
      ]
    },
    {
      "cell_type": "markdown",
      "metadata": {
        "id": "HKI6fFnv-vQv"
      },
      "source": [
        "Let's define the loss function for the training. In this case, use the **sum-of-squares reconstruction error**. Assume the inputs `x` and `x_prime` are flat vectors. (Hint. Check `MSELoss`)"
      ]
    },
    {
      "cell_type": "code",
      "metadata": {
        "id": "XCR0yhhQ_C_U"
      },
      "source": [
        "loss_f = nn.MSELoss()\n",
        "def loss_function(x, x_prime) -> torch.Tensor:\n",
        "  loss = loss_f(x, x_prime)\n",
        "  return loss"
      ],
      "execution_count": null,
      "outputs": []
    },
    {
      "cell_type": "markdown",
      "metadata": {
        "id": "Wrqt_QY__78B"
      },
      "source": [
        "### Exercise 5"
      ]
    },
    {
      "cell_type": "markdown",
      "metadata": {
        "id": "bnpMFPA5_9FK"
      },
      "source": [
        "Now we train:\n",
        "1. Define your favorite optimizer, with your favorite learning rate.\n",
        "2. Below you will find a boilerplate function for the `train` function. Fill in the blanks. We will overfit the model, since the goal here is to practice with AEs, not to get perfect reconstructions.\n",
        "3. Run the `train` function on the `lae` model with the `data_loader` we defined, and 50 epochs."
      ]
    },
    {
      "cell_type": "code",
      "metadata": {
        "id": "O11dZSy0Blnc"
      },
      "source": [
        "# Defining the things we will need.\n",
        "dataset = TensorDataset(x)\n",
        "data_loader = DataLoader(dataset, batch_size=64, shuffle=True)\n",
        "device = torch.device(\"cuda\" if torch.cuda.is_available() else \"cpu\")\n",
        "lae = LinearAutoEncoder().to(device)"
      ],
      "execution_count": null,
      "outputs": []
    },
    {
      "cell_type": "code",
      "metadata": {
        "id": "E-DrXd_DAU5s"
      },
      "source": [
        "lr = 0.01\n",
        "optimizer = torch.optim.Adam(lae.parameters(), lr=lr)"
      ],
      "execution_count": null,
      "outputs": []
    },
    {
      "cell_type": "code",
      "metadata": {
        "id": "FqQpl08NAam-"
      },
      "source": [
        "def train(model: LinearAutoEncoder, data_loader: DataLoader, optimizer: torch.optim.Optimizer, epochs: int):\n",
        "  model.train()\n",
        "  for epoch in range(epochs):\n",
        "    if epoch % 10 == 0 or epoch == epochs - 1:\n",
        "      print(f\"Epoch: {epoch}\", end=\" \")\n",
        "\n",
        "    running_epoch_loss = 0.0\n",
        "    for batch in data_loader:\n",
        "      x_batch = batch[0].to(device)\n",
        "\n",
        "      # Reset the gradients to zero in the optimizer\n",
        "      optimizer.zero_grad()\n",
        "\n",
        "      # Do a forward pass of this batch on the model\n",
        "      x_prime = model(x_batch)\n",
        "\n",
        "      # Compute the loss\n",
        "      loss = loss_function(x_batch, x_prime)\n",
        "      running_epoch_loss += loss.item()\n",
        "\n",
        "      # Propagate the loss backwards\n",
        "      loss.backward()\n",
        "\n",
        "      # Do a step in the optimizer\n",
        "      optimizer.step()\n",
        "\n",
        "    if epoch % 10 == 0 or epoch == epochs - 1:    \n",
        "      print(f\"loss: {running_epoch_loss / len(dataset)}\")"
      ],
      "execution_count": null,
      "outputs": []
    },
    {
      "cell_type": "code",
      "metadata": {
        "colab": {
          "base_uri": "https://localhost:8080/"
        },
        "id": "hlanUIZbDPms",
        "outputId": "15a851f8-7d1a-4c3b-9f47-2d4bf4eb330c"
      },
      "source": [
        "n_epochs = 50\n",
        "\n",
        "train(lae, data_loader=data_loader, optimizer=optimizer, epochs=n_epochs)"
      ],
      "execution_count": null,
      "outputs": [
        {
          "output_type": "stream",
          "text": [
            "Epoch: 0 loss: 0.0010478441113606096\n",
            "Epoch: 10 loss: 0.0008699884845564762\n",
            "Epoch: 20 loss: 0.0008660886048028867\n",
            "Epoch: 30 loss: 0.0008657647001867493\n",
            "Epoch: 40 loss: 0.00086564158834517\n",
            "Epoch: 49 loss: 0.0008658827204878132\n"
          ],
          "name": "stdout"
        }
      ]
    },
    {
      "cell_type": "markdown",
      "metadata": {
        "id": "EGVudlJ2Dfij"
      },
      "source": [
        "### Exercise 6"
      ]
    },
    {
      "cell_type": "markdown",
      "metadata": {
        "id": "TiVUjcgMFog7"
      },
      "source": [
        "Let's print a number and it's reconstruction according to the AE:\n",
        "1. Make a 2-figure subplot.\n",
        "2. In one axis, plot the first digit `x[0].view(28, 28)`\n",
        "3. In another, plot the reconstruction `lae(x[0]).view(28, 28)`.\n",
        "\n",
        "**Warning**. You might need to use `.to(device)` when running on GPU, and `.cpu()` for plotting."
      ]
    },
    {
      "cell_type": "code",
      "metadata": {
        "colab": {
          "base_uri": "https://localhost:8080/",
          "height": 218
        },
        "id": "aCropa8jF4y-",
        "outputId": "6f7153dc-eeaa-4ac7-dd67-c6179b521a10"
      },
      "source": [
        "f, axarr = plt.subplots(1,2)\n",
        "axarr[0].imshow(x[0].view(28, 28))\n",
        "axarr[1].imshow(lae(x[0].to(device)).view(28,28).tolist())"
      ],
      "execution_count": null,
      "outputs": [
        {
          "output_type": "execute_result",
          "data": {
            "text/plain": [
              "<matplotlib.image.AxesImage at 0x7f7fb4a0c390>"
            ]
          },
          "metadata": {},
          "execution_count": 13
        },
        {
          "output_type": "display_data",
          "data": {
            "image/png": "[encoded data removed]",
            "text/plain": [
              "<Figure size 432x288 with 2 Axes>"
            ]
          },
          "metadata": {
            "needs_background": "light"
          }
        }
      ]
    },
    {
      "cell_type": "code",
      "metadata": {
        "colab": {
          "base_uri": "https://localhost:8080/",
          "height": 218
        },
        "id": "PTZxPFSbvnR9",
        "outputId": "9295b758-e400-4bdb-cd7d-380f08df078c"
      },
      "source": [
        "_, (ax1,ax2) = plt.subplots(1,2,sharey=True)\n",
        "ax1.imshow(x[2].view(28,28))\n",
        "ax2.imshow((lae(x[2].to(device)).view(28,28)).tolist())"
      ],
      "execution_count": null,
      "outputs": [
        {
          "output_type": "execute_result",
          "data": {
            "text/plain": [
              "<matplotlib.image.AxesImage at 0x7f7fb260c550>"
            ]
          },
          "metadata": {},
          "execution_count": 14
        },
        {
          "output_type": "display_data",
          "data": {
            "image/png": "[encoded data removed]",
            "text/plain": [
              "<Figure size 432x288 with 2 Axes>"
            ]
          },
          "metadata": {
            "needs_background": "light"
          }
        }
      ]
    },
    {
      "cell_type": "markdown",
      "metadata": {
        "id": "rFLSxZMk3kZI"
      },
      "source": [
        "## A better Autoencoder"
      ]
    },
    {
      "cell_type": "markdown",
      "metadata": {
        "id": "-R4bynIj4QlZ"
      },
      "source": [
        "As you might have seen, the reconstructions of a linear autoencoder on MNIST are not great. In these three exercises we use the code we have already implemented to train a deeper non-linear autoencoder."
      ]
    },
    {
      "cell_type": "markdown",
      "metadata": {
        "id": "nR_AGE2G4bYJ"
      },
      "source": [
        "### Exercise 7"
      ]
    },
    {
      "cell_type": "markdown",
      "metadata": {
        "id": "8fH5JOmw4eDL"
      },
      "source": [
        "In the following you will find an implementation for an autoencoder with one hidden layer in each the encoder and decoder. Fill in the blanks. We leave it up to you to select the number for the amount of nodes in the hidden layers. Remember to add a sigmoid activation to the decoder (why?)."
      ]
    },
    {
      "cell_type": "code",
      "metadata": {
        "id": "D9OM9Eaa47qO"
      },
      "source": [
        "class AutoEncoder(nn.Module):\n",
        "  def __init__(self):\n",
        "    super(AutoEncoder, self).__init__()\n",
        "    n_hidden = 256\n",
        "    self.encoder = nn.Sequential(\n",
        "      nn.Linear(28 * 28, n_hidden),\n",
        "      nn.ReLU(),\n",
        "      nn.Linear(n_hidden, 2)\n",
        "    ) \n",
        "\n",
        "    self.decoder = nn.Sequential(\n",
        "      nn.Linear(2, n_hidden),\n",
        "      nn.ReLU(),\n",
        "      nn.Linear(n_hidden, 28*28),\n",
        "      nn.Sigmoid()\n",
        "    ) \n",
        "\n",
        "  def encode(self, x: torch.Tensor) -> torch.Tensor:\n",
        "    return self.encoder(x)\n",
        "  \n",
        "  def decode(self, z: torch.Tensor) -> torch.Tensor:\n",
        "    return self.decoder(z)\n",
        "  \n",
        "  def forward(self, x: torch.Tensor) -> torch.Tensor:\n",
        "    x_tilde = self.decoder(self.encoder(x))\n",
        "    return x_tilde"
      ],
      "execution_count": null,
      "outputs": []
    },
    {
      "cell_type": "code",
      "metadata": {
        "colab": {
          "base_uri": "https://localhost:8080/"
        },
        "id": "1ZYVNU-4l99P",
        "outputId": "231ce83c-ec97-4e46-a0d2-78faf9ba02d5"
      },
      "source": [
        "ae = AutoEncoder().to(device)\n",
        "\n",
        "\n",
        "print(ae)"
      ],
      "execution_count": null,
      "outputs": [
        {
          "output_type": "stream",
          "text": [
            "AutoEncoder(\n",
            "  (encoder): Sequential(\n",
            "    (0): Linear(in_features=784, out_features=256, bias=True)\n",
            "    (1): ReLU()\n",
            "    (2): Linear(in_features=256, out_features=2, bias=True)\n",
            "  )\n",
            "  (decoder): Sequential(\n",
            "    (0): Linear(in_features=2, out_features=256, bias=True)\n",
            "    (1): ReLU()\n",
            "    (2): Linear(in_features=256, out_features=784, bias=True)\n",
            "    (3): Sigmoid()\n",
            "  )\n",
            ")\n"
          ],
          "name": "stdout"
        }
      ]
    },
    {
      "cell_type": "markdown",
      "metadata": {
        "id": "QF8SiYEr5jJL"
      },
      "source": [
        "### Exercise 8"
      ]
    },
    {
      "cell_type": "markdown",
      "metadata": {
        "id": "cRfEFJyU5rm2"
      },
      "source": [
        "1. Create an optimizer of the parameters of your autoencoder `ae`.\n",
        "2. Use the `train` function we defined above to train your autoencoder `ae`. Train for 50 epochs."
      ]
    },
    {
      "cell_type": "code",
      "metadata": {
        "id": "JMY5lTxS6MIC"
      },
      "source": [
        "# Defining the things we will need.\n",
        "dataset = TensorDataset(x)\n",
        "data_loader = DataLoader(dataset, batch_size=64, shuffle=True)\n",
        "device = torch.device(\"cuda\" if torch.cuda.is_available() else \"cpu\")\n",
        "lae = LinearAutoEncoder().to(device)\n",
        "\n",
        "ae_optimizer = torch.optim.Adam(ae.parameters(), lr=lr)"
      ],
      "execution_count": null,
      "outputs": []
    },
    {
      "cell_type": "code",
      "metadata": {
        "colab": {
          "base_uri": "https://localhost:8080/"
        },
        "id": "EfX9eNuC6R0K",
        "outputId": "9af9a994-e3fe-4632-90e8-8ad61a6e7998"
      },
      "source": [
        "train(ae, data_loader=data_loader, optimizer=ae_optimizer, epochs=n_epochs)"
      ],
      "execution_count": null,
      "outputs": [
        {
          "output_type": "stream",
          "text": [
            "Epoch: 0 loss: 0.0007834012499079109\n",
            "Epoch: 10 loss: 0.0006600176920493444\n",
            "Epoch: 20 loss: 0.000652749134786427\n",
            "Epoch: 30 loss: 0.0006507306185240546\n",
            "Epoch: 40 loss: 0.0006468630789468686\n",
            "Epoch: 49 loss: 0.0006553745129456122\n"
          ],
          "name": "stdout"
        }
      ]
    },
    {
      "cell_type": "markdown",
      "metadata": {
        "id": "25g2BM7Q6Vhw"
      },
      "source": [
        "### Exercise 9"
      ]
    },
    {
      "cell_type": "markdown",
      "metadata": {
        "id": "WmeHsrb56glQ"
      },
      "source": [
        "Print the reconstruction of the first digit in a similar way as in exercise 6."
      ]
    },
    {
      "cell_type": "code",
      "metadata": {
        "colab": {
          "base_uri": "https://localhost:8080/",
          "height": 218
        },
        "id": "60Rlk2WH6msC",
        "outputId": "bde1438b-5587-4acd-e4bb-91b777cc2479"
      },
      "source": [
        "f, axarr = plt.subplots(1,2)\n",
        "axarr[0].imshow(x[0].view(28, 28))\n",
        "axarr[1].imshow(ae(x[0].to(device)).view(28,28).tolist())"
      ],
      "execution_count": null,
      "outputs": [
        {
          "output_type": "execute_result",
          "data": {
            "text/plain": [
              "<matplotlib.image.AxesImage at 0x7f7fb25b1510>"
            ]
          },
          "metadata": {},
          "execution_count": 19
        },
        {
          "output_type": "display_data",
          "data": {
            "image/png": "[encoded data removed]",
            "text/plain": [
              "<Figure size 432x288 with 2 Axes>"
            ]
          },
          "metadata": {
            "needs_background": "light"
          }
        }
      ]
    },
    {
      "cell_type": "markdown",
      "metadata": {
        "id": "bBkHEPLw6pN0"
      },
      "source": [
        "Slightly better, but still not great."
      ]
    },
    {
      "cell_type": "markdown",
      "metadata": {
        "id": "FVOd4c-W6vLd"
      },
      "source": [
        "## Implementing a Generative Adversarial Network"
      ]
    },
    {
      "cell_type": "markdown",
      "metadata": {
        "id": "XpekD8Uh6x1S"
      },
      "source": [
        "In the following examples we will implement a Generative Adversarial Network to sample from the MNIST distribution."
      ]
    },
    {
      "cell_type": "markdown",
      "metadata": {
        "id": "jTGYZ969-Qk0"
      },
      "source": [
        "### Exercise 10"
      ]
    },
    {
      "cell_type": "markdown",
      "metadata": {
        "id": "xiTY0q_k-WtL"
      },
      "source": [
        "1. If we want the discriminator to \"classify\" between real and fake, what would be an appropiate activation function?\n",
        "2. In what follows we will create the two antagonist networks that compete in the minimax game we described in the slides. Fill in the blanks and keep into account the answer to 10.1."
      ]
    },
    {
      "cell_type": "code",
      "metadata": {
        "id": "G0bQUyc6-0eu"
      },
      "source": [
        "class GAN_Discriminator(nn.Module):\n",
        "  def __init__(self):\n",
        "    super(GAN_Discriminator, self).__init__()\n",
        "\n",
        "    n_hidden = 256\n",
        "    self.input_layer = nn.Sequential(\n",
        "        nn.Linear(28*28, n_hidden),\n",
        "        nn.ReLU()\n",
        "    )\n",
        "    self.output_layer = nn.Sequential(\n",
        "        nn.Linear(n_hidden, 1),\n",
        "        nn.Sigmoid()\n",
        "    )\n",
        "  \n",
        "  def forward(self, x: torch.Tensor) -> torch.Tensor:\n",
        "    return self.output_layer(self.input_layer(x))"
      ],
      "execution_count": null,
      "outputs": []
    },
    {
      "cell_type": "code",
      "metadata": {
        "colab": {
          "base_uri": "https://localhost:8080/"
        },
        "id": "HFa9J8BSB1rO",
        "outputId": "79f471b3-38ee-487a-e0c2-8852e2e8c8c3"
      },
      "source": [
        "D = GAN_Discriminator()\n",
        "D"
      ],
      "execution_count": null,
      "outputs": [
        {
          "output_type": "execute_result",
          "data": {
            "text/plain": [
              "GAN_Discriminator(\n",
              "  (input_layer): Sequential(\n",
              "    (0): Linear(in_features=784, out_features=256, bias=True)\n",
              "    (1): ReLU()\n",
              "  )\n",
              "  (output_layer): Sequential(\n",
              "    (0): Linear(in_features=256, out_features=1, bias=True)\n",
              "    (1): Sigmoid()\n",
              "  )\n",
              ")"
            ]
          },
          "metadata": {},
          "execution_count": 21
        }
      ]
    },
    {
      "cell_type": "code",
      "metadata": {
        "id": "TrAzCfyC_nOM"
      },
      "source": [
        "class GAN_Generator(nn.Module):\n",
        "  def __init__(self):\n",
        "    super(GAN_Generator, self).__init__()\n",
        "\n",
        "    n_hidden = 256\n",
        "    self.input_layer = nn.Sequential(\n",
        "        nn.Linear(2, n_hidden),\n",
        "        nn.ReLU()\n",
        "    )\n",
        "    self.output_layer = nn.Sequential(\n",
        "        nn.Linear(n_hidden, 28*28),\n",
        "        nn.Sigmoid()\n",
        "    )\n",
        "\n",
        "  def forward(self, z: torch.Tensor) -> torch.Tensor:\n",
        "    return self.output_layer(self.input_layer(z))"
      ],
      "execution_count": null,
      "outputs": []
    },
    {
      "cell_type": "code",
      "metadata": {
        "colab": {
          "base_uri": "https://localhost:8080/"
        },
        "id": "gx8JiGktBxVu",
        "outputId": "28cf921e-733e-416c-889b-788741587be5"
      },
      "source": [
        "G = GAN_Generator()\n",
        "G"
      ],
      "execution_count": null,
      "outputs": [
        {
          "output_type": "execute_result",
          "data": {
            "text/plain": [
              "GAN_Generator(\n",
              "  (input_layer): Sequential(\n",
              "    (0): Linear(in_features=2, out_features=256, bias=True)\n",
              "    (1): ReLU()\n",
              "  )\n",
              "  (output_layer): Sequential(\n",
              "    (0): Linear(in_features=256, out_features=784, bias=True)\n",
              "    (1): Sigmoid()\n",
              "  )\n",
              ")"
            ]
          },
          "metadata": {},
          "execution_count": 23
        }
      ]
    },
    {
      "cell_type": "markdown",
      "metadata": {
        "id": "lqE72hXSBbBR"
      },
      "source": [
        "### Exercise 11"
      ]
    },
    {
      "cell_type": "markdown",
      "metadata": {
        "id": "xhpPy_LbBoKQ"
      },
      "source": [
        "In what follows we will implement a `train_GAN` function that takes the two models `D` and `G` we defined above. Fill in the blanks."
      ]
    },
    {
      "cell_type": "code",
      "metadata": {
        "id": "KTykW12kCAcE"
      },
      "source": [
        "classification_loss = torch.nn.BCELoss()\n",
        "\n",
        "def train_GAN(\n",
        "    D: GAN_Discriminator,\n",
        "    G: GAN_Generator,\n",
        "    opt_D: torch.optim.Optimizer,\n",
        "    opt_G: torch.optim.Optimizer,\n",
        "    data_loader: DataLoader,\n",
        "    epochs: int\n",
        "  ):\n",
        "  for epoch in range(epochs):\n",
        "    running_loss_D, running_loss_G = 0.0, 0.0\n",
        "    for real_batch, in data_loader:\n",
        "      real_batch = real_batch.to(device)\n",
        "      \n",
        "      # Getting random zs\n",
        "      batch_size, _ = real_batch.shape\n",
        "\n",
        "      ##! Create a random vector of shape (batch_size, 2), finish with .to(device) \n",
        "      random_z = torch.rand(batch_size,2).to(device)\n",
        "\n",
        "      # Minimizing w.r.t. D\n",
        "      D.train()\n",
        "      opt_D.zero_grad()\n",
        "\n",
        "      ## Computing the Discriminator at both\n",
        "      D_at_x = D(real_batch)\n",
        "      G_at_z = G(random_z)\n",
        "\n",
        "      ### Correctly classifying the real ones\n",
        "      loss_D_reals = classification_loss(\n",
        "          D_at_x,\n",
        "          torch.ones(batch_size, 1).to(device)\n",
        "      )\n",
        "\n",
        "      ### Correctly classifying the fake ones\n",
        "      loss_D_fakes = classification_loss(\n",
        "          D(G_at_z.detach()),\n",
        "          torch.zeros(batch_size, 1).to(device)\n",
        "      )\n",
        "\n",
        "      ##! Take the average of loss_D_reals and loss_D_fakes\n",
        "      #loss_D = loss_function(loss_D_reals, loss_D_fakes)\n",
        "      loss_D = (loss_D_reals + loss_D_fakes) / 2\n",
        "\n",
        "      ##! Optimizer step. Fill in the blanks.\n",
        "      running_loss_D += loss_D.item()\n",
        "      loss_D.backward()\n",
        "      opt_D.step()\n",
        "\n",
        "      D.eval()\n",
        "\n",
        "      # Maximizing w.r.t G\n",
        "      G.train()\n",
        "      opt_G.zero_grad()\n",
        "\n",
        "      ## Computing fakes with G.\n",
        "      G_at_z = G(random_z)\n",
        "\n",
        "      ## Computing the missclassification of the Discriminator\n",
        "      loss_G = classification_loss(\n",
        "          D(G_at_z),\n",
        "          torch.ones(batch_size, 1).to(device)\n",
        "      )\n",
        "      \n",
        "      ##! Optimizer step. Fill in the blanks\n",
        "      running_loss_G += loss_G.item()\n",
        "      loss_G.backward()\n",
        "      opt_G.step()\n",
        "\n",
        "      G.eval()\n",
        "\n",
        "    # Printing utilities. Don't worry about this.\n",
        "    if epoch % 10 == 0 or epoch == epochs - 1:\n",
        "      print(f\"Epoch {epoch}, loss D: {running_loss_D/len(data_loader):.5f}, loss G: {running_loss_G/len(data_loader):.5f}\")\n",
        "      print(\"Random samples:\")\n",
        "      _, axes = plt.subplots(1, 3)\n",
        "      for fake_img, ax in zip(G_at_z, axes):\n",
        "        ax.axis(\"off\")\n",
        "        img = fake_img.view(28, 28).cpu().detach().numpy()\n",
        "        ax.imshow(img, vmin=0, vmax=1)\n",
        "\n",
        "      plt.show()\n",
        "      plt.close()"
      ],
      "execution_count": null,
      "outputs": []
    },
    {
      "cell_type": "markdown",
      "metadata": {
        "id": "Ov1vh76KZTpV"
      },
      "source": [
        "We will train this GAN for 100 epochs.\n",
        "1. Start by defining instances of our generator and discriminator (remember to use `.to(device)`)\n",
        "2. Define two optimizers (one for each network), and set a learning rate less than or equal to `0.001`.\n",
        "3. Run the `train_GAN` function with 100 epochs."
      ]
    },
    {
      "cell_type": "code",
      "metadata": {
        "colab": {
          "base_uri": "https://localhost:8080/",
          "height": 1000
        },
        "id": "YpcfkoqWCS7j",
        "outputId": "aab29d16-ee40-4f99-fe72-f400ec824bde"
      },
      "source": [
        "dataset = TensorDataset(x)\n",
        "data_loader = DataLoader(dataset, batch_size=64, shuffle=True)\n",
        "device = torch.device(\"cuda\" if torch.cuda.is_available() else \"cpu\")\n",
        "\n",
        "n_epochs = 100\n",
        "lr = 0.001\n",
        "\n",
        "D = GAN_Discriminator().to(device)\n",
        "G = GAN_Generator().to(device)\n",
        "\n",
        "opt_G = torch.optim.Adam(G.parameters(), lr=lr)\n",
        "opt_D = torch.optim.Adam(D.parameters(), lr=lr)\n",
        "\n",
        "\n",
        "train_GAN(D, G, opt_D, opt_G, data_loader, n_epochs)"
      ],
      "execution_count": null,
      "outputs": [
        {
          "output_type": "stream",
          "text": [
            "Epoch 0, loss D: 0.04886, loss G: 5.78858\n",
            "Random samples:\n"
          ],
          "name": "stdout"
        },
        {
          "output_type": "display_data",
          "data": {
            "image/png": "[encoded data removed]",
            "text/plain": [
              "<Figure size 432x288 with 3 Axes>"
            ]
          },
          "metadata": {
            "needs_background": "light"
          }
        },
        {
          "output_type": "stream",
          "text": [
            "Epoch 10, loss D: 0.00152, loss G: 11.50864\n",
            "Random samples:\n"
          ],
          "name": "stdout"
        },
        {
          "output_type": "display_data",
          "data": {
            "image/png": "[encoded data removed]",
            "text/plain": [
              "<Figure size 432x288 with 3 Axes>"
            ]
          },
          "metadata": {
            "needs_background": "light"
          }
        },
        {
          "output_type": "stream",
          "text": [
            "Epoch 20, loss D: 0.00000, loss G: 48.32957\n",
            "Random samples:\n"
          ],
          "name": "stdout"
        },
        {
          "output_type": "display_data",
          "data": {
            "image/png": "[encoded data removed]",
            "text/plain": [
              "<Figure size 432x288 with 3 Axes>"
            ]
          },
          "metadata": {
            "needs_background": "light"
          }
        },
        {
          "output_type": "stream",
          "text": [
            "Epoch 30, loss D: 0.00000, loss G: 46.17228\n",
            "Random samples:\n"
          ],
          "name": "stdout"
        },
        {
          "output_type": "display_data",
          "data": {
            "image/png": "[encoded data removed]",
            "text/plain": [
              "<Figure size 432x288 with 3 Axes>"
            ]
          },
          "metadata": {
            "needs_background": "light"
          }
        },
        {
          "output_type": "stream",
          "text": [
            "Epoch 40, loss D: 0.00034, loss G: 17.90833\n",
            "Random samples:\n"
          ],
          "name": "stdout"
        },
        {
          "output_type": "display_data",
          "data": {
            "image/png": "[encoded data removed]",
            "text/plain": [
              "<Figure size 432x288 with 3 Axes>"
            ]
          },
          "metadata": {
            "needs_background": "light"
          }
        },
        {
          "output_type": "stream",
          "text": [
            "Epoch 50, loss D: 0.00000, loss G: 60.24365\n",
            "Random samples:\n"
          ],
          "name": "stdout"
        },
        {
          "output_type": "display_data",
          "data": {
            "image/png": "[encoded data removed]",
            "text/plain": [
              "<Figure size 432x288 with 3 Axes>"
            ]
          },
          "metadata": {
            "needs_background": "light"
          }
        },
        {
          "output_type": "stream",
          "text": [
            "Epoch 60, loss D: 0.00000, loss G: 72.02202\n",
            "Random samples:\n"
          ],
          "name": "stdout"
        },
        {
          "output_type": "display_data",
          "data": {
            "image/png": "[encoded data removed]",
            "text/plain": [
              "<Figure size 432x288 with 3 Axes>"
            ]
          },
          "metadata": {
            "needs_background": "light"
          }
        },
        {
          "output_type": "stream",
          "text": [
            "Epoch 70, loss D: 0.00000, loss G: 71.98464\n",
            "Random samples:\n"
          ],
          "name": "stdout"
        },
        {
          "output_type": "display_data",
          "data": {
            "image/png": "[encoded data removed]",
            "text/plain": [
              "<Figure size 432x288 with 3 Axes>"
            ]
          },
          "metadata": {
            "needs_background": "light"
          }
        },
        {
          "output_type": "stream",
          "text": [
            "Epoch 80, loss D: 0.00000, loss G: 71.44210\n",
            "Random samples:\n"
          ],
          "name": "stdout"
        },
        {
          "output_type": "display_data",
          "data": {
            "image/png": "[encoded data removed]",
            "text/plain": [
              "<Figure size 432x288 with 3 Axes>"
            ]
          },
          "metadata": {
            "needs_background": "light"
          }
        },
        {
          "output_type": "stream",
          "text": [
            "Epoch 90, loss D: 0.00000, loss G: 70.02797\n",
            "Random samples:\n"
          ],
          "name": "stdout"
        },
        {
          "output_type": "display_data",
          "data": {
            "image/png": "[encoded data removed]",
            "text/plain": [
              "<Figure size 432x288 with 3 Axes>"
            ]
          },
          "metadata": {
            "needs_background": "light"
          }
        },
        {
          "output_type": "stream",
          "text": [
            "Epoch 99, loss D: 0.00000, loss G: 69.31100\n",
            "Random samples:\n"
          ],
          "name": "stdout"
        },
        {
          "output_type": "display_data",
          "data": {
            "image/png": "[encoded data removed]",
            "text/plain": [
              "<Figure size 432x288 with 3 Axes>"
            ]
          },
          "metadata": {
            "needs_background": "light"
          }
        }
      ]
    },
    {
      "cell_type": "markdown",
      "metadata": {
        "id": "6UnV5lIAGgiK"
      },
      "source": [
        "### Exercise 12"
      ]
    },
    {
      "cell_type": "markdown",
      "metadata": {
        "id": "OoAygUpbV59e"
      },
      "source": [
        "1. Get a random vector `z` of shape `(1000, 2)` using `torch.randn`.\n",
        "2. Get the generated images for said `z` using our generator `G`.\n",
        "3. Plot them in the latent space using the auxiliary function we provide."
      ]
    },
    {
      "cell_type": "code",
      "metadata": {
        "id": "yb8idkK5XKHI"
      },
      "source": [
        "from matplotlib.offsetbox import OffsetImage, AnnotationBbox\n",
        "\n",
        "def plot_images(z: torch.Tensor, fakes: torch.Tensor):\n",
        "  \"\"\"\n",
        "  Plots the fake images in {fakes} at positions {z}.\n",
        "  \"\"\"\n",
        "  _, ax = plt.subplots(1, 1)\n",
        "\n",
        "  z = z.cpu().detach().numpy()\n",
        "  images = fakes.view(fakes.shape[0], 28, 28)\n",
        "  images = images.cpu().detach().numpy()\n",
        "\n",
        "  for zi, img in zip(z, images):\n",
        "    im = OffsetImage(img, zoom=0.5)\n",
        "    ab = AnnotationBbox(im, zi, xycoords='data', frameon=False)\n",
        "    ax.add_artist(ab)\n",
        "    ax.update_datalim([zi])\n",
        "    ax.autoscale()"
      ],
      "execution_count": null,
      "outputs": []
    },
    {
      "cell_type": "code",
      "metadata": {
        "colab": {
          "base_uri": "https://localhost:8080/",
          "height": 265
        },
        "id": "VBNkGDYBXM4A",
        "outputId": "19298f0a-7054-4eff-b78e-bd3fdd984874"
      },
      "source": [
        "z = torch.rand(1000,2).to(device)\n",
        "fakes = G(z)\n",
        "plot_images(z, fakes)"
      ],
      "execution_count": null,
      "outputs": [
        {
          "output_type": "display_data",
          "data": {
            "image/png": "[encoded data removed]",
            "text/plain": [
              "<Figure size 432x288 with 1 Axes>"
            ]
          },
          "metadata": {
            "needs_background": "light"
          }
        }
      ]
    }
  ]
}