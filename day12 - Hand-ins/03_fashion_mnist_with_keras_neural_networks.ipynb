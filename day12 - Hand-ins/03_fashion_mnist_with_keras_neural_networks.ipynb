{
  "nbformat": 4,
  "nbformat_minor": 2,
  "metadata": {
    "kernelspec": {
      "name": "python3",
      "display_name": "Python 3.8.10 64-bit ('AI_ITU': conda)"
    },
    "language_info": {
      "name": "python",
      "version": "3.8.10",
      "mimetype": "text/x-python",
      "codemirror_mode": {
        "name": "ipython",
        "version": 3
      },
      "pygments_lexer": "ipython3",
      "nbconvert_exporter": "python",
      "file_extension": ".py"
    },
    "colab": {
      "name": "fashion-mnist-with-keras-neural-networks.ipynb",
      "provenance": []
    },
    "interpreter": {
      "hash": "529a06fb4068a4b13268933b910005f265dccc230859ef1ec378adb85153fb8f"
    }
  },
  "cells": [
    {
      "cell_type": "markdown",
      "source": [
        "## Implement and apply a Two layer neural network classifier with Keras\n",
        "\n",
        "### MNIST and Fashion-MNIST dataset\n",
        "The original [MNIST dataset](http://yann.lecun.com/exdb/mnist/) contains a lot of handwritten digits. Members of the AI/ML/Data Science community love this dataset and use it as a benchmark to validate their algorithms. In fact, MNIST is often the first dataset researchers try. *\"If it doesn't work on **MNIST**, it won't work at all\"*, they said. *\"Well, if it does work on MNIST, it may still fail on others.\"*  \n",
        "Here are some good reasons for using [Fashion-MNIST dataset](https://github.com/zalandoresearch/fashion-mnist):  \n",
        "- MNIST is too easy. Convolutional nets can achieve 99.7% on MNIST. Classic machine learning algorithms can also achieve 97% easily. Check out our side-by-side benchmark for Fashion-MNIST vs. MNIST, and read \"Most pairs of MNIST digits can be distinguished pretty well by just one pixel.\"\n",
        "- MNIST is overused. In this April 2017 Twitter thread, Google Brain research scientist and deep learning expert Ian Goodfellow calls for people to move away from MNIST.\n",
        "- MNIST can not represent modern CV tasks, as noted in this April 2017 Twitter thread, deep learning expert/Keras author François Chollet.\n",
        "\n",
        "\n",
        "# Task 1:\n",
        "Find Fashion MNIST on the internet and save it as `./input`"
      ],
      "metadata": {
        "_uuid": "5dbc8f61ce01988614b8bea0bc878ccc603c32b9",
        "id": "1WV0mfSRo1NC"
      }
    },
    {
      "cell_type": "markdown",
      "source": [
        "## Import packages"
      ],
      "metadata": {
        "_uuid": "aba7736343f2285046a25c48c0fd5bdd59dc9785",
        "id": "oaNNIwIto1NE"
      }
    },
    {
      "cell_type": "code",
      "execution_count": 127,
      "source": [
        "#!/usr/bin/env python3\n",
        " \n",
        "##########################################################\n",
        "# Copyright (c) Jesper Vang <jesper_vang@me.com>         #\n",
        "# Created on 4 Aug 2021                                  #\n",
        "# Version:\t0.0.1                                        #\n",
        "# What:  \t\t\t\t\t\t                         #\n",
        "##########################################################\n",
        "\n",
        "# ploting and EDA\n",
        "import matplotlib\n",
        "import matplotlib.pyplot as plt\n",
        "import seaborn as sns\n",
        "\n",
        "# packages\n",
        "import pandas as pd\n",
        "import numpy as np\n",
        "import os\n",
        "import sklearn\n",
        "import tensorflow as tf\n",
        "# import keras\n",
        "from keras.datasets import fashion_mnist\n",
        "\n",
        "from sklearn.metrics import accuracy_score, confusion_matrix\n",
        "\n",
        "\n",
        "print(f\"Matplotlib Version: {matplotlib.__version__}\")\n",
        "print(f\"Seaborn Version: {sns.__version__}\")\n",
        "\n",
        "\n",
        "print(f\"Pandas Version: {pd.__version__}\")\n",
        "print(f\"Numpy Version: {np.__version__}\")\n",
        "print(f\"Scikit-learn Version: {sklearn.__version__}\")\n",
        "print(f\"Tensorflow Version: {tf.__version__}\")\n",
        "# print(f\"Keras Version: {keras.__version__}\")\n",
        "\n",
        "np.set_printoptions(precision=4)\n",
        "\n",
        "%matplotlib inline\n",
        "\n",
        "#plt.rcParams[\"figure.figsize\"] = (10, 8)"
      ],
      "outputs": [
        {
          "output_type": "stream",
          "name": "stdout",
          "text": [
            "Matplotlib Version: 3.2.2\n",
            "Seaborn Version: 0.11.1\n",
            "Pandas Version: 1.1.5\n",
            "Numpy Version: 1.19.5\n",
            "Scikit-learn Version: 0.22.2.post1\n",
            "Tensorflow Version: 2.5.0\n"
          ]
        }
      ],
      "metadata": {
        "_uuid": "8f2839f25d086af736a60e9eeb907d3b93b6e0e5",
        "_cell_guid": "b1076dfc-b9ad-4769-8c92-a6c4dae69d19",
        "trusted": true,
        "scrolled": true,
        "id": "wVrJyvJEo1NE",
        "outputId": "222ea8c8-0e32-42db-9744-a4d7b09f1ba8",
        "colab": {
          "base_uri": "https://localhost:8080/"
        }
      }
    },
    {
      "cell_type": "markdown",
      "source": [
        "## Load the datasets\n",
        "We haven't use the CSV file because we want to load the dataset using Numpy.  \n",
        "**Notice:** If you use the `mnist_reader.py` codes from  [GitHub repository](https://github.com/zalandoresearch/fashion-mnist/blob/master/utils/mnist_reader.py), it might doesn't work. Because the `.gz` file has been unpacked."
      ],
      "metadata": {
        "_uuid": "9cc237434fdbd04f77d6a4a9434cf33ded6862cf",
        "id": "TWNlZIcpo1NF"
      }
    },
    {
      "cell_type": "markdown",
      "source": [
        "### skipping dataload with numpy"
      ],
      "metadata": {
        "id": "LNNXs2DnwMsB"
      }
    },
    {
      "cell_type": "markdown",
      "source": [
        "We split our training data into train and validate datasets, in order to train our model and validate it using the validation data set to avoid overfitting before testing the model on the test datasets which is as real-world data for our model."
      ],
      "metadata": {
        "id": "Ggr1PTe4wMsB"
      }
    },
    {
      "cell_type": "code",
      "execution_count": 128,
      "source": [
        "(X_train_full, y_train_full), (X_test, y_test) = fashion_mnist.load_data()\n"
      ],
      "outputs": [],
      "metadata": {
        "id": "jAYaYe54wMsC"
      }
    },
    {
      "cell_type": "code",
      "execution_count": 129,
      "source": [
        "print(f'X_train_full shape: {str(X_train_full.shape)}')\n",
        "print(f'y_train_full shape: {str(y_train_full.shape)}')\n",
        "print(f'X_test shape: {str(X_test.shape)}')\n",
        "print(f'y_test shape: {str(y_test.shape)}')\n",
        "print(f'Number of training examples: {str(y_train_full.shape[0])}')\n",
        "print(f'Number of testing examples:{str(y_test.shape[0])}')"
      ],
      "outputs": [
        {
          "output_type": "stream",
          "name": "stdout",
          "text": [
            "X_train_full shape: (60000, 28, 28)\n",
            "y_train_full shape: (60000,)\n",
            "X_test shape: (10000, 28, 28)\n",
            "y_test shape: (10000,)\n",
            "Number of training examples: 60000\n",
            "Number of testing examples:10000\n"
          ]
        }
      ],
      "metadata": {
        "trusted": true,
        "_uuid": "e5dc172684d46547d8f0f37d3bf7a6bd4ef9dbcb",
        "scrolled": false,
        "id": "GhpTMUpto1NG",
        "outputId": "fcf5a350-a27a-4f45-8c8d-3cd825eee389",
        "colab": {
          "base_uri": "https://localhost:8080/"
        }
      }
    },
    {
      "cell_type": "markdown",
      "source": [
        "Note that the dataset is already split into a training set and a test set, but there is no validation set, so we’ll create one now"
      ],
      "metadata": {
        "id": "yL579DjfwMsC"
      }
    },
    {
      "cell_type": "markdown",
      "source": [
        "## Further split into Validation and Preproces\n",
        "Additionally, since we are going to train the neural network using Gradient Descent, we must scale the input features. For simplicity, we’ll scale the pixel intensities down to the 0–1 range by dividing them by 255.0 (this also converts them to floats):"
      ],
      "metadata": {
        "id": "YKbBZr61wMsD"
      }
    },
    {
      "cell_type": "code",
      "execution_count": 130,
      "source": [
        "# Split the data into train / validation / test\n",
        "X_valid, X_train = X_train_full[:5000] / 255.0, X_train_full[5000:] / 255.0\n",
        "y_valid, y_train = y_train_full[:5000], y_train_full[5000:]\n",
        "\n",
        "print (f\"Number of validation examples: X_valid {str(X_valid.shape)}\")\n",
        "print (f\"Number of training examples: X_train {str(X_train.shape)}\")\n",
        "print (f\"Number of testing examples: X_test {str(X_test.shape)}\")"
      ],
      "outputs": [
        {
          "output_type": "stream",
          "name": "stdout",
          "text": [
            "Number of validation examples: X_valid (5000, 28, 28)\n",
            "Number of training examples: X_train (55000, 28, 28)\n",
            "Number of testing examples: X_test (10000, 28, 28)\n"
          ]
        }
      ],
      "metadata": {
        "id": "2cmJr7ETwMsD",
        "outputId": "41d7cfc4-dacf-4910-9a7c-84f59d988e70",
        "colab": {
          "base_uri": "https://localhost:8080/"
        }
      }
    },
    {
      "cell_type": "markdown",
      "source": [
        "When loading MNIST or Fashion MNIST using Keras rather than Scikit-Learn, one important difference is that every image is represented as a 28 × 28 array rather than a 1D array of size 784. Moreover, the pixel intensities are represented as integers (from 0 to 255) rather than floats (from 0.0 to 255.0). Let’s take a look at the shape and data type of the training set:"
      ],
      "metadata": {
        "id": "ooF2MNZpwMsD"
      }
    },
    {
      "cell_type": "code",
      "execution_count": 131,
      "source": [
        "print(X_train_full.shape)\n",
        "print(X_train_full.dtype)"
      ],
      "outputs": [
        {
          "output_type": "stream",
          "name": "stdout",
          "text": [
            "(60000, 28, 28)\n",
            "uint8\n"
          ]
        }
      ],
      "metadata": {
        "id": "Q590HntgwMsE",
        "outputId": "f23f9066-a974-4dd7-ea59-0989f5a255aa",
        "colab": {
          "base_uri": "https://localhost:8080/"
        }
      }
    },
    {
      "cell_type": "code",
      "execution_count": 132,
      "source": [
        "# random check with nine training examples\n",
        "np.random.seed(0);\n",
        "indices = list(np.random.randint(y_train.shape[0],size=9))\n",
        "for i in range(9):\n",
        "    plt.subplot(3,3,i+1)\n",
        "    plt.imshow(X_train[indices[i]].reshape(28,28), cmap='gray', interpolation='none')\n",
        "    plt.title(f\"Index {indices[i]} Class {y_train[indices[i]]}\")\n",
        "    plt.tight_layout()"
      ],
      "outputs": [
        {
          "output_type": "display_data",
          "data": {
            "text/plain": [
              "<Figure size 432x288 with 9 Axes>"
            ],
            "image/png": "[encoded data removed]"
          },
          "metadata": {
            "tags": [],
            "needs_background": "light"
          }
        }
      ],
      "metadata": {
        "trusted": true,
        "_uuid": "efeff328c6964df7b6099c9e65f4533ab115dd52",
        "scrolled": true,
        "id": "X5f5nH3lo1NH",
        "outputId": "6ed0d1ac-8683-4377-a5a0-3d50bae945a2",
        "colab": {
          "base_uri": "https://localhost:8080/",
          "height": 297
        }
      }
    },
    {
      "cell_type": "markdown",
      "source": [
        "| 0           | 1       | 2        | 3     | 4    | 5     | 6     | 7       | 8    | 9          |\n",
        "| ----------- | ------- | -------- | ----- | ---- | ----- | ----- | ------- | ---- | ---------- |\n",
        "| T-shirt/top | Trouser | Pullover | Dress | Coat | Sanda | Shirt | Sneaker | Bag  | Ankle boot |\n"
      ],
      "metadata": {
        "_uuid": "4457d2213139ebf65c0eff199d283da772a20245",
        "id": "nkXgY8uvo1NH"
      }
    },
    {
      "cell_type": "code",
      "execution_count": 133,
      "source": [
        "print(\"Feature Values: \\nFrom \" + str(np.min(X_train)) + \" to \" + str(np.max(X_train)))\n",
        "print(\"Data type: \" + str(X_train.dtype))\n",
        "print(\"\\nLabel Values: \")\n",
        "print(set(list(y_train)))\n",
        "print(\"Data type: \" + str(y_train.dtype))"
      ],
      "outputs": [
        {
          "output_type": "stream",
          "name": "stdout",
          "text": [
            "Feature Values: \n",
            "From 0.0 to 1.0\n",
            "Data type: float64\n",
            "\n",
            "Label Values: \n",
            "{0, 1, 2, 3, 4, 5, 6, 7, 8, 9}\n",
            "Data type: uint8\n"
          ]
        }
      ],
      "metadata": {
        "trusted": true,
        "_uuid": "e72f4e27e1c03fabcdb1ac046c24ef3647b9b044",
        "scrolled": true,
        "id": "cYn1enbwo1NI",
        "outputId": "a67086cc-97e3-44e3-aab4-150985892a56",
        "colab": {
          "base_uri": "https://localhost:8080/"
        }
      }
    },
    {
      "cell_type": "markdown",
      "source": [
        "## Add callback function to stop the training at when a accuracy is reached\n",
        "fit() method accepts a callbacks argument that lets you specify a list of objects that Keras will call at the start and end of training, each epoch and before and after processing each batch."
      ],
      "metadata": {
        "id": "M-t8iT27BlS7"
      }
    },
    {
      "cell_type": "code",
      "execution_count": 134,
      "source": [
        "class myCallback(tf.keras.callbacks.Callback):\n",
        "  def on_epoch_end(self, epoch, logs={}):\n",
        "    if(logs.get('accuracy')>0.96):\n",
        "      print(\"\\nReached 96% accuracy so cancelling training!\")\n",
        "      self.model.stop_training = True"
      ],
      "outputs": [],
      "metadata": {
        "id": "XvM9MyJEwMsF"
      }
    },
    {
      "cell_type": "markdown",
      "source": [
        "## Initialize the neural network with Keras"
      ],
      "metadata": {
        "_uuid": "7c4802b4a024d30f949f7859511c93d5af383d95",
        "id": "HVZzxruCo1NI"
      }
    },
    {
      "cell_type": "code",
      "execution_count": 135,
      "source": [
        "# Simple classification MLP with two hidden layers:\n",
        "callbacks = myCallback()\n",
        "model = tf.keras.models.Sequential([\n",
        "    keras.layers.Flatten(input_shape=[28, 28]),\n",
        "    keras.layers.Dense(300, activation=\"relu\"),\n",
        "    keras.layers.Dense(100, activation=\"relu\"),\n",
        "    keras.layers.Dense(10, activation=\"softmax\")\n",
        "])"
      ],
      "outputs": [],
      "metadata": {
        "trusted": true,
        "_uuid": "8cf77fab4c742286fad45ab1e91baa7550616261",
        "id": "0U8tWvj0o1NJ"
      }
    },
    {
      "cell_type": "markdown",
      "source": [
        "## Train your network"
      ],
      "metadata": {
        "_uuid": "d5bd190cb03a1b59a1b06a7b3410f0058c36da2d",
        "id": "SytJ_P3Do1NL"
      }
    },
    {
      "cell_type": "code",
      "execution_count": 136,
      "source": [
        "model.compile(loss=\"sparse_categorical_crossentropy\",\n",
        "        optimizer=\"adam\",\n",
        "        metrics=[\"accuracy\"])"
      ],
      "outputs": [],
      "metadata": {
        "trusted": true,
        "_uuid": "aaebb656111f9806e88f8663f09d282f5548b55d",
        "scrolled": true,
        "id": "OPprpt-4o1NM"
      }
    },
    {
      "cell_type": "code",
      "execution_count": 137,
      "source": [
        "history = model.fit(X_train, y_train, epochs=50, callbacks=[callbacks], validation_data=(X_valid, y_valid))"
      ],
      "outputs": [
        {
          "output_type": "stream",
          "name": "stdout",
          "text": [
            "Epoch 1/40\n",
            "1719/1719 [==============================] - 7s 4ms/step - loss: 0.4833 - accuracy: 0.8267 - val_loss: 0.3706 - val_accuracy: 0.8654\n",
            "Epoch 2/40\n",
            "1719/1719 [==============================] - 7s 4ms/step - loss: 0.3649 - accuracy: 0.8664 - val_loss: 0.3306 - val_accuracy: 0.8836\n",
            "Epoch 3/40\n",
            "1719/1719 [==============================] - 7s 4ms/step - loss: 0.3295 - accuracy: 0.8767 - val_loss: 0.3142 - val_accuracy: 0.8868\n",
            "Epoch 4/40\n",
            "1719/1719 [==============================] - 7s 4ms/step - loss: 0.3046 - accuracy: 0.8871 - val_loss: 0.3481 - val_accuracy: 0.8708\n",
            "Epoch 5/40\n",
            "1719/1719 [==============================] - 7s 4ms/step - loss: 0.2851 - accuracy: 0.8936 - val_loss: 0.3027 - val_accuracy: 0.8884\n",
            "Epoch 6/40\n",
            "1719/1719 [==============================] - 7s 4ms/step - loss: 0.2706 - accuracy: 0.8975 - val_loss: 0.3401 - val_accuracy: 0.8756\n",
            "Epoch 7/40\n",
            "1719/1719 [==============================] - 7s 4ms/step - loss: 0.2567 - accuracy: 0.9026 - val_loss: 0.3215 - val_accuracy: 0.8852\n",
            "Epoch 8/40\n",
            "1719/1719 [==============================] - 7s 4ms/step - loss: 0.2471 - accuracy: 0.9065 - val_loss: 0.3060 - val_accuracy: 0.8914\n",
            "Epoch 9/40\n",
            "1719/1719 [==============================] - 7s 4ms/step - loss: 0.2374 - accuracy: 0.9096 - val_loss: 0.2943 - val_accuracy: 0.8970\n",
            "Epoch 10/40\n",
            "1719/1719 [==============================] - 7s 4ms/step - loss: 0.2255 - accuracy: 0.9143 - val_loss: 0.3077 - val_accuracy: 0.8928\n",
            "Epoch 11/40\n",
            "1719/1719 [==============================] - 7s 4ms/step - loss: 0.2177 - accuracy: 0.9170 - val_loss: 0.3225 - val_accuracy: 0.8928\n",
            "Epoch 12/40\n",
            "1719/1719 [==============================] - 7s 4ms/step - loss: 0.2093 - accuracy: 0.9185 - val_loss: 0.3230 - val_accuracy: 0.8956\n",
            "Epoch 13/40\n",
            "1719/1719 [==============================] - 7s 4ms/step - loss: 0.2032 - accuracy: 0.9220 - val_loss: 0.3323 - val_accuracy: 0.8910\n",
            "Epoch 14/40\n",
            "1719/1719 [==============================] - 7s 4ms/step - loss: 0.1940 - accuracy: 0.9254 - val_loss: 0.3685 - val_accuracy: 0.8842\n",
            "Epoch 15/40\n",
            "1719/1719 [==============================] - 7s 4ms/step - loss: 0.1892 - accuracy: 0.9273 - val_loss: 0.3320 - val_accuracy: 0.8948\n",
            "Epoch 16/40\n",
            "1719/1719 [==============================] - 7s 4ms/step - loss: 0.1824 - accuracy: 0.9295 - val_loss: 0.3456 - val_accuracy: 0.8958\n",
            "Epoch 17/40\n",
            "1719/1719 [==============================] - 7s 4ms/step - loss: 0.1771 - accuracy: 0.9311 - val_loss: 0.3340 - val_accuracy: 0.8970\n",
            "Epoch 18/40\n",
            "1719/1719 [==============================] - 7s 4ms/step - loss: 0.1722 - accuracy: 0.9343 - val_loss: 0.3538 - val_accuracy: 0.8928\n",
            "Epoch 19/40\n",
            "1719/1719 [==============================] - 7s 4ms/step - loss: 0.1662 - accuracy: 0.9364 - val_loss: 0.3275 - val_accuracy: 0.8978\n",
            "Epoch 20/40\n",
            "1719/1719 [==============================] - 7s 4ms/step - loss: 0.1622 - accuracy: 0.9379 - val_loss: 0.3522 - val_accuracy: 0.8970\n",
            "Epoch 21/40\n",
            "1719/1719 [==============================] - 7s 4ms/step - loss: 0.1563 - accuracy: 0.9403 - val_loss: 0.3490 - val_accuracy: 0.8940\n",
            "Epoch 22/40\n",
            "1719/1719 [==============================] - 7s 4ms/step - loss: 0.1530 - accuracy: 0.9412 - val_loss: 0.3555 - val_accuracy: 0.8930\n",
            "Epoch 23/40\n",
            "1719/1719 [==============================] - 7s 4ms/step - loss: 0.1522 - accuracy: 0.9414 - val_loss: 0.3983 - val_accuracy: 0.9032\n",
            "Epoch 24/40\n",
            "1719/1719 [==============================] - 7s 4ms/step - loss: 0.1451 - accuracy: 0.9444 - val_loss: 0.4052 - val_accuracy: 0.8900\n",
            "Epoch 25/40\n",
            "1719/1719 [==============================] - 7s 4ms/step - loss: 0.1423 - accuracy: 0.9450 - val_loss: 0.3844 - val_accuracy: 0.9002\n",
            "Epoch 26/40\n",
            "1719/1719 [==============================] - 7s 4ms/step - loss: 0.1418 - accuracy: 0.9460 - val_loss: 0.3719 - val_accuracy: 0.8952\n",
            "Epoch 27/40\n",
            "1719/1719 [==============================] - 7s 4ms/step - loss: 0.1327 - accuracy: 0.9490 - val_loss: 0.3853 - val_accuracy: 0.9016\n",
            "Epoch 28/40\n",
            "1719/1719 [==============================] - 7s 4ms/step - loss: 0.1295 - accuracy: 0.9501 - val_loss: 0.4308 - val_accuracy: 0.8970\n",
            "Epoch 29/40\n",
            "1719/1719 [==============================] - 6s 4ms/step - loss: 0.1335 - accuracy: 0.9494 - val_loss: 0.3872 - val_accuracy: 0.8978\n",
            "Epoch 30/40\n",
            "1719/1719 [==============================] - 7s 4ms/step - loss: 0.1245 - accuracy: 0.9522 - val_loss: 0.4531 - val_accuracy: 0.8976\n",
            "Epoch 31/40\n",
            "1719/1719 [==============================] - 7s 4ms/step - loss: 0.1230 - accuracy: 0.9530 - val_loss: 0.4182 - val_accuracy: 0.8944\n",
            "Epoch 32/40\n",
            "1719/1719 [==============================] - 7s 4ms/step - loss: 0.1222 - accuracy: 0.9523 - val_loss: 0.4404 - val_accuracy: 0.9008\n",
            "Epoch 33/40\n",
            "1719/1719 [==============================] - 7s 4ms/step - loss: 0.1168 - accuracy: 0.9548 - val_loss: 0.4314 - val_accuracy: 0.9024\n",
            "Epoch 34/40\n",
            "1719/1719 [==============================] - 6s 4ms/step - loss: 0.1161 - accuracy: 0.9550 - val_loss: 0.4375 - val_accuracy: 0.8994\n",
            "Epoch 35/40\n",
            "1719/1719 [==============================] - 7s 4ms/step - loss: 0.1114 - accuracy: 0.9567 - val_loss: 0.4405 - val_accuracy: 0.8980\n",
            "Epoch 36/40\n",
            "1719/1719 [==============================] - 6s 4ms/step - loss: 0.1094 - accuracy: 0.9586 - val_loss: 0.4872 - val_accuracy: 0.8900\n",
            "Epoch 37/40\n",
            "1719/1719 [==============================] - 7s 4ms/step - loss: 0.1105 - accuracy: 0.9583 - val_loss: 0.5229 - val_accuracy: 0.8964\n",
            "Epoch 38/40\n",
            "1719/1719 [==============================] - 7s 4ms/step - loss: 0.1049 - accuracy: 0.9598 - val_loss: 0.4664 - val_accuracy: 0.8964\n",
            "Epoch 39/40\n",
            "1719/1719 [==============================] - 7s 4ms/step - loss: 0.1057 - accuracy: 0.9602 - val_loss: 0.5232 - val_accuracy: 0.8996\n",
            "\n",
            "Reached 96% accuracy so cancelling training!\n"
          ]
        }
      ],
      "metadata": {
        "trusted": true,
        "_uuid": "b59c706ae21525d11ad5722d06607bc359100ede",
        "scrolled": false,
        "id": "Io9YQejPo1NM",
        "outputId": "04a3df2b-fe3c-4293-feee-73b90b26b91a",
        "colab": {
          "base_uri": "https://localhost:8080/"
        }
      }
    },
    {
      "cell_type": "code",
      "execution_count": 138,
      "source": [
        "model.summary()"
      ],
      "outputs": [
        {
          "output_type": "stream",
          "name": "stdout",
          "text": [
            "Model: \"sequential_3\"\n",
            "_________________________________________________________________\n",
            "Layer (type)                 Output Shape              Param #   \n",
            "=================================================================\n",
            "module_wrapper_12 (ModuleWra (None, 784)               0         \n",
            "_________________________________________________________________\n",
            "module_wrapper_13 (ModuleWra (None, 300)               235500    \n",
            "_________________________________________________________________\n",
            "module_wrapper_14 (ModuleWra (None, 100)               30100     \n",
            "_________________________________________________________________\n",
            "module_wrapper_15 (ModuleWra (None, 10)                1010      \n",
            "=================================================================\n",
            "Total params: 266,610\n",
            "Trainable params: 266,610\n",
            "Non-trainable params: 0\n",
            "_________________________________________________________________\n"
          ]
        }
      ],
      "metadata": {
        "id": "CWs2IaK3EeXn",
        "outputId": "d8d1fdbd-e2f7-430a-e3b5-33718cfbf805",
        "colab": {
          "base_uri": "https://localhost:8080/"
        }
      }
    },
    {
      "cell_type": "markdown",
      "source": [
        "## Print the training vs validation curves\n",
        "\n"
      ],
      "metadata": {
        "_uuid": "d9816eff48579c48546ea94ba0659c9ddcc3f766",
        "id": "uYY4T5Veo1NM"
      }
    },
    {
      "cell_type": "code",
      "execution_count": 139,
      "source": [
        "pd.DataFrame(history.history).plot(figsize=(8, 5)) \n",
        "plt.grid(True)\n",
        "plt.gca().set_ylim(0, 1) # set the vertical range to [0-1] \n",
        "plt.show()"
      ],
      "outputs": [
        {
          "output_type": "display_data",
          "data": {
            "text/plain": [
              "<Figure size 576x360 with 1 Axes>"
            ],
            "image/png": "[encoded data removed]"
          },
          "metadata": {
            "tags": [],
            "needs_background": "light"
          }
        }
      ],
      "metadata": {
        "trusted": true,
        "_uuid": "e1a9bcbe3b680acab4e3c9158a85109331f48580",
        "id": "WZOkoVw4o1NN",
        "outputId": "870bdbe4-3e82-4e7a-f500-039b08416a9a",
        "colab": {
          "base_uri": "https://localhost:8080/",
          "height": 324
        }
      }
    },
    {
      "cell_type": "markdown",
      "source": [
        "## Caclulate the Accuracy and F1 metric"
      ],
      "metadata": {
        "id": "S69kmNvcuF3J"
      }
    },
    {
      "cell_type": "code",
      "execution_count": 140,
      "source": [
        "from sklearn.metrics import accuracy_score\n",
        "\n",
        "\n",
        "y_pred_nn = np.argmax(model.predict(X_test), axis=-1)\n",
        "perf = accuracy_score(y_test, y_pred_nn)\n",
        "print(f\"Accuracy score: {perf}\")"
      ],
      "outputs": [
        {
          "output_type": "stream",
          "name": "stdout",
          "text": [
            "Accuracy score: 0.8714\n"
          ]
        }
      ],
      "metadata": {
        "id": "NbTatClq6xz9",
        "outputId": "b4a67737-b3f1-4806-eca6-2293a5772537",
        "colab": {
          "base_uri": "https://localhost:8080/"
        }
      }
    },
    {
      "cell_type": "code",
      "execution_count": 141,
      "source": [
        "evaluation = model.evaluate(X_test, y_test)\n",
        "print(f'Test Accuracy : {evaluation[1]:.3f}')"
      ],
      "outputs": [
        {
          "output_type": "stream",
          "name": "stdout",
          "text": [
            "313/313 [==============================] - 1s 2ms/step - loss: 116.8662 - accuracy: 0.8714\n",
            "Test Accuracy : 0.871\n"
          ]
        }
      ],
      "metadata": {
        "id": "6VLF0bFt8igD",
        "outputId": "39b9ab79-d3d5-4b12-9e86-a56c3b57fd37",
        "colab": {
          "base_uri": "https://localhost:8080/"
        }
      }
    },
    {
      "cell_type": "markdown",
      "source": [
        "With the model trained, you can use it to make predictions about some images."
      ],
      "metadata": {
        "id": "VFOtAyGU9aNN"
      }
    },
    {
      "cell_type": "code",
      "execution_count": 142,
      "source": [
        "# get the predictions for the test data and pass to confusion_matrix\n",
        "from sklearn.metrics import confusion_matrix\n",
        "\n",
        "cm = confusion_matrix(y_test, y_pred_nn)\n",
        "plt.figure(figsize = (14,10))\n",
        "sns.heatmap(cm, annot=True)\n",
        "# Sum the diagonal element to get the total true correct values"
      ],
      "outputs": [
        {
          "output_type": "execute_result",
          "data": {
            "text/plain": [
              "<matplotlib.axes._subplots.AxesSubplot at 0x7facaedf57d0>"
            ]
          },
          "metadata": {
            "tags": []
          },
          "execution_count": 142
        },
        {
          "output_type": "display_data",
          "data": {
            "text/plain": [
              "<Figure size 1008x720 with 2 Axes>"
            ],
            "image/png": "[encoded data removed]"
          },
          "metadata": {
            "tags": [],
            "needs_background": "light"
          }
        }
      ],
      "metadata": {
        "id": "oADFzIwj659I",
        "outputId": "9b1615b9-09f6-4a8a-a525-c2a9828f676a",
        "colab": {
          "base_uri": "https://localhost:8080/",
          "height": 609
        }
      }
    },
    {
      "cell_type": "code",
      "execution_count": 143,
      "source": [
        "from sklearn.metrics import classification_report\n",
        "\n",
        "num_classes = 10\n",
        "target_names = [f\"Class {i}\" for i in range(num_classes)]\n",
        "\n",
        "print(classification_report(y_test, predicted_classes, target_names = target_names))"
      ],
      "outputs": [
        {
          "output_type": "stream",
          "name": "stdout",
          "text": [
            "              precision    recall  f1-score   support\n",
            "\n",
            "     Class 0       0.82      0.84      0.83      1000\n",
            "     Class 1       0.98      0.98      0.98      1000\n",
            "     Class 2       0.84      0.69      0.76      1000\n",
            "     Class 3       0.94      0.82      0.88      1000\n",
            "     Class 4       0.60      0.94      0.73      1000\n",
            "     Class 5       0.99      0.90      0.95      1000\n",
            "     Class 6       0.74      0.52      0.61      1000\n",
            "     Class 7       0.94      0.94      0.94      1000\n",
            "     Class 8       0.97      0.97      0.97      1000\n",
            "     Class 9       0.90      0.98      0.94      1000\n",
            "\n",
            "    accuracy                           0.86     10000\n",
            "   macro avg       0.87      0.86      0.86     10000\n",
            "weighted avg       0.87      0.86      0.86     10000\n",
            "\n"
          ]
        }
      ],
      "metadata": {
        "trusted": true,
        "_uuid": "c225c8302419b1c46ac972a63c0119a93ad68de3",
        "id": "c5Ggu_mUo1NN",
        "outputId": "d7832f88-4413-4d77-82cd-98d99ec23172",
        "colab": {
          "base_uri": "https://localhost:8080/"
        }
      }
    }
  ]
}